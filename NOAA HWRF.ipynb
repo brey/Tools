{
 "cells": [
  {
   "cell_type": "markdown",
   "metadata": {},
   "source": [
    "## Downloading and viewing the current HWRF data"
   ]
  },
  {
   "cell_type": "code",
   "execution_count": null,
   "metadata": {
    "collapsed": false
   },
   "outputs": [],
   "source": [
    "from ipywidgets import *\n",
    "\n",
    "import numpy as np\n",
    "import pygrib\n",
    "import matplotlib.pyplot as plt\n",
    "import datetime\n",
    "from mpl_toolkits.basemap import Basemap, shiftgrid\n",
    "\n",
    "import urllib2, urllib"
   ]
  },
  {
   "cell_type": "code",
   "execution_count": null,
   "metadata": {
    "collapsed": true
   },
   "outputs": [],
   "source": [
    "%matplotlib notebook"
   ]
  },
  {
   "cell_type": "code",
   "execution_count": null,
   "metadata": {
    "collapsed": true
   },
   "outputs": [],
   "source": [
    "# evaluate path based on date\n",
    "today=datetime.datetime.today()\n",
    "date=datetime.datetime.strftime(today,'%Y%m%d')"
   ]
  },
  {
   "cell_type": "code",
   "execution_count": null,
   "metadata": {
    "collapsed": true
   },
   "outputs": [],
   "source": [
    "#We have to options for the hour \n",
    "hh=['00','12']"
   ]
  },
  {
   "cell_type": "code",
   "execution_count": null,
   "metadata": {
    "collapsed": false
   },
   "outputs": [],
   "source": [
    "try:\n",
    " url='http://nomads.ncep.noaa.gov/pub/data/nccf/com/hur/prod/hwrf.{}/'.format(date+hh[1])\n",
    " response=urllib2.urlopen(url)\n",
    "except:\n",
    " url='http://nomads.ncep.noaa.gov/pub/data/nccf/com/hur/prod/hwrf.{}/'.format(date+hh[0])\n",
    " response=urllib2.urlopen(url)\n",
    "\n",
    "print url"
   ]
  },
  {
   "cell_type": "code",
   "execution_count": null,
   "metadata": {
    "collapsed": false
   },
   "outputs": [],
   "source": [
    "ls=response.readlines()"
   ]
  },
  {
   "cell_type": "code",
   "execution_count": null,
   "metadata": {
    "collapsed": true
   },
   "outputs": [],
   "source": [
    "lp=[elem.strip().split('href=')  for elem in ls]\n",
    "n=np.size(lp)"
   ]
  },
  {
   "cell_type": "code",
   "execution_count": null,
   "metadata": {
    "collapsed": false
   },
   "outputs": [],
   "source": [
    "cname=[]\n",
    "for i in range(n):\n",
    "     try:\n",
    "        cc=lp[i][1]\n",
    "        cname.append(cc.split('\"')[1])\n",
    "     except:\n",
    "        pass"
   ]
  },
  {
   "cell_type": "code",
   "execution_count": null,
   "metadata": {
    "collapsed": false,
    "scrolled": true
   },
   "outputs": [],
   "source": [
    "cname"
   ]
  },
  {
   "cell_type": "code",
   "execution_count": null,
   "metadata": {
    "collapsed": true
   },
   "outputs": [],
   "source": [
    "grd3=[x for x in cname if 'hwrfprs.d3.' in x]"
   ]
  },
  {
   "cell_type": "code",
   "execution_count": null,
   "metadata": {
    "collapsed": false,
    "scrolled": true
   },
   "outputs": [],
   "source": [
    "grd3"
   ]
  },
  {
   "cell_type": "code",
   "execution_count": null,
   "metadata": {
    "collapsed": false
   },
   "outputs": [],
   "source": [
    "urllib.urlretrieve(url+grd3[0], filename='tmp/'+grd3[0])"
   ]
  },
  {
   "cell_type": "code",
   "execution_count": null,
   "metadata": {
    "collapsed": true
   },
   "outputs": [],
   "source": [
    "data=pygrib.open('tmp/'+grd3[0])"
   ]
  },
  {
   "cell_type": "code",
   "execution_count": null,
   "metadata": {
    "collapsed": false
   },
   "outputs": [],
   "source": [
    "data.messages"
   ]
  },
  {
   "cell_type": "code",
   "execution_count": null,
   "metadata": {
    "collapsed": false
   },
   "outputs": [],
   "source": [
    "for g in data:\n",
    "    print g"
   ]
  },
  {
   "cell_type": "code",
   "execution_count": null,
   "metadata": {
    "collapsed": true
   },
   "outputs": [],
   "source": [
    "slp = data[1]\n",
    "u10 = data[706]\n",
    "v10 = data[707]"
   ]
  },
  {
   "cell_type": "code",
   "execution_count": null,
   "metadata": {
    "collapsed": false
   },
   "outputs": [],
   "source": [
    "latitudes=u10.latlons()[0][:,0]\n",
    "longitudes=u10.latlons()[1][0,:]"
   ]
  },
  {
   "cell_type": "code",
   "execution_count": null,
   "metadata": {
    "collapsed": false
   },
   "outputs": [],
   "source": [
    "u=u10.values\n",
    "v=v10.values\n",
    "slp=slp.values/100. # from Pa to mb\n",
    "wind=np.sqrt(u**2+v**2)"
   ]
  },
  {
   "cell_type": "code",
   "execution_count": null,
   "metadata": {
    "collapsed": false
   },
   "outputs": [],
   "source": [
    "def viewdata(var,unit,title):\n",
    "    \n",
    "    lons, lats = np.meshgrid(longitudes,latitudes)\n",
    "\n",
    "    # make orthographic basemap.\n",
    "#    m = Basemap(resolution='c',projection='ortho',lat_0=latc,lon_0=lonc)\n",
    "#   m = Basemap(projection='cea',llcrnrlat=-90,urcrnrlat=90,\\\n",
    "#            llcrnrlon=-180,urcrnrlon=180,resolution='c')\n",
    "    m = Basemap(projection='cyl',llcrnrlat=latitudes.min(),urcrnrlat=latitudes.max(),\\\n",
    "              llcrnrlon=longitudes.min(),urcrnrlon=longitudes.max(),resolution='i')\n",
    "    # create figure, add axes\n",
    "    fig1 = plt.figure(figsize=(12,10))\n",
    "    ax = fig1.add_axes([0.1,0.1,0.8,0.8])\n",
    "    # set desired contour levels.\n",
    "    clevs = np.linspace(var.min(),var.max(), 10,endpoint=True)\n",
    "\n",
    "    # compute native x,y coordinates of grid.\n",
    "    x, y = m(lons, lats)\n",
    "    # define parallels and meridians to draw.\n",
    "    parallels = np.arange(-90.,90,20.)\n",
    "    meridians = np.arange(0.,360.,20.)\n",
    "    # plot SLP contours.\n",
    " #   slpg,newlons = shiftgrid(180.,slp,longitudes,start=False)\n",
    " #   slpd,xx,yy = \\\n",
    " #   m.transform_scalar(slpg,newlons,latitudes,181,181,returnxy=True,masked=True)\n",
    "    CS1 = m.contourf(x,y,var,clevs,cmap=plt.cm.RdBu_r,animated=True)\n",
    "    CS2 = m.contour(x,y,var,clevs,linewidths=0.5,colors='k',animated=True)\n",
    "\n",
    "   # draw coastlines, parallels, meridians.\n",
    "    m.drawcoastlines(linewidth=1.5)\n",
    "    m.drawparallels(parallels)\n",
    "    m.drawmeridians(meridians)\n",
    "    # add colorbar\n",
    "    cb = m.colorbar(CS1,\"bottom\", size=\"5%\", pad=\"2%\", ticks=clevs)\n",
    "    cb.set_label(unit)\n",
    "    # set plot title\n",
    "    ax.set_title('HWRF '+title)\n",
    "    plt.show()"
   ]
  },
  {
   "cell_type": "code",
   "execution_count": null,
   "metadata": {
    "collapsed": false
   },
   "outputs": [],
   "source": [
    "viewdata(slp,'mb','pressure')"
   ]
  },
  {
   "cell_type": "code",
   "execution_count": null,
   "metadata": {
    "collapsed": false
   },
   "outputs": [],
   "source": [
    "viewdata(wind,'m/s','wind')"
   ]
  },
  {
   "cell_type": "code",
   "execution_count": null,
   "metadata": {
    "collapsed": true
   },
   "outputs": [],
   "source": [
    "\n",
    "\n",
    "\n",
    "\n",
    "\n",
    "\n",
    "\n",
    "\n",
    "\n",
    "\n",
    "\n",
    "\n",
    "\n",
    "\n",
    "\n",
    "\n",
    "\n",
    "\n",
    "\n",
    "\n",
    "\n",
    "\n",
    "\n",
    "\n",
    "\n",
    "\n",
    "\n",
    "\n"
   ]
  }
 ],
 "metadata": {
  "hide_input": false,
  "kernelspec": {
   "display_name": "Python 2",
   "language": "python",
   "name": "python2"
  },
  "language_info": {
   "codemirror_mode": {
    "name": "ipython",
    "version": 2
   },
   "file_extension": ".py",
   "mimetype": "text/x-python",
   "name": "python",
   "nbconvert_exporter": "python",
   "pygments_lexer": "ipython2",
   "version": "2.7.12"
  },
  "latex_envs": {
   "bibliofile": "biblio.bib",
   "cite_by": "apalike",
   "current_citInitial": 1,
   "eqLabelWithNumbers": true,
   "eqNumInitial": 0
  }
 },
 "nbformat": 4,
 "nbformat_minor": 0
}
