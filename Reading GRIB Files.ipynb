{
 "cells": [
  {
   "cell_type": "markdown",
   "metadata": {},
   "source": [
    "The ECMWF Tropical cyclone data are in grib format using 2 different formats, name a regular_gg (lat/lon) grid and the so called reduced_gg grid. A desciption of this grid can be seen here https://software.ecmwf.int/wiki/display/EMOS/Reduced+Gaussian+Grids. Note that the latter grid type is not in a regular format. In fact for every latitude there is a number of longitudes so that local east-west grid length remains approximately constant for all latitudes.\n",
    "\n",
    "The pygrib module can read the files like this and more importantly can also 'expand' them in regular lat,lon grids."
   ]
  },
  {
   "cell_type": "code",
   "execution_count": null,
   "metadata": {
    "collapsed": true
   },
   "outputs": [],
   "source": [
    "%matplotlib notebook"
   ]
  },
  {
   "cell_type": "code",
   "execution_count": null,
   "metadata": {
    "collapsed": true
   },
   "outputs": [],
   "source": [
    "infile='/mnt/ECMWF/grib/2016/06/18/20160618.00.tropical_cyclone.grib'\n"
   ]
  },
  {
   "cell_type": "code",
   "execution_count": null,
   "metadata": {
    "collapsed": false
   },
   "outputs": [],
   "source": [
    "import pygrib\n",
    "\n",
    "data=pygrib.open(infile)"
   ]
  },
  {
   "cell_type": "markdown",
   "metadata": {},
   "source": [
    "and then get the variables we need as messages of 'data'"
   ]
  },
  {
   "cell_type": "code",
   "execution_count": null,
   "metadata": {
    "collapsed": false,
    "scrolled": false
   },
   "outputs": [],
   "source": [
    "for g in data:\n",
    "    print g"
   ]
  },
  {
   "cell_type": "code",
   "execution_count": null,
   "metadata": {
    "collapsed": false
   },
   "outputs": [],
   "source": [
    "slp=data[1]\n",
    "u10=data[2]\n",
    "v10=data[3]"
   ]
  },
  {
   "cell_type": "markdown",
   "metadata": {},
   "source": [
    "We can see the attributes of the data as"
   ]
  },
  {
   "cell_type": "code",
   "execution_count": null,
   "metadata": {
    "collapsed": false
   },
   "outputs": [],
   "source": [
    "slp.keys()"
   ]
  },
  {
   "cell_type": "code",
   "execution_count": null,
   "metadata": {
    "collapsed": false
   },
   "outputs": [],
   "source": [
    "lat,lon=slp['latitudes'],slp['longitudes']"
   ]
  },
  {
   "cell_type": "code",
   "execution_count": null,
   "metadata": {
    "collapsed": false
   },
   "outputs": [],
   "source": [
    "lat.shape, lon.shape"
   ]
  },
  {
   "cell_type": "markdown",
   "metadata": {
    "collapsed": false
   },
   "source": [
    "The number of lat locations are "
   ]
  },
  {
   "cell_type": "code",
   "execution_count": null,
   "metadata": {
    "collapsed": false
   },
   "outputs": [],
   "source": [
    "slp['distinctLatitudes'].shape"
   ]
  },
  {
   "cell_type": "markdown",
   "metadata": {},
   "source": [
    "We can see whay type of grid we have by printing the corresponding variable"
   ]
  },
  {
   "cell_type": "code",
   "execution_count": null,
   "metadata": {
    "collapsed": false
   },
   "outputs": [],
   "source": [
    "slp['gridType']"
   ]
  },
  {
   "cell_type": "markdown",
   "metadata": {},
   "source": [
    "If the grid is reduce_gg the number of lon points per lat are given as array by"
   ]
  },
  {
   "cell_type": "code",
   "execution_count": null,
   "metadata": {
    "collapsed": false
   },
   "outputs": [],
   "source": [
    "if slp['gridType'] == 'reduced_gg' :\n",
    "  slp['pl']\n",
    "  print slp['pl'].shape"
   ]
  },
  {
   "cell_type": "markdown",
   "metadata": {
    "collapsed": false
   },
   "source": [
    "we can see the reduce_gg grid by ploting it on the globe using the basemap module (zoom in to view)"
   ]
  },
  {
   "cell_type": "code",
   "execution_count": null,
   "metadata": {
    "collapsed": false
   },
   "outputs": [],
   "source": [
    "from mpl_toolkits.basemap import Basemap, shiftgrid\n",
    "import matplotlib.pyplot as plt\n",
    "import numpy as np\n",
    "\n",
    "m = Basemap(resolution='c',projection='ortho',lat_0=60.,lon_0=-60.)\n",
    "\n",
    "x,y=m(lon,lat)\n",
    "\n",
    "m.plot(x,y,'ko', markersize=.01)\n",
    "\n",
    "# define parallels and meridians to draw.\n",
    "parallels = np.arange(-80.,90,20.)\n",
    "meridians = np.arange(0.,360.,20.)\n",
    "\n",
    "\n",
    "\n",
    "m.drawcoastlines(linewidth=1.5)\n",
    "m.drawparallels(parallels)\n",
    "m.drawmeridians(meridians)\n",
    "\n",
    "\n",
    "plt.show()"
   ]
  },
  {
   "cell_type": "markdown",
   "metadata": {},
   "source": [
    "A faster? way of getting the data since we know that the first 3 messages are what we need is by using the gribapi from ECMWF"
   ]
  },
  {
   "cell_type": "code",
   "execution_count": null,
   "metadata": {
    "collapsed": false
   },
   "outputs": [],
   "source": [
    "from gribapi import *\n",
    "\n",
    "f=open(infile)\n",
    "dat={} # create a dictionary \n",
    "for l in range(3): # loop for the first 3 messages\n",
    "    gid=grib_new_from_file(f)\n",
    "    if gid is None: break\n",
    "\n",
    "    name=grib_get(gid, 'shortName')\n",
    "    print name\n",
    "    dat[name]=grib_get_values(gid)\n",
    "    \n",
    "    grib_release(gid)\n",
    "    \n",
    "f.close()"
   ]
  },
  {
   "cell_type": "code",
   "execution_count": null,
   "metadata": {
    "collapsed": false
   },
   "outputs": [],
   "source": [
    "dat"
   ]
  },
  {
   "cell_type": "code",
   "execution_count": null,
   "metadata": {
    "collapsed": false
   },
   "outputs": [],
   "source": [
    "dat['msl'].shape"
   ]
  },
  {
   "cell_type": "markdown",
   "metadata": {},
   "source": [
    "We see above that the data are given in 1-D array. This applies for the lat, lon variables. However we can 'expand' them using some functions from the pygrib module. First the redtoreg function which translates from reduced_gg to regular_gg\n",
    "NOTE: This function uses cimport and has to be saved in .pyx extension. It doesn't compile within the notebook."
   ]
  },
  {
   "cell_type": "raw",
   "metadata": {},
   "source": [
    "import numpy as np\n",
    "cimport numpy as npc\n",
    "def _redtoreg(object nlonsin, npc.ndarray lonsperlat, npc.ndarray redgrid, \\\n",
    "              object missval):\n",
    "    \"\"\"\n",
    "    convert data on global reduced gaussian to global\n",
    "    full gaussian grid using linear interpolation.\n",
    "    \"\"\"\n",
    "    cdef long i, j, n, im, ip, indx, ilons, nlats, npts\n",
    "    cdef double zxi, zdx, flons, missvl\n",
    "    cdef npc.ndarray reggrid\n",
    "    cdef double *redgrdptr, *reggrdptr\n",
    "    cdef long *lonsptr\n",
    "    nlons = nlonsin\n",
    "    nlats = len(lonsperlat)\n",
    "    npts = len(redgrid)\n",
    "    reggrid = missval*np.ones((nlats,nlons),np.double)\n",
    "    # get data buffers and cast to desired type.\n",
    "    lonsptr = <long *>lonsperlat.data\n",
    "    redgrdptr = <double *>redgrid.data\n",
    "    reggrdptr = <double *>reggrid.data\n",
    "    missvl = <double>missval\n",
    "    # iterate over full grid, do linear interpolation.\n",
    "    n = 0\n",
    "    indx = 0\n",
    "    for j from 0 <= j < nlats:\n",
    "        ilons = lonsptr[j]\n",
    "        flons = <double>ilons\n",
    "        for i from 0 <= i < nlons:\n",
    "            # zxi is the grid index (relative to the reduced grid)\n",
    "            # of the i'th point on the full grid. \n",
    "            zxi = i * flons / nlons # goes from 0 to ilons\n",
    "            im = <long>zxi\n",
    "            zdx = zxi - <double>im\n",
    "            if ilons != 0:\n",
    "                im = (im + ilons)%ilons\n",
    "                ip = (im + 1 + ilons)%ilons\n",
    "                # if one of the nearest values is missing, use nearest\n",
    "                # neighbor interpolation.\n",
    "                if redgrdptr[indx+im] == missvl or\\\n",
    "                   redgrdptr[indx+ip] == missvl:\n",
    "                    if zdx < 0.5:\n",
    "                        reggrdptr[n] = redgrdptr[indx+im]\n",
    "                    else:\n",
    "                        reggrdptr[n] = redgrdptr[indx+ip]\n",
    "                else: # linear interpolation.\n",
    "                    reggrdptr[n] = redgrdptr[indx+im]*(1.-zdx) +\\\n",
    "                                   redgrdptr[indx+ip]*zdx\n",
    "            n = n + 1\n",
    "        indx = indx + ilons\n",
    "    return reggrid\n"
   ]
  },
  {
   "cell_type": "markdown",
   "metadata": {},
   "source": [
    "Create a function as above for reading a message"
   ]
  },
  {
   "cell_type": "code",
   "execution_count": null,
   "metadata": {
    "collapsed": false
   },
   "outputs": [],
   "source": [
    "from gribapi import *\n",
    "\n",
    "def getd(infile):\n",
    "    f=open(infile)\n",
    "    dat={} # create a dictionary \n",
    "    for l in range(3): # loop for the first 3 messages\n",
    "        gid = grib_new_from_file(f)#,headers_only = True)\n",
    "        if gid is None:\n",
    "            print 'time = {}, gid = None'.format(t)\n",
    "            sys.exit(1)\n",
    "\n",
    "        name=grib_get(gid, 'shortName')\n",
    "        mv=grib_get(gid,'missingValue')\n",
    "\n",
    "        lonfgp=grib_get(gid,'longitudeOfFirstGridPointInDegrees')\n",
    "        latfgp=grib_get(gid,'latitudeOfFirstGridPointInDegrees')\n",
    "        lonlgp=grib_get(gid,'longitudeOfLastGridPointInDegrees')\n",
    "        latlgp=grib_get(gid,'latitudeOfLastGridPointInDegrees')\n",
    "\n",
    "        if grib_get(gid,'gridType') == 'regular_gg':\n",
    "\n",
    "          Ni=grib_get(gid,'Ni')\n",
    "          Nj=grib_get(gid,'Nj')\n",
    "          lat=grib_get_array(gid,'latitudes')\n",
    "          lat=lat.reshape(Nj,Ni)\n",
    "        #  lat=np.flipud(lat)\n",
    "          lon=grib_get_array(gid,'longitudes')\n",
    "          lon=lon.reshape(Nj,Ni)\n",
    "\n",
    "          values=grib_get_values(gid)\n",
    "          dat[name]=values.reshape(Nj,Ni)\n",
    "\n",
    "        elif grib_get(gid,'gridType') == 'reduced_gg' :\n",
    "\n",
    "          ss=grib_get_array(gid,'pl')  # lons per lat for the reduced_gg grid\n",
    "          lon,lat = gridd(lonfgp,latfgp,lonlgp,latlgp,ss.size)\n",
    "\n",
    "          values=grib_get_values(gid)\n",
    "          ny=2*np.size(ss)\n",
    "\n",
    "          dat[name]=_redtoreg(ny,ss,values,mv)\n",
    "\n",
    "        grib_release(gid)\n",
    "     \n",
    "    f.close()\n",
    "\n",
    "    return dat,lat,lon\n",
    "\n"
   ]
  },
  {
   "cell_type": "markdown",
   "metadata": {},
   "source": [
    "this uses the function gridd for 'expanding' the lat,lon grid to regular_gg"
   ]
  },
  {
   "cell_type": "code",
   "execution_count": null,
   "metadata": {
    "collapsed": false
   },
   "outputs": [],
   "source": [
    "import numpy as np\n",
    "def gridd(lon1,lat1,lon2,lat2,nlats):\n",
    "\n",
    "        #   lon1, lat1 = self.longitude_first_gridpoint, self.latitude_first_gridpoint\n",
    "        #   lon2, lat2 = self.longitude_last_gridpoint, self.latitude_last_gridpoint\n",
    "        #   nlats = self.points_in_y_direction\n",
    "            # ECMWF 'reduced' gaussian grid.\n",
    "            nlons = 2*nlats\n",
    "            delon = 360./nlons\n",
    "        #   lons = np.arange(lon1,lon2,delon)\n",
    "            lons = np.linspace(lon1,lon2,nlons)\n",
    "            # compute gaussian lats (north to south)\n",
    "            lats = gaulats(nlats)\n",
    "          #  if lat1 > lat2 :  # ATTENTION\n",
    "          #     lats = lats[::-1]\n",
    "          # lons = lons[::-1]\n",
    "            lons,lats = np.meshgrid(lons,lats) # make 2-d arrays\n",
    "\n",
    "            return lons,lats\n",
    "\n",
    "\n"
   ]
  },
  {
   "cell_type": "markdown",
   "metadata": {},
   "source": [
    "Now we can get the data, lat, lon as"
   ]
  },
  {
   "cell_type": "code",
   "execution_count": null,
   "metadata": {
    "collapsed": false
   },
   "outputs": [],
   "source": [
    "import pyximport\n",
    "pyximport.install()\n",
    "\n",
    "from redtoreg import _redtoreg\n",
    "from pygrib import gaulats\n",
    "\n",
    "gdat,glat,glon=getd(infile)\n"
   ]
  },
  {
   "cell_type": "code",
   "execution_count": null,
   "metadata": {
    "collapsed": false
   },
   "outputs": [],
   "source": [
    "gdat"
   ]
  },
  {
   "cell_type": "markdown",
   "metadata": {},
   "source": [
    "We can compare the data with the ones above"
   ]
  },
  {
   "cell_type": "code",
   "execution_count": null,
   "metadata": {
    "collapsed": false
   },
   "outputs": [],
   "source": [
    "np.array_equal(dat['msl'],gdat['msl'].ravel())"
   ]
  },
  {
   "cell_type": "code",
   "execution_count": null,
   "metadata": {
    "collapsed": false
   },
   "outputs": [],
   "source": [
    "np.array_equal(dat['10u'],gdat['10u'].ravel())"
   ]
  },
  {
   "cell_type": "code",
   "execution_count": null,
   "metadata": {
    "collapsed": false
   },
   "outputs": [],
   "source": [
    "np.array_equal(dat['10v'],gdat['10v'].ravel())"
   ]
  },
  {
   "cell_type": "code",
   "execution_count": null,
   "metadata": {
    "collapsed": false
   },
   "outputs": [],
   "source": [
    "np.array_equal(lat,glat.ravel())"
   ]
  },
  {
   "cell_type": "code",
   "execution_count": null,
   "metadata": {
    "collapsed": false
   },
   "outputs": [],
   "source": [
    "np.array_equal(lon,glon.ravel())"
   ]
  },
  {
   "cell_type": "markdown",
   "metadata": {},
   "source": [
    "In terms of speed ......"
   ]
  },
  {
   "cell_type": "code",
   "execution_count": null,
   "metadata": {
    "collapsed": false
   },
   "outputs": [],
   "source": [
    "import pygrib\n",
    "\n",
    "def getd0(infile):\n",
    "\n",
    "    dat={}\n",
    "    data=pygrib.open(infile)\n",
    "    for i in range(1,4):\n",
    "        var=data[i]\n",
    "        name=var['shortName']\n",
    "        dat[name]=var.values\n",
    "        \n",
    "        lat,lon=var.latlons()\n",
    "    \n",
    "    return dat,lon,lat\n",
    "    "
   ]
  },
  {
   "cell_type": "code",
   "execution_count": null,
   "metadata": {
    "collapsed": false
   },
   "outputs": [],
   "source": [
    "%timeit d1,lo1,la1=getd0(infile)"
   ]
  },
  {
   "cell_type": "code",
   "execution_count": null,
   "metadata": {
    "collapsed": false
   },
   "outputs": [],
   "source": [
    "%timeit d2,lo2,la2=getd(infile)"
   ]
  },
  {
   "cell_type": "markdown",
   "metadata": {
    "collapsed": true
   },
   "source": [
    "#### One could add here the command tool cdo for comparison"
   ]
  },
  {
   "cell_type": "code",
   "execution_count": null,
   "metadata": {
    "collapsed": true
   },
   "outputs": [],
   "source": []
  }
 ],
 "metadata": {
  "hide_input": false,
  "kernelspec": {
   "display_name": "Python 2",
   "language": "python",
   "name": "python2"
  },
  "language_info": {
   "codemirror_mode": {
    "name": "ipython",
    "version": 2
   },
   "file_extension": ".py",
   "mimetype": "text/x-python",
   "name": "python",
   "nbconvert_exporter": "python",
   "pygments_lexer": "ipython2",
   "version": "2.7.13"
  },
  "latex_envs": {
   "bibliofile": "biblio.bib",
   "cite_by": "apalike",
   "current_citInitial": 1,
   "eqLabelWithNumbers": true,
   "eqNumInitial": 0
  }
 },
 "nbformat": 4,
 "nbformat_minor": 0
}
