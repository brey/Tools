{
 "cells": [
  {
   "cell_type": "code",
   "execution_count": 1,
   "metadata": {
    "collapsed": true
   },
   "outputs": [],
   "source": [
    "import numpy as np\n",
    "import pygrib"
   ]
  },
  {
   "cell_type": "markdown",
   "metadata": {},
   "source": [
    "Define path"
   ]
  },
  {
   "cell_type": "code",
   "execution_count": 2,
   "metadata": {
    "collapsed": true
   },
   "outputs": [],
   "source": [
    "path='/mnt/pandora/Users_Critech/Thomas/_ECMWF_TEST_GRIB_4PINPOINT/'"
   ]
  },
  {
   "cell_type": "markdown",
   "metadata": {},
   "source": [
    "Read file"
   ]
  },
  {
   "cell_type": "code",
   "execution_count": 3,
   "metadata": {
    "collapsed": true
   },
   "outputs": [],
   "source": [
    "dat = pygrib.open(path+'WS_Analysis_allutc_20131201.grib')"
   ]
  },
  {
   "cell_type": "code",
   "execution_count": 4,
   "metadata": {
    "collapsed": false
   },
   "outputs": [
    {
     "name": "stdout",
     "output_type": "stream",
     "text": [
      "1:10 metre U wind component:m s**-1 (instant):reduced_gg:surface:level 0:fcst time 0 :from 201312010000\n",
      "2:10 metre U wind component:m s**-1 (instant):reduced_gg:surface:level 0:fcst time 0 :from 201312010600\n",
      "3:10 metre U wind component:m s**-1 (instant):reduced_gg:surface:level 0:fcst time 0 :from 201312011200\n",
      "4:10 metre U wind component:m s**-1 (instant):reduced_gg:surface:level 0:fcst time 0 :from 201312011800\n"
     ]
    }
   ],
   "source": [
    "for d in dat:\n",
    "    print d"
   ]
  },
  {
   "cell_type": "code",
   "execution_count": 5,
   "metadata": {
    "collapsed": true
   },
   "outputs": [],
   "source": [
    "ifile=dat[1]"
   ]
  },
  {
   "cell_type": "code",
   "execution_count": 28,
   "metadata": {
    "collapsed": false
   },
   "outputs": [
    {
     "data": {
      "text/plain": [
       "[u'parametersVersion',\n",
       " u'globalDomain',\n",
       " u'GRIBEditionNumber',\n",
       " u'eps',\n",
       " u'offsetSection0',\n",
       " u'section0Length',\n",
       " u'totalLength',\n",
       " u'editionNumber',\n",
       " u'WMO',\n",
       " u'productionStatusOfProcessedData',\n",
       " u'section1Length',\n",
       " u'wrongPadding',\n",
       " u'table2Version',\n",
       " u'centre',\n",
       " u'generatingProcessIdentifier',\n",
       " u'gridDefinition',\n",
       " u'indicatorOfParameter',\n",
       " u'parameterName',\n",
       " u'parameterUnits',\n",
       " u'indicatorOfTypeOfLevel',\n",
       " u'pressureUnits',\n",
       " u'typeOfLevel',\n",
       " u'level',\n",
       " u'yearOfCentury',\n",
       " u'month',\n",
       " u'day',\n",
       " u'hour',\n",
       " u'minute',\n",
       " u'second',\n",
       " u'unitOfTimeRange',\n",
       " u'P1',\n",
       " u'P2',\n",
       " u'timeRangeIndicator',\n",
       " u'numberIncludedInAverage',\n",
       " u'numberMissingFromAveragesOrAccumulations',\n",
       " u'centuryOfReferenceTimeOfData',\n",
       " u'subCentre',\n",
       " u'paramIdECMF',\n",
       " u'paramId',\n",
       " u'cfNameECMF',\n",
       " u'cfName',\n",
       " u'unitsECMF',\n",
       " u'units',\n",
       " u'nameECMF',\n",
       " u'name',\n",
       " u'decimalScaleFactor',\n",
       " u'setLocalDefinition',\n",
       " u'dataDate',\n",
       " u'year',\n",
       " u'dataTime',\n",
       " u'julianDay',\n",
       " u'stepUnits',\n",
       " u'stepType',\n",
       " u'stepRange',\n",
       " u'startStep',\n",
       " u'endStep',\n",
       " u'marsParam',\n",
       " u'validityDate',\n",
       " u'validityTime',\n",
       " u'deleteLocalDefinition',\n",
       " u'localUsePresent',\n",
       " u'localDefinitionNumber',\n",
       " u'GRIBEXSection1Problem',\n",
       " u'marsClass',\n",
       " u'marsType',\n",
       " u'marsStream',\n",
       " u'experimentVersionNumber',\n",
       " u'perturbationNumber',\n",
       " u'numberOfForecastsInEnsemble',\n",
       " u'grib2LocalSectionNumber',\n",
       " u'shortNameECMF',\n",
       " u'shortName',\n",
       " u'ifsParam',\n",
       " u'gridDescriptionSectionPresent',\n",
       " u'bitmapPresent',\n",
       " u'section2Length',\n",
       " u'radius',\n",
       " u'numberOfVerticalCoordinateValues',\n",
       " u'neitherPresent',\n",
       " u'pvlLocation',\n",
       " u'dataRepresentationType',\n",
       " u'gridDefinitionTemplateNumber',\n",
       " u'Ni',\n",
       " u'Nj',\n",
       " u'latitudeOfFirstGridPoint',\n",
       " u'latitudeOfFirstGridPointInDegrees',\n",
       " u'longitudeOfFirstGridPoint',\n",
       " u'longitudeOfFirstGridPointInDegrees',\n",
       " u'resolutionAndComponentFlags',\n",
       " u'ijDirectionIncrementGiven',\n",
       " u'earthIsOblate',\n",
       " u'resolutionAndComponentFlags3',\n",
       " u'resolutionAndComponentFlags4',\n",
       " u'uvRelativeToGrid',\n",
       " u'resolutionAndComponentFlags6',\n",
       " u'resolutionAndComponentFlags7',\n",
       " u'resolutionAndComponentFlags8',\n",
       " u'latitudeOfLastGridPoint',\n",
       " u'latitudeOfLastGridPointInDegrees',\n",
       " u'longitudeOfLastGridPoint',\n",
       " u'longitudeOfLastGridPointInDegrees',\n",
       " u'iDirectionIncrement',\n",
       " u'iDirectionIncrementInDegrees',\n",
       " u'N',\n",
       " u'scanningMode',\n",
       " u'iScansNegatively',\n",
       " u'jScansPositively',\n",
       " u'jPointsAreConsecutive',\n",
       " u'alternativeRowScanning',\n",
       " u'iScansPositively',\n",
       " u'scanningMode4',\n",
       " u'scanningMode5',\n",
       " u'scanningMode6',\n",
       " u'scanningMode7',\n",
       " u'scanningMode8',\n",
       " u'global',\n",
       " u'numberOfDataPoints',\n",
       " u'numberOfValues',\n",
       " u'latLonValues',\n",
       " u'latitudes',\n",
       " u'longitudes',\n",
       " u'distinctLatitudes',\n",
       " u'distinctLongitudes',\n",
       " u'PVPresent',\n",
       " u'PLPresent',\n",
       " u'numberOfOctectsForNumberOfPoints',\n",
       " u'interpretationOfNumberOfPoints',\n",
       " u'pl',\n",
       " u'lengthOfHeaders',\n",
       " u'missingValue',\n",
       " u'tableReference',\n",
       " u'section4Length',\n",
       " u'halfByte',\n",
       " u'dataFlag',\n",
       " u'binaryScaleFactor',\n",
       " u'referenceValue',\n",
       " u'referenceValueError',\n",
       " u'sphericalHarmonics',\n",
       " u'complexPacking',\n",
       " u'integerPointValues',\n",
       " u'additionalFlagPresent',\n",
       " u'orderOfSPD',\n",
       " u'boustrophedonic',\n",
       " u'hideThis',\n",
       " u'packingType',\n",
       " u'bitsPerValue',\n",
       " u'constantFieldHalfByte',\n",
       " u'bitMapIndicator',\n",
       " u'values',\n",
       " u'numberOfCodedValues',\n",
       " u'packingError',\n",
       " u'unpackedError',\n",
       " u'maximum',\n",
       " u'minimum',\n",
       " u'average',\n",
       " u'numberOfMissing',\n",
       " u'standardDeviation',\n",
       " u'skewness',\n",
       " u'kurtosis',\n",
       " u'isConstant',\n",
       " u'dataLength',\n",
       " u'changeDecimalPrecision',\n",
       " u'decimalPrecision',\n",
       " u'bitsPerValueAndRepack',\n",
       " u'scaleValuesBy',\n",
       " u'offsetValuesBy',\n",
       " u'gridType',\n",
       " u'getNumberOfValues',\n",
       " u'section5Length',\n",
       " 'analDate',\n",
       " 'validDate']"
      ]
     },
     "execution_count": 28,
     "metadata": {},
     "output_type": "execute_result"
    }
   ],
   "source": [
    "ifile.keys()"
   ]
  },
  {
   "cell_type": "code",
   "execution_count": 6,
   "metadata": {
    "collapsed": false
   },
   "outputs": [
    {
     "data": {
      "text/plain": [
       "(array([[ 89.89239645,  89.89239645,  89.89239645, ...,  89.89239645,\n",
       "          89.89239645,  89.89239645],\n",
       "        [ 89.75300494,  89.75300494,  89.75300494, ...,  89.75300494,\n",
       "          89.75300494,  89.75300494],\n",
       "        [ 89.61279026,  89.61279026,  89.61279026, ...,  89.61279026,\n",
       "          89.61279026,  89.61279026],\n",
       "        ..., \n",
       "        [-89.61279026, -89.61279026, -89.61279026, ..., -89.61279026,\n",
       "         -89.61279026, -89.61279026],\n",
       "        [-89.75300494, -89.75300494, -89.75300494, ..., -89.75300494,\n",
       "         -89.75300494, -89.75300494],\n",
       "        [-89.89239645, -89.89239645, -89.89239645, ..., -89.89239645,\n",
       "         -89.89239645, -89.89239645]]),\n",
       " array([[  0.00000000e+00,   1.40624853e-01,   2.81249707e-01, ...,\n",
       "           3.59577750e+02,   3.59718375e+02,   3.59859000e+02],\n",
       "        [  0.00000000e+00,   1.40624853e-01,   2.81249707e-01, ...,\n",
       "           3.59577750e+02,   3.59718375e+02,   3.59859000e+02],\n",
       "        [  0.00000000e+00,   1.40624853e-01,   2.81249707e-01, ...,\n",
       "           3.59577750e+02,   3.59718375e+02,   3.59859000e+02],\n",
       "        ..., \n",
       "        [  0.00000000e+00,   1.40624853e-01,   2.81249707e-01, ...,\n",
       "           3.59577750e+02,   3.59718375e+02,   3.59859000e+02],\n",
       "        [  0.00000000e+00,   1.40624853e-01,   2.81249707e-01, ...,\n",
       "           3.59577750e+02,   3.59718375e+02,   3.59859000e+02],\n",
       "        [  0.00000000e+00,   1.40624853e-01,   2.81249707e-01, ...,\n",
       "           3.59577750e+02,   3.59718375e+02,   3.59859000e+02]]))"
      ]
     },
     "execution_count": 6,
     "metadata": {},
     "output_type": "execute_result"
    }
   ],
   "source": [
    "ifile.latlons()"
   ]
  },
  {
   "cell_type": "code",
   "execution_count": 7,
   "metadata": {
    "collapsed": false
   },
   "outputs": [
    {
     "data": {
      "text/plain": [
       "array([[ 9.05744476,  9.05689952,  9.05635428, ...,  9.0593354 ,\n",
       "         9.05870519,  9.05807497],\n",
       "       [ 9.14831276,  9.14735067,  9.14638857, ...,  9.15184182,\n",
       "         9.15066547,  9.14948911],\n",
       "       [ 9.17949982,  9.17883377,  9.17816772, ...,  9.18279228,\n",
       "         9.18169479,  9.1805973 ],\n",
       "       ..., \n",
       "       [ 6.195018  ,  6.19585569,  6.19669337, ...,  6.19155781,\n",
       "         6.19271121,  6.19386461],\n",
       "       [ 6.01213379,  6.01268763,  6.01324147, ...,  6.00819742,\n",
       "         6.00950954,  6.01082167],\n",
       "       [ 5.44915314,  5.44932336,  5.44949359, ...,  5.44694389,\n",
       "         5.44768031,  5.44841672]])"
      ]
     },
     "execution_count": 7,
     "metadata": {},
     "output_type": "execute_result"
    }
   ],
   "source": [
    "ifile.values\n"
   ]
  },
  {
   "cell_type": "markdown",
   "metadata": {},
   "source": [
    "Define the spot"
   ]
  },
  {
   "cell_type": "code",
   "execution_count": 8,
   "metadata": {
    "collapsed": true
   },
   "outputs": [],
   "source": [
    "plat,plon=40.84,14.27"
   ]
  },
  {
   "cell_type": "markdown",
   "metadata": {},
   "source": [
    "Define the i,j of this position"
   ]
  },
  {
   "cell_type": "code",
   "execution_count": 9,
   "metadata": {
    "collapsed": false
   },
   "outputs": [],
   "source": [
    "lat=ifile.latlons()[0][:,0]\n",
    "lon=ifile.latlons()[1][0,:]\n"
   ]
  },
  {
   "cell_type": "code",
   "execution_count": 10,
   "metadata": {
    "collapsed": true
   },
   "outputs": [],
   "source": [
    "i=np.abs(lat-plat).argmin()\n",
    "j=np.abs(lon-plon).argmin()\n"
   ]
  },
  {
   "cell_type": "code",
   "execution_count": 11,
   "metadata": {
    "collapsed": false
   },
   "outputs": [
    {
     "name": "stdout",
     "output_type": "stream",
     "text": [
      "349 101\n"
     ]
    }
   ],
   "source": [
    "print i,j"
   ]
  },
  {
   "cell_type": "code",
   "execution_count": 12,
   "metadata": {
    "collapsed": false
   },
   "outputs": [
    {
     "name": "stdout",
     "output_type": "stream",
     "text": [
      "40.8356073144 14.2031101993\n"
     ]
    }
   ],
   "source": [
    "#check\n",
    "print ifile.latlons()[0][i,j],ifile.latlons()[1][i,j] "
   ]
  },
  {
   "cell_type": "code",
   "execution_count": 13,
   "metadata": {
    "collapsed": true
   },
   "outputs": [],
   "source": [
    "x0,y0,z0=ifile.latlons()[0][i,j],ifile.latlons()[1][i,j],ifile.values[i,j]"
   ]
  },
  {
   "cell_type": "markdown",
   "metadata": {},
   "source": [
    "retrieve the 4 nearest diagonal points of the i,j"
   ]
  },
  {
   "cell_type": "code",
   "execution_count": 26,
   "metadata": {
    "collapsed": true
   },
   "outputs": [],
   "source": [
    "lat4=ifile.latlons()[0][i-1:i+2:2,j-1:j+2:2]\n",
    "lon4=ifile.latlons()[1][i-1:i+2:2,j-1:j+2:2]"
   ]
  },
  {
   "cell_type": "code",
   "execution_count": 27,
   "metadata": {
    "collapsed": false
   },
   "outputs": [
    {
     "name": "stdout",
     "output_type": "stream",
     "text": [
      "[[ 40.97617739  40.97617739]\n",
      " [ 40.69503724  40.69503724]]\n",
      "[[ 14.06248535  14.34373505]\n",
      " [ 14.06248535  14.34373505]]\n"
     ]
    }
   ],
   "source": [
    "print lat4\n",
    "print lon4"
   ]
  },
  {
   "cell_type": "code",
   "execution_count": 16,
   "metadata": {
    "collapsed": false
   },
   "outputs": [
    {
     "data": {
      "text/plain": [
       "[(40.976177385451912, 14.062485345838216),\n",
       " (40.976177385451912, 14.34373505275498),\n",
       " (40.695037243276325, 14.062485345838216),\n",
       " (40.695037243276325, 14.34373505275498)]"
      ]
     },
     "execution_count": 16,
     "metadata": {},
     "output_type": "execute_result"
    }
   ],
   "source": [
    "zip(lat4.flatten(),lon4.flatten())"
   ]
  },
  {
   "cell_type": "markdown",
   "metadata": {},
   "source": [
    "Define the quadrature we are in"
   ]
  },
  {
   "cell_type": "code",
   "execution_count": 17,
   "metadata": {
    "collapsed": true
   },
   "outputs": [],
   "source": [
    "A=plat-x0\n",
    "B=plon-y0"
   ]
  },
  {
   "cell_type": "code",
   "execution_count": 18,
   "metadata": {
    "collapsed": false
   },
   "outputs": [],
   "source": [
    "for x,y in zip(lat4.flatten(),lon4.flatten()):\n",
    "    C=np.sign([x-plat,A])\n",
    "    D=np.sign([y-plon,B])\n",
    "    if C[0]==C[-1] and D[0] == D[-1] : \n",
    "        corner=[x,y]\n",
    "        indx=[np.abs(lat-x).argmin(),np.abs(lon-y).argmin()]\n",
    "\n"
   ]
  },
  {
   "cell_type": "code",
   "execution_count": 19,
   "metadata": {
    "collapsed": false
   },
   "outputs": [
    {
     "data": {
      "text/plain": [
       "[40.976177385451912, 14.34373505275498]"
      ]
     },
     "execution_count": 19,
     "metadata": {},
     "output_type": "execute_result"
    }
   ],
   "source": [
    "corner"
   ]
  },
  {
   "cell_type": "markdown",
   "metadata": {},
   "source": [
    "Now the for points are"
   ]
  },
  {
   "cell_type": "code",
   "execution_count": 20,
   "metadata": {
    "collapsed": false
   },
   "outputs": [],
   "source": [
    "p1=[x0,y0,z0]\n",
    "p2=[x0,corner[1],ifile.values[i,indx[1]]]\n",
    "p3=[corner[0],corner[1],ifile.values[indx[0],indx[1]]]\n",
    "p4=[corner[0],y0,ifile.values[indx[0],j]]"
   ]
  },
  {
   "cell_type": "markdown",
   "metadata": {},
   "source": [
    "Now do the bilinear interpolation between the points"
   ]
  },
  {
   "cell_type": "code",
   "execution_count": 21,
   "metadata": {
    "collapsed": false
   },
   "outputs": [],
   "source": [
    "def bilinear_interpolation(x, y, points):\n",
    "    '''Interpolate (x,y) from values associated with four points.\n",
    "\n",
    "    The four points are a list of four triplets:  (x, y, value).\n",
    "    The four points can be in any order.  They should form a rectangle.\n",
    "\n",
    "        >>> bilinear_interpolation(12, 5.5,\n",
    "        ...                        [(10, 4, 100),\n",
    "        ...                         (20, 4, 200),\n",
    "        ...                         (10, 6, 150),\n",
    "        ...                         (20, 6, 300)])\n",
    "        165.0\n",
    "\n",
    "    '''\n",
    "    # See formula at:  http://en.wikipedia.org/wiki/Bilinear_interpolation\n",
    "\n",
    "    points = sorted(points)               # order points by x, then by y\n",
    "    (x1, y1, q11), (_x1, y2, q12), (x2, _y1, q21), (_x2, _y2, q22) = points\n",
    "\n",
    "    if x1 != _x1 or x2 != _x2 or y1 != _y1 or y2 != _y2:\n",
    "        raise ValueError('points do not form a rectangle')\n",
    "    if not x1 <= x <= x2 or not y1 <= y <= y2:\n",
    "        raise ValueError('(x, y) not within the rectangle')\n",
    "\n",
    "    return (q11 * (x2 - x) * (y2 - y) +\n",
    "            q21 * (x - x1) * (y2 - y) +\n",
    "            q12 * (x2 - x) * (y - y1) +\n",
    "            q22 * (x - x1) * (y - y1)\n",
    "           ) / ((x2 - x1) * (y2 - y1) + 0.0)"
   ]
  },
  {
   "cell_type": "code",
   "execution_count": 22,
   "metadata": {
    "collapsed": false
   },
   "outputs": [
    {
     "data": {
      "text/plain": [
       "[[40.835607314403816, 14.203110199296598, 7.4582589976489544],\n",
       " [40.835607314403816, 14.34373505275498, 6.3543288223445415],\n",
       " [40.976177385451912, 14.34373505275498, 7.1761480085551739],\n",
       " [40.976177385451912, 14.203110199296598, 6.7227383367717266]]"
      ]
     },
     "execution_count": 22,
     "metadata": {},
     "output_type": "execute_result"
    }
   ],
   "source": [
    "points=[p1,p2,p3,p4]\n",
    "points"
   ]
  },
  {
   "cell_type": "code",
   "execution_count": 23,
   "metadata": {
    "collapsed": false
   },
   "outputs": [
    {
     "data": {
      "text/plain": [
       "6.9333260559265186"
      ]
     },
     "execution_count": 23,
     "metadata": {},
     "output_type": "execute_result"
    }
   ],
   "source": [
    "bilinear_interpolation(plat, plon, points)"
   ]
  },
  {
   "cell_type": "code",
   "execution_count": null,
   "metadata": {
    "collapsed": true
   },
   "outputs": [],
   "source": []
  }
 ],
 "metadata": {
  "kernelspec": {
   "display_name": "Python 2",
   "language": "python",
   "name": "python2"
  },
  "language_info": {
   "codemirror_mode": {
    "name": "ipython",
    "version": 2
   },
   "file_extension": ".py",
   "mimetype": "text/x-python",
   "name": "python",
   "nbconvert_exporter": "python",
   "pygments_lexer": "ipython2",
   "version": "2.7.12"
  }
 },
 "nbformat": 4,
 "nbformat_minor": 0
}
