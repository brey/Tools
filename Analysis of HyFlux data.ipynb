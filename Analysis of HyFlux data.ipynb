{
 "cells": [
  {
   "cell_type": "markdown",
   "metadata": {},
   "source": [
    "## Analysis of HyFlux StormSurge Med results"
   ]
  },
  {
   "cell_type": "markdown",
   "metadata": {},
   "source": [
    "This analysis is part of an effort to figure out a discepancy with hyflux data and a time phase of 6 hours in the Med Sea storm surge calculation. "
   ]
  },
  {
   "cell_type": "code",
   "execution_count": 50,
   "metadata": {
    "collapsed": true
   },
   "outputs": [],
   "source": [
    "%matplotlib notebook"
   ]
  },
  {
   "cell_type": "code",
   "execution_count": 51,
   "metadata": {
    "collapsed": false
   },
   "outputs": [],
   "source": [
    "from matplotlib import animation\n",
    "import matplotlib.pyplot as plt\n",
    "import matplotlib.dates as mdates\n",
    "import glob\n",
    "import numpy as np\n",
    "from pmap import getmap\n",
    "import pandas\n",
    "import matplotlib.pyplot as plt\n",
    "import datetime"
   ]
  },
  {
   "cell_type": "code",
   "execution_count": 52,
   "metadata": {
    "collapsed": false
   },
   "outputs": [],
   "source": [
    "today=datetime.datetime.today()\n"
   ]
  },
  {
   "cell_type": "code",
   "execution_count": 53,
   "metadata": {
    "collapsed": true
   },
   "outputs": [],
   "source": [
    "PATH='/mnt/ECMWF/processed/{}/FIX_MED_SEA/'.format(today.year)"
   ]
  },
  {
   "cell_type": "code",
   "execution_count": 54,
   "metadata": {
    "collapsed": true
   },
   "outputs": [],
   "source": [
    "tstamp='20160616.00'"
   ]
  },
  {
   "cell_type": "code",
   "execution_count": 55,
   "metadata": {
    "collapsed": false
   },
   "outputs": [],
   "source": [
    "hfiles=glob.glob(PATH+'calc_{}/TIF_H*.tif'.format(tstamp))"
   ]
  },
  {
   "cell_type": "markdown",
   "metadata": {},
   "source": [
    "test the parsing"
   ]
  },
  {
   "cell_type": "code",
   "execution_count": 56,
   "metadata": {
    "collapsed": false
   },
   "outputs": [
    {
     "name": "stdout",
     "output_type": "stream",
     "text": [
      "08532000\n"
     ]
    }
   ],
   "source": [
    "print hfiles[0].split('/')[-1].split('_H_')[1].split('.')[0]"
   ]
  },
  {
   "cell_type": "code",
   "execution_count": 57,
   "metadata": {
    "collapsed": false
   },
   "outputs": [],
   "source": [
    "t=[]\n",
    "for k in hfiles:\n",
    "    t.append(k.split('/')[-1].split('_H_')[1].split('.')[0])"
   ]
  },
  {
   "cell_type": "code",
   "execution_count": 58,
   "metadata": {
    "collapsed": false
   },
   "outputs": [
    {
     "name": "stdout",
     "output_type": "stream",
     "text": [
      "['08532000' '08535600' '08539200' '08542800' '08546400' '08550000'\n",
      " '08553600' '08557200' '08560800' '08564400' '08568000' '08571600'\n",
      " '08575200' '08578800' '08582400' '08586000' '08589600' '08593200'\n",
      " '08596800' '08600400' '08604000' '08607600' '08611200' '08614800'\n",
      " '08618400' '08622000' '08625600' '08629200' '08632800' '08636400'\n",
      " '08640000' '08643600' '08647200' '08650800' '08654400' '08658000'\n",
      " '08661600' '08665200' '08668800' '08672400' '08676000' '08679600'\n",
      " '08683200' '08686800' '08690400' '08694000' '08697600' '08701200'\n",
      " '08704800' '08708400' '08712000' '08715600' '08719200' '08722800'\n",
      " '08726400' '08730000' '08733600' '08737200' '08740800' '08744400'\n",
      " '08748000' '08751600' '08755200' '08758800' '08762400' '08766000'\n",
      " '08769600' '08773200' '08776800' '08780400' '08784000' '08787600'\n",
      " '08791200' '08794800' '08798400' '08802000' '08805600' '08809200'\n",
      " '08812800']\n"
     ]
    }
   ],
   "source": [
    "time=np.array(t)\n",
    "print time"
   ]
  },
  {
   "cell_type": "markdown",
   "metadata": {},
   "source": [
    "first we parse the bathymetry tif to get the i,j of the point in question "
   ]
  },
  {
   "cell_type": "code",
   "execution_count": 59,
   "metadata": {
    "collapsed": true
   },
   "outputs": [],
   "source": [
    "filename=PATH+'calc_{}/bathymetry.tif'.format(tstamp)\n",
    "grid = getmap(filename)\n",
    "\n",
    "gt=grid.GeoTr\n",
    "\n",
    "width=grid.NCOLS\n",
    "height=grid.NROWS\n",
    "\n",
    "minx = gt[0]\n",
    "miny = gt[3] + width*gt[4] + height*gt[5]\n",
    "maxx = gt[0] + width*gt[1] + height*gt[2]\n",
    "maxy = gt[3]\n",
    "\n",
    "lon=np.linspace(minx,maxx,width,endpoint=True)\n",
    "lat=np.linspace(miny,maxy,height,endpoint=True)\n"
   ]
  },
  {
   "cell_type": "markdown",
   "metadata": {},
   "source": [
    "Now define the lat/lon we want. First we load the file with the observation points we selected."
   ]
  },
  {
   "cell_type": "code",
   "execution_count": 60,
   "metadata": {
    "collapsed": true
   },
   "outputs": [],
   "source": [
    "OFILE='/mnt/pandora/Projects_Critech/EX_2015_CoastAlRisk/maps/data/s_b_data.txt'"
   ]
  },
  {
   "cell_type": "code",
   "execution_count": 61,
   "metadata": {
    "collapsed": false
   },
   "outputs": [],
   "source": [
    "obs=pandas.read_csv(OFILE,delimiter='\\t')"
   ]
  },
  {
   "cell_type": "code",
   "execution_count": 62,
   "metadata": {
    "collapsed": false
   },
   "outputs": [
    {
     "data": {
      "text/html": [
       "<div>\n",
       "<table border=\"1\" class=\"dataframe\">\n",
       "  <thead>\n",
       "    <tr style=\"text-align: right;\">\n",
       "      <th></th>\n",
       "      <th>ID</th>\n",
       "      <th>NAME</th>\n",
       "      <th>latobs</th>\n",
       "      <th>lonobs</th>\n",
       "      <th>latcalc</th>\n",
       "      <th>loncalc</th>\n",
       "    </tr>\n",
       "  </thead>\n",
       "  <tbody>\n",
       "    <tr>\n",
       "      <th>0</th>\n",
       "      <td>1630</td>\n",
       "      <td>Almeira</td>\n",
       "      <td>36.8300</td>\n",
       "      <td>-2.4800</td>\n",
       "      <td>36.72506</td>\n",
       "      <td>-2.468386</td>\n",
       "    </tr>\n",
       "    <tr>\n",
       "      <th>1</th>\n",
       "      <td>1706</td>\n",
       "      <td>Valencia</td>\n",
       "      <td>39.4400</td>\n",
       "      <td>-0.3100</td>\n",
       "      <td>39.44040</td>\n",
       "      <td>-0.299000</td>\n",
       "    </tr>\n",
       "    <tr>\n",
       "      <th>2</th>\n",
       "      <td>819</td>\n",
       "      <td>Barcelona</td>\n",
       "      <td>41.3400</td>\n",
       "      <td>2.1600</td>\n",
       "      <td>41.27749</td>\n",
       "      <td>2.213909</td>\n",
       "    </tr>\n",
       "    <tr>\n",
       "      <th>3</th>\n",
       "      <td>1461</td>\n",
       "      <td>Palma de Mallorca</td>\n",
       "      <td>39.5600</td>\n",
       "      <td>2.6380</td>\n",
       "      <td>39.39457</td>\n",
       "      <td>2.614552</td>\n",
       "    </tr>\n",
       "    <tr>\n",
       "      <th>4</th>\n",
       "      <td>1741</td>\n",
       "      <td>Sete</td>\n",
       "      <td>43.3976</td>\n",
       "      <td>3.6991</td>\n",
       "      <td>43.31857</td>\n",
       "      <td>3.761195</td>\n",
       "    </tr>\n",
       "    <tr>\n",
       "      <th>5</th>\n",
       "      <td>1500</td>\n",
       "      <td>Corsica</td>\n",
       "      <td>42.9670</td>\n",
       "      <td>9.3500</td>\n",
       "      <td>43.09528</td>\n",
       "      <td>9.267036</td>\n",
       "    </tr>\n",
       "    <tr>\n",
       "      <th>6</th>\n",
       "      <td>1841</td>\n",
       "      <td>Carloforte</td>\n",
       "      <td>39.1480</td>\n",
       "      <td>8.3095</td>\n",
       "      <td>39.22599</td>\n",
       "      <td>8.231240</td>\n",
       "    </tr>\n",
       "    <tr>\n",
       "      <th>7</th>\n",
       "      <td>1848</td>\n",
       "      <td>Imperia</td>\n",
       "      <td>43.8783</td>\n",
       "      <td>8.0189</td>\n",
       "      <td>43.83057</td>\n",
       "      <td>8.149480</td>\n",
       "    </tr>\n",
       "    <tr>\n",
       "      <th>8</th>\n",
       "      <td>1846</td>\n",
       "      <td>Genova</td>\n",
       "      <td>44.4101</td>\n",
       "      <td>8.9255</td>\n",
       "      <td>44.32259</td>\n",
       "      <td>8.919400</td>\n",
       "    </tr>\n",
       "    <tr>\n",
       "      <th>9</th>\n",
       "      <td>1843</td>\n",
       "      <td>Civitavecchia</td>\n",
       "      <td>42.0940</td>\n",
       "      <td>11.7896</td>\n",
       "      <td>41.99920</td>\n",
       "      <td>11.677270</td>\n",
       "    </tr>\n",
       "    <tr>\n",
       "      <th>10</th>\n",
       "      <td>1855</td>\n",
       "      <td>Napoli</td>\n",
       "      <td>40.8414</td>\n",
       "      <td>14.2692</td>\n",
       "      <td>40.66343</td>\n",
       "      <td>14.208470</td>\n",
       "    </tr>\n",
       "    <tr>\n",
       "      <th>11</th>\n",
       "      <td>1847</td>\n",
       "      <td>Ginostra</td>\n",
       "      <td>38.7852</td>\n",
       "      <td>15.1908</td>\n",
       "      <td>38.78520</td>\n",
       "      <td>15.201800</td>\n",
       "    </tr>\n",
       "    <tr>\n",
       "      <th>12</th>\n",
       "      <td>1858</td>\n",
       "      <td>Palermo</td>\n",
       "      <td>38.1214</td>\n",
       "      <td>13.3713</td>\n",
       "      <td>38.16961</td>\n",
       "      <td>13.459630</td>\n",
       "    </tr>\n",
       "    <tr>\n",
       "      <th>13</th>\n",
       "      <td>1844</td>\n",
       "      <td>Crotone</td>\n",
       "      <td>39.0836</td>\n",
       "      <td>17.1371</td>\n",
       "      <td>39.05812</td>\n",
       "      <td>17.208960</td>\n",
       "    </tr>\n",
       "    <tr>\n",
       "      <th>14</th>\n",
       "      <td>1866</td>\n",
       "      <td>S. Benedetto del Tronto</td>\n",
       "      <td>42.9551</td>\n",
       "      <td>13.8898</td>\n",
       "      <td>42.96519</td>\n",
       "      <td>13.977000</td>\n",
       "    </tr>\n",
       "    <tr>\n",
       "      <th>15</th>\n",
       "      <td>1863</td>\n",
       "      <td>Ravenna</td>\n",
       "      <td>44.4921</td>\n",
       "      <td>12.2827</td>\n",
       "      <td>44.49545</td>\n",
       "      <td>12.386810</td>\n",
       "    </tr>\n",
       "    <tr>\n",
       "      <th>16</th>\n",
       "      <td>1870</td>\n",
       "      <td>Venezia</td>\n",
       "      <td>45.4182</td>\n",
       "      <td>12.4265</td>\n",
       "      <td>45.38967</td>\n",
       "      <td>12.436770</td>\n",
       "    </tr>\n",
       "    <tr>\n",
       "      <th>17</th>\n",
       "      <td>2003</td>\n",
       "      <td>Paleochora</td>\n",
       "      <td>35.2240</td>\n",
       "      <td>23.6786</td>\n",
       "      <td>35.19995</td>\n",
       "      <td>23.674720</td>\n",
       "    </tr>\n",
       "    <tr>\n",
       "      <th>18</th>\n",
       "      <td>2001</td>\n",
       "      <td>Kapsali</td>\n",
       "      <td>36.1418</td>\n",
       "      <td>23.0037</td>\n",
       "      <td>36.06577</td>\n",
       "      <td>23.007620</td>\n",
       "    </tr>\n",
       "    <tr>\n",
       "      <th>19</th>\n",
       "      <td>2005</td>\n",
       "      <td>Koroni</td>\n",
       "      <td>36.7975</td>\n",
       "      <td>21.9628</td>\n",
       "      <td>36.79333</td>\n",
       "      <td>22.011430</td>\n",
       "    </tr>\n",
       "    <tr>\n",
       "      <th>20</th>\n",
       "      <td>2361</td>\n",
       "      <td>Kalathos</td>\n",
       "      <td>36.1139</td>\n",
       "      <td>28.0696</td>\n",
       "      <td>36.11199</td>\n",
       "      <td>28.145630</td>\n",
       "    </tr>\n",
       "    <tr>\n",
       "      <th>21</th>\n",
       "      <td>2031</td>\n",
       "      <td>Gokceada</td>\n",
       "      <td>40.2330</td>\n",
       "      <td>25.8940</td>\n",
       "      <td>40.24620</td>\n",
       "      <td>25.987710</td>\n",
       "    </tr>\n",
       "  </tbody>\n",
       "</table>\n",
       "</div>"
      ],
      "text/plain": [
       "      ID                      NAME   latobs   lonobs   latcalc    loncalc\n",
       "0   1630                   Almeira  36.8300  -2.4800  36.72506  -2.468386\n",
       "1   1706                  Valencia  39.4400  -0.3100  39.44040  -0.299000\n",
       "2    819                 Barcelona  41.3400   2.1600  41.27749   2.213909\n",
       "3   1461         Palma de Mallorca  39.5600   2.6380  39.39457   2.614552\n",
       "4   1741                     Sete   43.3976   3.6991  43.31857   3.761195\n",
       "5   1500                   Corsica  42.9670   9.3500  43.09528   9.267036\n",
       "6   1841               Carloforte   39.1480   8.3095  39.22599   8.231240\n",
       "7   1848                   Imperia  43.8783   8.0189  43.83057   8.149480\n",
       "8   1846                   Genova   44.4101   8.9255  44.32259   8.919400\n",
       "9   1843             Civitavecchia  42.0940  11.7896  41.99920  11.677270\n",
       "10  1855                   Napoli   40.8414  14.2692  40.66343  14.208470\n",
       "11  1847                 Ginostra   38.7852  15.1908  38.78520  15.201800\n",
       "12  1858                  Palermo   38.1214  13.3713  38.16961  13.459630\n",
       "13  1844                   Crotone  39.0836  17.1371  39.05812  17.208960\n",
       "14  1866  S. Benedetto del Tronto   42.9551  13.8898  42.96519  13.977000\n",
       "15  1863                  Ravenna   44.4921  12.2827  44.49545  12.386810\n",
       "16  1870                  Venezia   45.4182  12.4265  45.38967  12.436770\n",
       "17  2003               Paleochora   35.2240  23.6786  35.19995  23.674720\n",
       "18  2001                   Kapsali  36.1418  23.0037  36.06577  23.007620\n",
       "19  2005                    Koroni  36.7975  21.9628  36.79333  22.011430\n",
       "20  2361                  Kalathos  36.1139  28.0696  36.11199  28.145630\n",
       "21  2031                 Gokceada   40.2330  25.8940  40.24620  25.987710"
      ]
     },
     "execution_count": 62,
     "metadata": {},
     "output_type": "execute_result"
    }
   ],
   "source": [
    "obs"
   ]
  },
  {
   "cell_type": "markdown",
   "metadata": {},
   "source": [
    "Let's choose a point e.g. 1858 "
   ]
  },
  {
   "cell_type": "code",
   "execution_count": 64,
   "metadata": {
    "collapsed": true
   },
   "outputs": [],
   "source": [
    "point=12"
   ]
  },
  {
   "cell_type": "code",
   "execution_count": 65,
   "metadata": {
    "collapsed": true
   },
   "outputs": [],
   "source": [
    "plat,plon=obs['latcalc'][point],obs['loncalc'][point]"
   ]
  },
  {
   "cell_type": "code",
   "execution_count": 66,
   "metadata": {
    "collapsed": false
   },
   "outputs": [
    {
     "name": "stdout",
     "output_type": "stream",
     "text": [
      "38.16961 13.45963\n"
     ]
    }
   ],
   "source": [
    "print plat,plon # check"
   ]
  },
  {
   "cell_type": "markdown",
   "metadata": {},
   "source": [
    "Now find the i,j for this point"
   ]
  },
  {
   "cell_type": "code",
   "execution_count": 67,
   "metadata": {
    "collapsed": false
   },
   "outputs": [
    {
     "name": "stdout",
     "output_type": "stream",
     "text": [
      "145 284 [ 38.13380233  38.20070374  38.26760515] [ 13.40564635  13.47245076  13.53925516]\n"
     ]
    }
   ],
   "source": [
    "i=np.abs(lat-plat).argmin()\n",
    "j=np.abs(lon-plon).argmin()\n",
    "print i,j, lat[i-1:i+2],lon[j-1:j+2]\n"
   ]
  },
  {
   "cell_type": "markdown",
   "metadata": {},
   "source": [
    "### NOTE: How did we compute these calc points?"
   ]
  },
  {
   "cell_type": "markdown",
   "metadata": {},
   "source": [
    "Now we parse the geotif files ad select the i,j value adding it to a new list"
   ]
  },
  {
   "cell_type": "code",
   "execution_count": 68,
   "metadata": {
    "collapsed": true
   },
   "outputs": [],
   "source": [
    "hobs=[]"
   ]
  },
  {
   "cell_type": "code",
   "execution_count": 69,
   "metadata": {
    "collapsed": false
   },
   "outputs": [
    {
     "data": {
      "text/plain": [
       "(285, 727)"
      ]
     },
     "execution_count": 69,
     "metadata": {},
     "output_type": "execute_result"
    }
   ],
   "source": [
    "dat=getmap(hfiles[0])\n",
    "dat.data.shape"
   ]
  },
  {
   "cell_type": "markdown",
   "metadata": {},
   "source": [
    "Note that we need to flip upside down the data to get the correct i,j (inherit to the geotif coordination system ?)"
   ]
  },
  {
   "cell_type": "code",
   "execution_count": 70,
   "metadata": {
    "collapsed": true
   },
   "outputs": [],
   "source": [
    "for ifile in hfiles:\n",
    "    dat=getmap(ifile)\n",
    "    hobs.append(np.flipud(dat.data)[i,j])"
   ]
  },
  {
   "cell_type": "code",
   "execution_count": 71,
   "metadata": {
    "collapsed": true
   },
   "outputs": [],
   "source": [
    "hobs=np.array(hobs)"
   ]
  },
  {
   "cell_type": "code",
   "execution_count": 72,
   "metadata": {
    "collapsed": false
   },
   "outputs": [
    {
     "data": {
      "text/plain": [
       "array([-0.01480134, -0.00837771, -0.00016774,  0.00912686,  0.0193402 ,\n",
       "        0.02595216,  0.03131369,  0.03142372,  0.03349916,  0.04631253,\n",
       "        0.05689279,  0.06294978,  0.0647742 ,  0.06913181,  0.07150362,\n",
       "        0.07449113,  0.07489996,  0.07270238,  0.07600121,  0.0733685 ,\n",
       "        0.07902304,  0.08505791,  0.08415201,  0.0848164 ,  0.08761296,\n",
       "        0.08597105,  0.07416075,  0.06951011,  0.06101624,  0.05862661,\n",
       "        0.04601065,  0.03465465,  0.02435575,  0.01373132,  0.00324755,\n",
       "       -0.00606226, -0.00738415, -0.00784191, -0.00642357, -0.00290438,\n",
       "       -0.00540774, -0.00793479, -0.01212033, -0.01752048, -0.02233061,\n",
       "       -0.02676555, -0.02875189, -0.02874376, -0.02816035, -0.02874579,\n",
       "       -0.02954494, -0.03109363, -0.03180165, -0.03200777, -0.03127511,\n",
       "       -0.0306749 , -0.03128254, -0.03417401, -0.03750928, -0.04135096,\n",
       "       -0.04250735, -0.0408701 , -0.03968502, -0.0372023 , -0.03470273,\n",
       "       -0.03505552, -0.03644784, -0.03950909, -0.04029757, -0.04044428,\n",
       "       -0.04092863, -0.04000476, -0.03884137, -0.03555371, -0.03031146,\n",
       "       -0.02531445, -0.02057353, -0.01743147, -0.01552226])"
      ]
     },
     "execution_count": 72,
     "metadata": {},
     "output_type": "execute_result"
    }
   ],
   "source": [
    "hobs"
   ]
  },
  {
   "cell_type": "markdown",
   "metadata": {},
   "source": [
    "Optionally we can plot. Note that the time stamp on the time array are seconds passed from a certain starting point. How to determine that? One way is to parse the file Calc_input_deck.txt where the InTime and Fin Time is given."
   ]
  },
  {
   "cell_type": "code",
   "execution_count": 73,
   "metadata": {
    "collapsed": false
   },
   "outputs": [],
   "source": [
    "with open(PATH+'calc_{}/Calc_input_deck.txt'.format(tstamp)) as f:\n",
    "     lines = [line.rstrip('\\n') for line in f]\n",
    "     for atr in lines:\n",
    "        if 'InTime' in atr: time1 = atr.split('*')[0]\n",
    "        if 'FinTime' in atr: time2 = atr.split('*')[0]\n",
    "        if 'DateTsunami' in atr: startime=atr.split('*')[0]\n",
    "f.close()        "
   ]
  },
  {
   "cell_type": "code",
   "execution_count": 74,
   "metadata": {
    "collapsed": false
   },
   "outputs": [
    {
     "name": "stdout",
     "output_type": "stream",
     "text": [
      "InTime=        2370          FinTime=       2448         DateTsunami= 09 Mar 2016 00:00   \n"
     ]
    }
   ],
   "source": [
    "print time1,time2, startime"
   ]
  },
  {
   "cell_type": "code",
   "execution_count": 75,
   "metadata": {
    "collapsed": false
   },
   "outputs": [
    {
     "name": "stdout",
     "output_type": "stream",
     "text": [
      "2370.0 2448.0 09 Mar 2016 00:00\n"
     ]
    }
   ],
   "source": [
    "intime=float(time1.split('=')[1])\n",
    "fintime=float(time2.split('=')[1])\n",
    "stime=startime.split('=')[1].strip()\n",
    "print intime,fintime,stime"
   ]
  },
  {
   "cell_type": "markdown",
   "metadata": {},
   "source": [
    "the starting time of this run is ... "
   ]
  },
  {
   "cell_type": "code",
   "execution_count": 76,
   "metadata": {
    "collapsed": false
   },
   "outputs": [
    {
     "name": "stdout",
     "output_type": "stream",
     "text": [
      "2016-03-09 00:00:00\n"
     ]
    }
   ],
   "source": [
    "odate=datetime.datetime.strptime(stime,'%d %b %Y %H:%S')\n",
    "print odate"
   ]
  },
  {
   "cell_type": "markdown",
   "metadata": {},
   "source": [
    "So the start time of this particular computation is"
   ]
  },
  {
   "cell_type": "code",
   "execution_count": 77,
   "metadata": {
    "collapsed": false
   },
   "outputs": [
    {
     "name": "stdout",
     "output_type": "stream",
     "text": [
      "2016-06-15 18:00:00\n"
     ]
    }
   ],
   "source": [
    "print odate+datetime.timedelta(hours=intime)"
   ]
  },
  {
   "cell_type": "markdown",
   "metadata": {},
   "source": [
    " while the time stamp on the file is "
   ]
  },
  {
   "cell_type": "code",
   "execution_count": 78,
   "metadata": {
    "collapsed": false
   },
   "outputs": [
    {
     "name": "stdout",
     "output_type": "stream",
     "text": [
      "20160616.00\n"
     ]
    }
   ],
   "source": [
    "print tstamp"
   ]
  },
  {
   "cell_type": "markdown",
   "metadata": {},
   "source": [
    "thus the computation starts 6 hours before.!!!"
   ]
  },
  {
   "cell_type": "markdown",
   "metadata": {},
   "source": [
    "### Annual Module"
   ]
  },
  {
   "cell_type": "markdown",
   "metadata": {},
   "source": [
    "parsing for all folders in this year "
   ]
  },
  {
   "cell_type": "code",
   "execution_count": 79,
   "metadata": {
    "collapsed": true
   },
   "outputs": [],
   "source": [
    "allfolders=glob.glob(PATH+'calc_*')"
   ]
  },
  {
   "cell_type": "code",
   "execution_count": 80,
   "metadata": {
    "collapsed": false
   },
   "outputs": [],
   "source": [
    "folders=allfolders[-10:]# last 10 folders"
   ]
  },
  {
   "cell_type": "code",
   "execution_count": 86,
   "metadata": {
    "collapsed": false
   },
   "outputs": [
    {
     "data": {
      "application/javascript": [
       "/* Put everything inside the global mpl namespace */\n",
       "window.mpl = {};\n",
       "\n",
       "mpl.get_websocket_type = function() {\n",
       "    if (typeof(WebSocket) !== 'undefined') {\n",
       "        return WebSocket;\n",
       "    } else if (typeof(MozWebSocket) !== 'undefined') {\n",
       "        return MozWebSocket;\n",
       "    } else {\n",
       "        alert('Your browser does not have WebSocket support.' +\n",
       "              'Please try Chrome, Safari or Firefox ≥ 6. ' +\n",
       "              'Firefox 4 and 5 are also supported but you ' +\n",
       "              'have to enable WebSockets in about:config.');\n",
       "    };\n",
       "}\n",
       "\n",
       "mpl.figure = function(figure_id, websocket, ondownload, parent_element) {\n",
       "    this.id = figure_id;\n",
       "\n",
       "    this.ws = websocket;\n",
       "\n",
       "    this.supports_binary = (this.ws.binaryType != undefined);\n",
       "\n",
       "    if (!this.supports_binary) {\n",
       "        var warnings = document.getElementById(\"mpl-warnings\");\n",
       "        if (warnings) {\n",
       "            warnings.style.display = 'block';\n",
       "            warnings.textContent = (\n",
       "                \"This browser does not support binary websocket messages. \" +\n",
       "                    \"Performance may be slow.\");\n",
       "        }\n",
       "    }\n",
       "\n",
       "    this.imageObj = new Image();\n",
       "\n",
       "    this.context = undefined;\n",
       "    this.message = undefined;\n",
       "    this.canvas = undefined;\n",
       "    this.rubberband_canvas = undefined;\n",
       "    this.rubberband_context = undefined;\n",
       "    this.format_dropdown = undefined;\n",
       "\n",
       "    this.image_mode = 'full';\n",
       "\n",
       "    this.root = $('<div/>');\n",
       "    this._root_extra_style(this.root)\n",
       "    this.root.attr('style', 'display: inline-block');\n",
       "\n",
       "    $(parent_element).append(this.root);\n",
       "\n",
       "    this._init_header(this);\n",
       "    this._init_canvas(this);\n",
       "    this._init_toolbar(this);\n",
       "\n",
       "    var fig = this;\n",
       "\n",
       "    this.waiting = false;\n",
       "\n",
       "    this.ws.onopen =  function () {\n",
       "            fig.send_message(\"supports_binary\", {value: fig.supports_binary});\n",
       "            fig.send_message(\"send_image_mode\", {});\n",
       "            fig.send_message(\"refresh\", {});\n",
       "        }\n",
       "\n",
       "    this.imageObj.onload = function() {\n",
       "            if (fig.image_mode == 'full') {\n",
       "                // Full images could contain transparency (where diff images\n",
       "                // almost always do), so we need to clear the canvas so that\n",
       "                // there is no ghosting.\n",
       "                fig.context.clearRect(0, 0, fig.canvas.width, fig.canvas.height);\n",
       "            }\n",
       "            fig.context.drawImage(fig.imageObj, 0, 0);\n",
       "        };\n",
       "\n",
       "    this.imageObj.onunload = function() {\n",
       "        this.ws.close();\n",
       "    }\n",
       "\n",
       "    this.ws.onmessage = this._make_on_message_function(this);\n",
       "\n",
       "    this.ondownload = ondownload;\n",
       "}\n",
       "\n",
       "mpl.figure.prototype._init_header = function() {\n",
       "    var titlebar = $(\n",
       "        '<div class=\"ui-dialog-titlebar ui-widget-header ui-corner-all ' +\n",
       "        'ui-helper-clearfix\"/>');\n",
       "    var titletext = $(\n",
       "        '<div class=\"ui-dialog-title\" style=\"width: 100%; ' +\n",
       "        'text-align: center; padding: 3px;\"/>');\n",
       "    titlebar.append(titletext)\n",
       "    this.root.append(titlebar);\n",
       "    this.header = titletext[0];\n",
       "}\n",
       "\n",
       "\n",
       "\n",
       "mpl.figure.prototype._canvas_extra_style = function(canvas_div) {\n",
       "\n",
       "}\n",
       "\n",
       "\n",
       "mpl.figure.prototype._root_extra_style = function(canvas_div) {\n",
       "\n",
       "}\n",
       "\n",
       "mpl.figure.prototype._init_canvas = function() {\n",
       "    var fig = this;\n",
       "\n",
       "    var canvas_div = $('<div/>');\n",
       "\n",
       "    canvas_div.attr('style', 'position: relative; clear: both; outline: 0');\n",
       "\n",
       "    function canvas_keyboard_event(event) {\n",
       "        return fig.key_event(event, event['data']);\n",
       "    }\n",
       "\n",
       "    canvas_div.keydown('key_press', canvas_keyboard_event);\n",
       "    canvas_div.keyup('key_release', canvas_keyboard_event);\n",
       "    this.canvas_div = canvas_div\n",
       "    this._canvas_extra_style(canvas_div)\n",
       "    this.root.append(canvas_div);\n",
       "\n",
       "    var canvas = $('<canvas/>');\n",
       "    canvas.addClass('mpl-canvas');\n",
       "    canvas.attr('style', \"left: 0; top: 0; z-index: 0; outline: 0\")\n",
       "\n",
       "    this.canvas = canvas[0];\n",
       "    this.context = canvas[0].getContext(\"2d\");\n",
       "\n",
       "    var rubberband = $('<canvas/>');\n",
       "    rubberband.attr('style', \"position: absolute; left: 0; top: 0; z-index: 1;\")\n",
       "\n",
       "    var pass_mouse_events = true;\n",
       "\n",
       "    canvas_div.resizable({\n",
       "        start: function(event, ui) {\n",
       "            pass_mouse_events = false;\n",
       "        },\n",
       "        resize: function(event, ui) {\n",
       "            fig.request_resize(ui.size.width, ui.size.height);\n",
       "        },\n",
       "        stop: function(event, ui) {\n",
       "            pass_mouse_events = true;\n",
       "            fig.request_resize(ui.size.width, ui.size.height);\n",
       "        },\n",
       "    });\n",
       "\n",
       "    function mouse_event_fn(event) {\n",
       "        if (pass_mouse_events)\n",
       "            return fig.mouse_event(event, event['data']);\n",
       "    }\n",
       "\n",
       "    rubberband.mousedown('button_press', mouse_event_fn);\n",
       "    rubberband.mouseup('button_release', mouse_event_fn);\n",
       "    // Throttle sequential mouse events to 1 every 20ms.\n",
       "    rubberband.mousemove('motion_notify', mouse_event_fn);\n",
       "\n",
       "    rubberband.mouseenter('figure_enter', mouse_event_fn);\n",
       "    rubberband.mouseleave('figure_leave', mouse_event_fn);\n",
       "\n",
       "    canvas_div.on(\"wheel\", function (event) {\n",
       "        event = event.originalEvent;\n",
       "        event['data'] = 'scroll'\n",
       "        if (event.deltaY < 0) {\n",
       "            event.step = 1;\n",
       "        } else {\n",
       "            event.step = -1;\n",
       "        }\n",
       "        mouse_event_fn(event);\n",
       "    });\n",
       "\n",
       "    canvas_div.append(canvas);\n",
       "    canvas_div.append(rubberband);\n",
       "\n",
       "    this.rubberband = rubberband;\n",
       "    this.rubberband_canvas = rubberband[0];\n",
       "    this.rubberband_context = rubberband[0].getContext(\"2d\");\n",
       "    this.rubberband_context.strokeStyle = \"#000000\";\n",
       "\n",
       "    this._resize_canvas = function(width, height) {\n",
       "        // Keep the size of the canvas, canvas container, and rubber band\n",
       "        // canvas in synch.\n",
       "        canvas_div.css('width', width)\n",
       "        canvas_div.css('height', height)\n",
       "\n",
       "        canvas.attr('width', width);\n",
       "        canvas.attr('height', height);\n",
       "\n",
       "        rubberband.attr('width', width);\n",
       "        rubberband.attr('height', height);\n",
       "    }\n",
       "\n",
       "    // Set the figure to an initial 600x600px, this will subsequently be updated\n",
       "    // upon first draw.\n",
       "    this._resize_canvas(600, 600);\n",
       "\n",
       "    // Disable right mouse context menu.\n",
       "    $(this.rubberband_canvas).bind(\"contextmenu\",function(e){\n",
       "        return false;\n",
       "    });\n",
       "\n",
       "    function set_focus () {\n",
       "        canvas.focus();\n",
       "        canvas_div.focus();\n",
       "    }\n",
       "\n",
       "    window.setTimeout(set_focus, 100);\n",
       "}\n",
       "\n",
       "mpl.figure.prototype._init_toolbar = function() {\n",
       "    var fig = this;\n",
       "\n",
       "    var nav_element = $('<div/>')\n",
       "    nav_element.attr('style', 'width: 100%');\n",
       "    this.root.append(nav_element);\n",
       "\n",
       "    // Define a callback function for later on.\n",
       "    function toolbar_event(event) {\n",
       "        return fig.toolbar_button_onclick(event['data']);\n",
       "    }\n",
       "    function toolbar_mouse_event(event) {\n",
       "        return fig.toolbar_button_onmouseover(event['data']);\n",
       "    }\n",
       "\n",
       "    for(var toolbar_ind in mpl.toolbar_items) {\n",
       "        var name = mpl.toolbar_items[toolbar_ind][0];\n",
       "        var tooltip = mpl.toolbar_items[toolbar_ind][1];\n",
       "        var image = mpl.toolbar_items[toolbar_ind][2];\n",
       "        var method_name = mpl.toolbar_items[toolbar_ind][3];\n",
       "\n",
       "        if (!name) {\n",
       "            // put a spacer in here.\n",
       "            continue;\n",
       "        }\n",
       "        var button = $('<button/>');\n",
       "        button.addClass('ui-button ui-widget ui-state-default ui-corner-all ' +\n",
       "                        'ui-button-icon-only');\n",
       "        button.attr('role', 'button');\n",
       "        button.attr('aria-disabled', 'false');\n",
       "        button.click(method_name, toolbar_event);\n",
       "        button.mouseover(tooltip, toolbar_mouse_event);\n",
       "\n",
       "        var icon_img = $('<span/>');\n",
       "        icon_img.addClass('ui-button-icon-primary ui-icon');\n",
       "        icon_img.addClass(image);\n",
       "        icon_img.addClass('ui-corner-all');\n",
       "\n",
       "        var tooltip_span = $('<span/>');\n",
       "        tooltip_span.addClass('ui-button-text');\n",
       "        tooltip_span.html(tooltip);\n",
       "\n",
       "        button.append(icon_img);\n",
       "        button.append(tooltip_span);\n",
       "\n",
       "        nav_element.append(button);\n",
       "    }\n",
       "\n",
       "    var fmt_picker_span = $('<span/>');\n",
       "\n",
       "    var fmt_picker = $('<select/>');\n",
       "    fmt_picker.addClass('mpl-toolbar-option ui-widget ui-widget-content');\n",
       "    fmt_picker_span.append(fmt_picker);\n",
       "    nav_element.append(fmt_picker_span);\n",
       "    this.format_dropdown = fmt_picker[0];\n",
       "\n",
       "    for (var ind in mpl.extensions) {\n",
       "        var fmt = mpl.extensions[ind];\n",
       "        var option = $(\n",
       "            '<option/>', {selected: fmt === mpl.default_extension}).html(fmt);\n",
       "        fmt_picker.append(option)\n",
       "    }\n",
       "\n",
       "    // Add hover states to the ui-buttons\n",
       "    $( \".ui-button\" ).hover(\n",
       "        function() { $(this).addClass(\"ui-state-hover\");},\n",
       "        function() { $(this).removeClass(\"ui-state-hover\");}\n",
       "    );\n",
       "\n",
       "    var status_bar = $('<span class=\"mpl-message\"/>');\n",
       "    nav_element.append(status_bar);\n",
       "    this.message = status_bar[0];\n",
       "}\n",
       "\n",
       "mpl.figure.prototype.request_resize = function(x_pixels, y_pixels) {\n",
       "    // Request matplotlib to resize the figure. Matplotlib will then trigger a resize in the client,\n",
       "    // which will in turn request a refresh of the image.\n",
       "    this.send_message('resize', {'width': x_pixels, 'height': y_pixels});\n",
       "}\n",
       "\n",
       "mpl.figure.prototype.send_message = function(type, properties) {\n",
       "    properties['type'] = type;\n",
       "    properties['figure_id'] = this.id;\n",
       "    this.ws.send(JSON.stringify(properties));\n",
       "}\n",
       "\n",
       "mpl.figure.prototype.send_draw_message = function() {\n",
       "    if (!this.waiting) {\n",
       "        this.waiting = true;\n",
       "        this.ws.send(JSON.stringify({type: \"draw\", figure_id: this.id}));\n",
       "    }\n",
       "}\n",
       "\n",
       "\n",
       "mpl.figure.prototype.handle_save = function(fig, msg) {\n",
       "    var format_dropdown = fig.format_dropdown;\n",
       "    var format = format_dropdown.options[format_dropdown.selectedIndex].value;\n",
       "    fig.ondownload(fig, format);\n",
       "}\n",
       "\n",
       "\n",
       "mpl.figure.prototype.handle_resize = function(fig, msg) {\n",
       "    var size = msg['size'];\n",
       "    if (size[0] != fig.canvas.width || size[1] != fig.canvas.height) {\n",
       "        fig._resize_canvas(size[0], size[1]);\n",
       "        fig.send_message(\"refresh\", {});\n",
       "    };\n",
       "}\n",
       "\n",
       "mpl.figure.prototype.handle_rubberband = function(fig, msg) {\n",
       "    var x0 = msg['x0'];\n",
       "    var y0 = fig.canvas.height - msg['y0'];\n",
       "    var x1 = msg['x1'];\n",
       "    var y1 = fig.canvas.height - msg['y1'];\n",
       "    x0 = Math.floor(x0) + 0.5;\n",
       "    y0 = Math.floor(y0) + 0.5;\n",
       "    x1 = Math.floor(x1) + 0.5;\n",
       "    y1 = Math.floor(y1) + 0.5;\n",
       "    var min_x = Math.min(x0, x1);\n",
       "    var min_y = Math.min(y0, y1);\n",
       "    var width = Math.abs(x1 - x0);\n",
       "    var height = Math.abs(y1 - y0);\n",
       "\n",
       "    fig.rubberband_context.clearRect(\n",
       "        0, 0, fig.canvas.width, fig.canvas.height);\n",
       "\n",
       "    fig.rubberband_context.strokeRect(min_x, min_y, width, height);\n",
       "}\n",
       "\n",
       "mpl.figure.prototype.handle_figure_label = function(fig, msg) {\n",
       "    // Updates the figure title.\n",
       "    fig.header.textContent = msg['label'];\n",
       "}\n",
       "\n",
       "mpl.figure.prototype.handle_cursor = function(fig, msg) {\n",
       "    var cursor = msg['cursor'];\n",
       "    switch(cursor)\n",
       "    {\n",
       "    case 0:\n",
       "        cursor = 'pointer';\n",
       "        break;\n",
       "    case 1:\n",
       "        cursor = 'default';\n",
       "        break;\n",
       "    case 2:\n",
       "        cursor = 'crosshair';\n",
       "        break;\n",
       "    case 3:\n",
       "        cursor = 'move';\n",
       "        break;\n",
       "    }\n",
       "    fig.rubberband_canvas.style.cursor = cursor;\n",
       "}\n",
       "\n",
       "mpl.figure.prototype.handle_message = function(fig, msg) {\n",
       "    fig.message.textContent = msg['message'];\n",
       "}\n",
       "\n",
       "mpl.figure.prototype.handle_draw = function(fig, msg) {\n",
       "    // Request the server to send over a new figure.\n",
       "    fig.send_draw_message();\n",
       "}\n",
       "\n",
       "mpl.figure.prototype.handle_image_mode = function(fig, msg) {\n",
       "    fig.image_mode = msg['mode'];\n",
       "}\n",
       "\n",
       "mpl.figure.prototype.updated_canvas_event = function() {\n",
       "    // Called whenever the canvas gets updated.\n",
       "    this.send_message(\"ack\", {});\n",
       "}\n",
       "\n",
       "// A function to construct a web socket function for onmessage handling.\n",
       "// Called in the figure constructor.\n",
       "mpl.figure.prototype._make_on_message_function = function(fig) {\n",
       "    return function socket_on_message(evt) {\n",
       "        if (evt.data instanceof Blob) {\n",
       "            /* FIXME: We get \"Resource interpreted as Image but\n",
       "             * transferred with MIME type text/plain:\" errors on\n",
       "             * Chrome.  But how to set the MIME type?  It doesn't seem\n",
       "             * to be part of the websocket stream */\n",
       "            evt.data.type = \"image/png\";\n",
       "\n",
       "            /* Free the memory for the previous frames */\n",
       "            if (fig.imageObj.src) {\n",
       "                (window.URL || window.webkitURL).revokeObjectURL(\n",
       "                    fig.imageObj.src);\n",
       "            }\n",
       "\n",
       "            fig.imageObj.src = (window.URL || window.webkitURL).createObjectURL(\n",
       "                evt.data);\n",
       "            fig.updated_canvas_event();\n",
       "            fig.waiting = false;\n",
       "            return;\n",
       "        }\n",
       "        else if (typeof evt.data === 'string' && evt.data.slice(0, 21) == \"data:image/png;base64\") {\n",
       "            fig.imageObj.src = evt.data;\n",
       "            fig.updated_canvas_event();\n",
       "            fig.waiting = false;\n",
       "            return;\n",
       "        }\n",
       "\n",
       "        var msg = JSON.parse(evt.data);\n",
       "        var msg_type = msg['type'];\n",
       "\n",
       "        // Call the  \"handle_{type}\" callback, which takes\n",
       "        // the figure and JSON message as its only arguments.\n",
       "        try {\n",
       "            var callback = fig[\"handle_\" + msg_type];\n",
       "        } catch (e) {\n",
       "            console.log(\"No handler for the '\" + msg_type + \"' message type: \", msg);\n",
       "            return;\n",
       "        }\n",
       "\n",
       "        if (callback) {\n",
       "            try {\n",
       "                // console.log(\"Handling '\" + msg_type + \"' message: \", msg);\n",
       "                callback(fig, msg);\n",
       "            } catch (e) {\n",
       "                console.log(\"Exception inside the 'handler_\" + msg_type + \"' callback:\", e, e.stack, msg);\n",
       "            }\n",
       "        }\n",
       "    };\n",
       "}\n",
       "\n",
       "// from http://stackoverflow.com/questions/1114465/getting-mouse-location-in-canvas\n",
       "mpl.findpos = function(e) {\n",
       "    //this section is from http://www.quirksmode.org/js/events_properties.html\n",
       "    var targ;\n",
       "    if (!e)\n",
       "        e = window.event;\n",
       "    if (e.target)\n",
       "        targ = e.target;\n",
       "    else if (e.srcElement)\n",
       "        targ = e.srcElement;\n",
       "    if (targ.nodeType == 3) // defeat Safari bug\n",
       "        targ = targ.parentNode;\n",
       "\n",
       "    // jQuery normalizes the pageX and pageY\n",
       "    // pageX,Y are the mouse positions relative to the document\n",
       "    // offset() returns the position of the element relative to the document\n",
       "    var x = e.pageX - $(targ).offset().left;\n",
       "    var y = e.pageY - $(targ).offset().top;\n",
       "\n",
       "    return {\"x\": x, \"y\": y};\n",
       "};\n",
       "\n",
       "/*\n",
       " * return a copy of an object with only non-object keys\n",
       " * we need this to avoid circular references\n",
       " * http://stackoverflow.com/a/24161582/3208463\n",
       " */\n",
       "function simpleKeys (original) {\n",
       "  return Object.keys(original).reduce(function (obj, key) {\n",
       "    if (typeof original[key] !== 'object')\n",
       "        obj[key] = original[key]\n",
       "    return obj;\n",
       "  }, {});\n",
       "}\n",
       "\n",
       "mpl.figure.prototype.mouse_event = function(event, name) {\n",
       "    var canvas_pos = mpl.findpos(event)\n",
       "\n",
       "    if (name === 'button_press')\n",
       "    {\n",
       "        this.canvas.focus();\n",
       "        this.canvas_div.focus();\n",
       "    }\n",
       "\n",
       "    var x = canvas_pos.x;\n",
       "    var y = canvas_pos.y;\n",
       "\n",
       "    this.send_message(name, {x: x, y: y, button: event.button,\n",
       "                             step: event.step,\n",
       "                             guiEvent: simpleKeys(event)});\n",
       "\n",
       "    /* This prevents the web browser from automatically changing to\n",
       "     * the text insertion cursor when the button is pressed.  We want\n",
       "     * to control all of the cursor setting manually through the\n",
       "     * 'cursor' event from matplotlib */\n",
       "    event.preventDefault();\n",
       "    return false;\n",
       "}\n",
       "\n",
       "mpl.figure.prototype._key_event_extra = function(event, name) {\n",
       "    // Handle any extra behaviour associated with a key event\n",
       "}\n",
       "\n",
       "mpl.figure.prototype.key_event = function(event, name) {\n",
       "\n",
       "    // Prevent repeat events\n",
       "    if (name == 'key_press')\n",
       "    {\n",
       "        if (event.which === this._key)\n",
       "            return;\n",
       "        else\n",
       "            this._key = event.which;\n",
       "    }\n",
       "    if (name == 'key_release')\n",
       "        this._key = null;\n",
       "\n",
       "    var value = '';\n",
       "    if (event.ctrlKey && event.which != 17)\n",
       "        value += \"ctrl+\";\n",
       "    if (event.altKey && event.which != 18)\n",
       "        value += \"alt+\";\n",
       "    if (event.shiftKey && event.which != 16)\n",
       "        value += \"shift+\";\n",
       "\n",
       "    value += 'k';\n",
       "    value += event.which.toString();\n",
       "\n",
       "    this._key_event_extra(event, name);\n",
       "\n",
       "    this.send_message(name, {key: value,\n",
       "                             guiEvent: simpleKeys(event)});\n",
       "    return false;\n",
       "}\n",
       "\n",
       "mpl.figure.prototype.toolbar_button_onclick = function(name) {\n",
       "    if (name == 'download') {\n",
       "        this.handle_save(this, null);\n",
       "    } else {\n",
       "        this.send_message(\"toolbar_button\", {name: name});\n",
       "    }\n",
       "};\n",
       "\n",
       "mpl.figure.prototype.toolbar_button_onmouseover = function(tooltip) {\n",
       "    this.message.textContent = tooltip;\n",
       "};\n",
       "mpl.toolbar_items = [[\"Home\", \"Reset original view\", \"fa fa-home icon-home\", \"home\"], [\"Back\", \"Back to  previous view\", \"fa fa-arrow-left icon-arrow-left\", \"back\"], [\"Forward\", \"Forward to next view\", \"fa fa-arrow-right icon-arrow-right\", \"forward\"], [\"\", \"\", \"\", \"\"], [\"Pan\", \"Pan axes with left mouse, zoom with right\", \"fa fa-arrows icon-move\", \"pan\"], [\"Zoom\", \"Zoom to rectangle\", \"fa fa-square-o icon-check-empty\", \"zoom\"], [\"\", \"\", \"\", \"\"], [\"Download\", \"Download plot\", \"fa fa-floppy-o icon-save\", \"download\"]];\n",
       "\n",
       "mpl.extensions = [\"eps\", \"jpeg\", \"pdf\", \"png\", \"ps\", \"raw\", \"svg\", \"tif\"];\n",
       "\n",
       "mpl.default_extension = \"png\";var comm_websocket_adapter = function(comm) {\n",
       "    // Create a \"websocket\"-like object which calls the given IPython comm\n",
       "    // object with the appropriate methods. Currently this is a non binary\n",
       "    // socket, so there is still some room for performance tuning.\n",
       "    var ws = {};\n",
       "\n",
       "    ws.close = function() {\n",
       "        comm.close()\n",
       "    };\n",
       "    ws.send = function(m) {\n",
       "        //console.log('sending', m);\n",
       "        comm.send(m);\n",
       "    };\n",
       "    // Register the callback with on_msg.\n",
       "    comm.on_msg(function(msg) {\n",
       "        //console.log('receiving', msg['content']['data'], msg);\n",
       "        // Pass the mpl event to the overriden (by mpl) onmessage function.\n",
       "        ws.onmessage(msg['content']['data'])\n",
       "    });\n",
       "    return ws;\n",
       "}\n",
       "\n",
       "mpl.mpl_figure_comm = function(comm, msg) {\n",
       "    // This is the function which gets called when the mpl process\n",
       "    // starts-up an IPython Comm through the \"matplotlib\" channel.\n",
       "\n",
       "    var id = msg.content.data.id;\n",
       "    // Get hold of the div created by the display call when the Comm\n",
       "    // socket was opened in Python.\n",
       "    var element = $(\"#\" + id);\n",
       "    var ws_proxy = comm_websocket_adapter(comm)\n",
       "\n",
       "    function ondownload(figure, format) {\n",
       "        window.open(figure.imageObj.src);\n",
       "    }\n",
       "\n",
       "    var fig = new mpl.figure(id, ws_proxy,\n",
       "                           ondownload,\n",
       "                           element.get(0));\n",
       "\n",
       "    // Call onopen now - mpl needs it, as it is assuming we've passed it a real\n",
       "    // web socket which is closed, not our websocket->open comm proxy.\n",
       "    ws_proxy.onopen();\n",
       "\n",
       "    fig.parent_element = element.get(0);\n",
       "    fig.cell_info = mpl.find_output_cell(\"<div id='\" + id + \"'></div>\");\n",
       "    if (!fig.cell_info) {\n",
       "        console.error(\"Failed to find cell for figure\", id, fig);\n",
       "        return;\n",
       "    }\n",
       "\n",
       "    var output_index = fig.cell_info[2]\n",
       "    var cell = fig.cell_info[0];\n",
       "\n",
       "};\n",
       "\n",
       "mpl.figure.prototype.handle_close = function(fig, msg) {\n",
       "    fig.root.unbind('remove')\n",
       "\n",
       "    // Update the output cell to use the data from the current canvas.\n",
       "    fig.push_to_output();\n",
       "    var dataURL = fig.canvas.toDataURL();\n",
       "    // Re-enable the keyboard manager in IPython - without this line, in FF,\n",
       "    // the notebook keyboard shortcuts fail.\n",
       "    IPython.keyboard_manager.enable()\n",
       "    $(fig.parent_element).html('<img src=\"' + dataURL + '\">');\n",
       "    fig.close_ws(fig, msg);\n",
       "}\n",
       "\n",
       "mpl.figure.prototype.close_ws = function(fig, msg){\n",
       "    fig.send_message('closing', msg);\n",
       "    // fig.ws.close()\n",
       "}\n",
       "\n",
       "mpl.figure.prototype.push_to_output = function(remove_interactive) {\n",
       "    // Turn the data on the canvas into data in the output cell.\n",
       "    var dataURL = this.canvas.toDataURL();\n",
       "    this.cell_info[1]['text/html'] = '<img src=\"' + dataURL + '\">';\n",
       "}\n",
       "\n",
       "mpl.figure.prototype.updated_canvas_event = function() {\n",
       "    // Tell IPython that the notebook contents must change.\n",
       "    IPython.notebook.set_dirty(true);\n",
       "    this.send_message(\"ack\", {});\n",
       "    var fig = this;\n",
       "    // Wait a second, then push the new image to the DOM so\n",
       "    // that it is saved nicely (might be nice to debounce this).\n",
       "    setTimeout(function () { fig.push_to_output() }, 1000);\n",
       "}\n",
       "\n",
       "mpl.figure.prototype._init_toolbar = function() {\n",
       "    var fig = this;\n",
       "\n",
       "    var nav_element = $('<div/>')\n",
       "    nav_element.attr('style', 'width: 100%');\n",
       "    this.root.append(nav_element);\n",
       "\n",
       "    // Define a callback function for later on.\n",
       "    function toolbar_event(event) {\n",
       "        return fig.toolbar_button_onclick(event['data']);\n",
       "    }\n",
       "    function toolbar_mouse_event(event) {\n",
       "        return fig.toolbar_button_onmouseover(event['data']);\n",
       "    }\n",
       "\n",
       "    for(var toolbar_ind in mpl.toolbar_items){\n",
       "        var name = mpl.toolbar_items[toolbar_ind][0];\n",
       "        var tooltip = mpl.toolbar_items[toolbar_ind][1];\n",
       "        var image = mpl.toolbar_items[toolbar_ind][2];\n",
       "        var method_name = mpl.toolbar_items[toolbar_ind][3];\n",
       "\n",
       "        if (!name) { continue; };\n",
       "\n",
       "        var button = $('<button class=\"btn btn-default\" href=\"#\" title=\"' + name + '\"><i class=\"fa ' + image + ' fa-lg\"></i></button>');\n",
       "        button.click(method_name, toolbar_event);\n",
       "        button.mouseover(tooltip, toolbar_mouse_event);\n",
       "        nav_element.append(button);\n",
       "    }\n",
       "\n",
       "    // Add the status bar.\n",
       "    var status_bar = $('<span class=\"mpl-message\" style=\"text-align:right; float: right;\"/>');\n",
       "    nav_element.append(status_bar);\n",
       "    this.message = status_bar[0];\n",
       "\n",
       "    // Add the close button to the window.\n",
       "    var buttongrp = $('<div class=\"btn-group inline pull-right\"></div>');\n",
       "    var button = $('<button class=\"btn btn-mini btn-primary\" href=\"#\" title=\"Stop Interaction\"><i class=\"fa fa-power-off icon-remove icon-large\"></i></button>');\n",
       "    button.click(function (evt) { fig.handle_close(fig, {}); } );\n",
       "    button.mouseover('Stop Interaction', toolbar_mouse_event);\n",
       "    buttongrp.append(button);\n",
       "    var titlebar = this.root.find($('.ui-dialog-titlebar'));\n",
       "    titlebar.prepend(buttongrp);\n",
       "}\n",
       "\n",
       "mpl.figure.prototype._root_extra_style = function(el){\n",
       "    var fig = this\n",
       "    el.on(\"remove\", function(){\n",
       "\tfig.close_ws(fig, {});\n",
       "    });\n",
       "}\n",
       "\n",
       "mpl.figure.prototype._canvas_extra_style = function(el){\n",
       "    // this is important to make the div 'focusable\n",
       "    el.attr('tabindex', 0)\n",
       "    // reach out to IPython and tell the keyboard manager to turn it's self\n",
       "    // off when our div gets focus\n",
       "\n",
       "    // location in version 3\n",
       "    if (IPython.notebook.keyboard_manager) {\n",
       "        IPython.notebook.keyboard_manager.register_events(el);\n",
       "    }\n",
       "    else {\n",
       "        // location in version 2\n",
       "        IPython.keyboard_manager.register_events(el);\n",
       "    }\n",
       "\n",
       "}\n",
       "\n",
       "mpl.figure.prototype._key_event_extra = function(event, name) {\n",
       "    var manager = IPython.notebook.keyboard_manager;\n",
       "    if (!manager)\n",
       "        manager = IPython.keyboard_manager;\n",
       "\n",
       "    // Check for shift+enter\n",
       "    if (event.shiftKey && event.which == 13) {\n",
       "        this.canvas_div.blur();\n",
       "        event.shiftKey = false;\n",
       "        // Send a \"J\" for go to next cell\n",
       "        event.which = 74;\n",
       "        event.keyCode = 74;\n",
       "        manager.command_mode();\n",
       "        manager.handle_keydown(event);\n",
       "    }\n",
       "}\n",
       "\n",
       "mpl.figure.prototype.handle_save = function(fig, msg) {\n",
       "    fig.ondownload(fig, null);\n",
       "}\n",
       "\n",
       "\n",
       "mpl.find_output_cell = function(html_output) {\n",
       "    // Return the cell and output element which can be found *uniquely* in the notebook.\n",
       "    // Note - this is a bit hacky, but it is done because the \"notebook_saving.Notebook\"\n",
       "    // IPython event is triggered only after the cells have been serialised, which for\n",
       "    // our purposes (turning an active figure into a static one), is too late.\n",
       "    var cells = IPython.notebook.get_cells();\n",
       "    var ncells = cells.length;\n",
       "    for (var i=0; i<ncells; i++) {\n",
       "        var cell = cells[i];\n",
       "        if (cell.cell_type === 'code'){\n",
       "            for (var j=0; j<cell.output_area.outputs.length; j++) {\n",
       "                var data = cell.output_area.outputs[j];\n",
       "                if (data.data) {\n",
       "                    // IPython >= 3 moved mimebundle to data attribute of output\n",
       "                    data = data.data;\n",
       "                }\n",
       "                if (data['text/html'] == html_output) {\n",
       "                    return [cell, data, j];\n",
       "                }\n",
       "            }\n",
       "        }\n",
       "    }\n",
       "}\n",
       "\n",
       "// Register the function which deals with the matplotlib target/channel.\n",
       "// The kernel may be null if the page has been refreshed.\n",
       "if (IPython.notebook.kernel != null) {\n",
       "    IPython.notebook.kernel.comm_manager.register_target('matplotlib', mpl.mpl_figure_comm);\n",
       "}\n"
      ],
      "text/plain": [
       "<IPython.core.display.Javascript object>"
      ]
     },
     "metadata": {},
     "output_type": "display_data"
    },
    {
     "data": {
      "text/html": [
       "<img src=\"data:image/png;base64,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\">"
      ],
      "text/plain": [
       "<IPython.core.display.HTML object>"
      ]
     },
     "metadata": {},
     "output_type": "display_data"
    }
   ],
   "source": [
    "fig = plt.figure(figsize=(10,8))\n",
    "ax = fig.add_axes([0.1,0.1,0.9,0.9])\n",
    "\n",
    "plt.gca().xaxis.set_major_formatter(mdates.DateFormatter('%m/%d/%Y %H'))\n",
    "plt.gca().xaxis.set_major_locator(mdates.HourLocator(byhour=[0,12]))\n",
    "ax.xaxis_date()\n",
    "\n",
    "for ifolder in folders: \n",
    "    rstamp=ifolder.split('/')[-1].split('_')[1] # the time stamp on the run folder (actual date of the run)\n",
    "    rdate=datetime.datetime.strptime(rstamp,'%Y%m%d.%H')\n",
    "    hfiles=glob.glob(ifolder+'/TIF_H*.tif')\n",
    "    t=[]\n",
    "    hobs=[]\n",
    "    for ifile in hfiles:  \n",
    "        dat=getmap(ifile)\n",
    "        hobs.append(np.flipud(dat.data)[i,j])\n",
    "        ti=ifile.split('/')[-1].split('_H_')[1].split('.')[0]\n",
    "        if ti == 0: # there is a new restart\n",
    "            t.append(rdate)\n",
    "            odate=rdate # set new odate\n",
    "        else:\n",
    "            t.append(odate+datetime.timedelta(hours=float(ti)/60./60.))\n",
    "    plt.plot(t,hobs,'o-',label=rdate)\n",
    "\n",
    "plt.gcf().autofmt_xdate()\n",
    "plt.legend(loc=0)\n",
    "plt.show()"
   ]
  },
  {
   "cell_type": "markdown",
   "metadata": {},
   "source": [
    "You can see that the elevation for the 6 hours before the run's main time stamp do not match. WHY? What changed? What is the one to use for a long time series? "
   ]
  },
  {
   "cell_type": "markdown",
   "metadata": {},
   "source": [
    "## Compare forcing"
   ]
  },
  {
   "cell_type": "markdown",
   "metadata": {},
   "source": [
    "Check the forcing files in the time folders."
   ]
  },
  {
   "cell_type": "code",
   "execution_count": 87,
   "metadata": {
    "collapsed": true
   },
   "outputs": [],
   "source": [
    "allfolders=glob.glob(PATH+'tif_*')"
   ]
  },
  {
   "cell_type": "code",
   "execution_count": 88,
   "metadata": {
    "collapsed": true
   },
   "outputs": [],
   "source": [
    "folders=allfolders[-10:]"
   ]
  },
  {
   "cell_type": "code",
   "execution_count": 89,
   "metadata": {
    "collapsed": true
   },
   "outputs": [],
   "source": [
    "fdic={}  # create a dictionary to store the timestamps of every run(folder)"
   ]
  },
  {
   "cell_type": "code",
   "execution_count": 90,
   "metadata": {
    "collapsed": true
   },
   "outputs": [],
   "source": [
    "for ifolder in folders: \n",
    "    rstamp=ifolder.split('/')[-1].split('_')[1] # the time stamp on the run folder (actual date of the run)\n",
    "    rdate=datetime.datetime.strptime(rstamp,'%Y%m%d.%H')\n",
    "    pfiles=glob.glob(ifolder+'/TIF_PRESS*.tif')\n",
    "    t=[]\n",
    "    for ifile in pfiles:\n",
    "        ti=ifile.split('/')[-1].split('_PRESS_')[1].split('.')[0]\n",
    "        ta=datetime.datetime.strptime(ti,'%Y%m%d%H%M')\n",
    "        t.append(ta)\n",
    "    fdic[rstamp]=t"
   ]
  },
  {
   "cell_type": "code",
   "execution_count": 91,
   "metadata": {
    "collapsed": false
   },
   "outputs": [
    {
     "name": "stdout",
     "output_type": "stream",
     "text": [
      "check 2016-07-17 06:00:00\n",
      "check 2016-07-17 07:00:00\n",
      "check 2016-07-17 08:00:00\n",
      "check 2016-07-17 09:00:00\n",
      "check 2016-07-17 10:00:00\n",
      "check 2016-07-17 11:00:00\n",
      "check 2016-07-17 18:00:00\n",
      "check 2016-07-17 19:00:00\n",
      "check 2016-07-17 20:00:00\n",
      "check 2016-07-17 21:00:00\n",
      "check 2016-07-17 22:00:00\n",
      "check 2016-07-17 23:00:00\n",
      "check 2016-07-18 06:00:00\n",
      "check 2016-07-18 07:00:00\n",
      "check 2016-07-18 08:00:00\n",
      "check 2016-07-18 09:00:00\n",
      "check 2016-07-18 10:00:00\n",
      "check 2016-07-18 11:00:00\n",
      "check 2016-07-18 18:00:00\n",
      "check 2016-07-18 19:00:00\n",
      "check 2016-07-18 20:00:00\n",
      "check 2016-07-18 21:00:00\n",
      "check 2016-07-18 22:00:00\n",
      "check 2016-07-18 23:00:00\n",
      "check 2016-07-19 06:00:00\n",
      "check 2016-07-19 07:00:00\n",
      "check 2016-07-19 08:00:00\n",
      "check 2016-07-19 09:00:00\n",
      "check 2016-07-19 10:00:00\n",
      "check 2016-07-19 11:00:00\n",
      "check 2016-07-19 18:00:00\n",
      "check 2016-07-19 19:00:00\n",
      "check 2016-07-19 20:00:00\n",
      "check 2016-07-19 21:00:00\n",
      "check 2016-07-19 22:00:00\n",
      "check 2016-07-19 23:00:00\n",
      "check 2016-07-20 06:00:00\n",
      "check 2016-07-20 07:00:00\n",
      "check 2016-07-20 08:00:00\n",
      "check 2016-07-20 09:00:00\n",
      "check 2016-07-20 10:00:00\n",
      "check 2016-07-20 11:00:00\n",
      "check 2016-07-20 18:00:00\n",
      "check 2016-07-20 19:00:00\n",
      "check 2016-07-20 20:00:00\n",
      "check 2016-07-20 21:00:00\n",
      "check 2016-07-20 22:00:00\n",
      "check 2016-07-20 23:00:00\n",
      "check 2016-07-21 06:00:00\n",
      "check 2016-07-21 07:00:00\n",
      "check 2016-07-21 08:00:00\n",
      "check 2016-07-21 09:00:00\n",
      "check 2016-07-21 10:00:00\n",
      "check 2016-07-21 11:00:00\n"
     ]
    }
   ],
   "source": [
    "for m in range(1,np.size(folders)):\n",
    "    rstamp=folders[m].split('/')[-1].split('_')[1] \n",
    "    foldertime=datetime.datetime.strptime(rstamp,'%Y%m%d.%H')\n",
    "    previous_stamp=folders[m-1].split('/')[-1].split('_')[1]\n",
    "    pfiles=glob.glob(folders[m]+'/TIF_PRESS*.tif')\n",
    "    for ifile in pfiles:\n",
    "        ti=ifile.split('/')[-1].split('_PRESS_')[1].split('.')[0]\n",
    "        ta=datetime.datetime.strptime(ti,'%Y%m%d%H%M')\n",
    "        if ta < foldertime and ta in fdic[previous_stamp]:\n",
    "            print 'check {}'.format(ta)\n",
    "            dprev=getmap(folders[m-1]+'/TIF_PRESS_'+ti+'.tif')\n",
    "            dcur=getmap(folders[m]+'/TIF_PRESS_'+ti+'.tif')\n",
    "            #compare data\n",
    "            if not np.array_equal(dprev.data,dcur.data) : print 'error in {}'.format(ta)\n",
    "            "
   ]
  },
  {
   "cell_type": "markdown",
   "metadata": {},
   "source": [
    "the same thing for U,V, VMAX"
   ]
  },
  {
   "cell_type": "code",
   "execution_count": 92,
   "metadata": {
    "collapsed": false
   },
   "outputs": [
    {
     "name": "stdout",
     "output_type": "stream",
     "text": [
      "check 2016-07-17 06:00:00\n",
      "check 2016-07-17 07:00:00\n",
      "check 2016-07-17 08:00:00\n",
      "check 2016-07-17 09:00:00\n",
      "check 2016-07-17 10:00:00\n",
      "check 2016-07-17 11:00:00\n",
      "check 2016-07-17 18:00:00\n",
      "check 2016-07-17 19:00:00\n",
      "check 2016-07-17 20:00:00\n",
      "check 2016-07-17 21:00:00\n",
      "check 2016-07-17 22:00:00\n",
      "check 2016-07-17 23:00:00\n",
      "check 2016-07-18 06:00:00\n",
      "check 2016-07-18 07:00:00\n",
      "check 2016-07-18 08:00:00\n",
      "check 2016-07-18 09:00:00\n",
      "check 2016-07-18 10:00:00\n",
      "check 2016-07-18 11:00:00\n",
      "check 2016-07-18 18:00:00\n",
      "check 2016-07-18 19:00:00\n",
      "check 2016-07-18 20:00:00\n",
      "check 2016-07-18 21:00:00\n",
      "check 2016-07-18 22:00:00\n",
      "check 2016-07-18 23:00:00\n",
      "check 2016-07-19 06:00:00\n",
      "check 2016-07-19 07:00:00\n",
      "check 2016-07-19 08:00:00\n",
      "check 2016-07-19 09:00:00\n",
      "check 2016-07-19 10:00:00\n",
      "check 2016-07-19 11:00:00\n",
      "check 2016-07-19 18:00:00\n",
      "check 2016-07-19 19:00:00\n",
      "check 2016-07-19 20:00:00\n",
      "check 2016-07-19 21:00:00\n",
      "check 2016-07-19 22:00:00\n",
      "check 2016-07-19 23:00:00\n",
      "check 2016-07-20 06:00:00\n",
      "check 2016-07-20 07:00:00\n",
      "check 2016-07-20 08:00:00\n",
      "check 2016-07-20 09:00:00\n",
      "check 2016-07-20 10:00:00\n",
      "check 2016-07-20 11:00:00\n",
      "check 2016-07-20 18:00:00\n",
      "check 2016-07-20 19:00:00\n",
      "check 2016-07-20 20:00:00\n",
      "check 2016-07-20 21:00:00\n",
      "check 2016-07-20 22:00:00\n",
      "check 2016-07-20 23:00:00\n",
      "check 2016-07-21 06:00:00\n",
      "check 2016-07-21 07:00:00\n",
      "check 2016-07-21 08:00:00\n",
      "check 2016-07-21 09:00:00\n",
      "check 2016-07-21 10:00:00\n",
      "check 2016-07-21 11:00:00\n"
     ]
    }
   ],
   "source": [
    "for m in range(1,np.size(folders)):\n",
    "    rstamp=folders[m].split('/')[-1].split('_')[1] \n",
    "    foldertime=datetime.datetime.strptime(rstamp,'%Y%m%d.%H')\n",
    "    previous_stamp=folders[m-1].split('/')[-1].split('_')[1]\n",
    "    pfiles=glob.glob(folders[m]+'/TIF_U10*.tif')\n",
    "    for ifile in pfiles:\n",
    "        ti=ifile.split('/')[-1].split('_U10_')[1].split('.')[0]\n",
    "        ta=datetime.datetime.strptime(ti,'%Y%m%d%H%M')\n",
    "        if ta < foldertime and ta in fdic[previous_stamp]:\n",
    "            print 'check {}'.format(ta)\n",
    "            dprev=getmap(folders[m-1]+'/TIF_U10_'+ti+'.tif')\n",
    "            dcur=getmap(folders[m]+'/TIF_U10_'+ti+'.tif')\n",
    "            #compare data\n",
    "            if not np.array_equal(dprev.data,dcur.data) : print 'error in {}'.format(ta)\n",
    "            "
   ]
  },
  {
   "cell_type": "code",
   "execution_count": 93,
   "metadata": {
    "collapsed": false
   },
   "outputs": [
    {
     "name": "stdout",
     "output_type": "stream",
     "text": [
      "check 2016-07-17 06:00:00\n",
      "check 2016-07-17 07:00:00\n",
      "check 2016-07-17 08:00:00\n",
      "check 2016-07-17 09:00:00\n",
      "check 2016-07-17 10:00:00\n",
      "check 2016-07-17 11:00:00\n",
      "check 2016-07-17 18:00:00\n",
      "check 2016-07-17 19:00:00\n",
      "check 2016-07-17 20:00:00\n",
      "check 2016-07-17 21:00:00\n",
      "check 2016-07-17 22:00:00\n",
      "check 2016-07-17 23:00:00\n",
      "check 2016-07-18 06:00:00\n",
      "check 2016-07-18 07:00:00\n",
      "check 2016-07-18 08:00:00\n",
      "check 2016-07-18 09:00:00\n",
      "check 2016-07-18 10:00:00\n",
      "check 2016-07-18 11:00:00\n",
      "check 2016-07-18 18:00:00\n",
      "check 2016-07-18 19:00:00\n",
      "check 2016-07-18 20:00:00\n",
      "check 2016-07-18 21:00:00\n",
      "check 2016-07-18 22:00:00\n",
      "check 2016-07-18 23:00:00\n",
      "check 2016-07-19 06:00:00\n",
      "check 2016-07-19 07:00:00\n",
      "check 2016-07-19 08:00:00\n",
      "check 2016-07-19 09:00:00\n",
      "check 2016-07-19 10:00:00\n",
      "check 2016-07-19 11:00:00\n",
      "check 2016-07-19 18:00:00\n",
      "check 2016-07-19 19:00:00\n",
      "check 2016-07-19 20:00:00\n",
      "check 2016-07-19 21:00:00\n",
      "check 2016-07-19 22:00:00\n",
      "check 2016-07-19 23:00:00\n",
      "check 2016-07-20 06:00:00\n",
      "check 2016-07-20 07:00:00\n",
      "check 2016-07-20 08:00:00\n",
      "check 2016-07-20 09:00:00\n",
      "check 2016-07-20 10:00:00\n",
      "check 2016-07-20 11:00:00\n",
      "check 2016-07-20 18:00:00\n",
      "check 2016-07-20 19:00:00\n",
      "check 2016-07-20 20:00:00\n",
      "check 2016-07-20 21:00:00\n",
      "check 2016-07-20 22:00:00\n",
      "check 2016-07-20 23:00:00\n",
      "check 2016-07-21 06:00:00\n",
      "check 2016-07-21 07:00:00\n",
      "check 2016-07-21 08:00:00\n",
      "check 2016-07-21 09:00:00\n",
      "check 2016-07-21 10:00:00\n",
      "check 2016-07-21 11:00:00\n"
     ]
    }
   ],
   "source": [
    "for m in range(1,np.size(folders)):\n",
    "    rstamp=folders[m].split('/')[-1].split('_')[1] \n",
    "    foldertime=datetime.datetime.strptime(rstamp,'%Y%m%d.%H')\n",
    "    previous_stamp=folders[m-1].split('/')[-1].split('_')[1]\n",
    "    pfiles=glob.glob(folders[m]+'/TIF_V10*.tif')\n",
    "    for ifile in pfiles:\n",
    "        ti=ifile.split('/')[-1].split('_V10_')[1].split('.')[0]\n",
    "        ta=datetime.datetime.strptime(ti,'%Y%m%d%H%M')\n",
    "        if ta < foldertime and ta in fdic[previous_stamp]:\n",
    "            print 'check {}'.format(ta)\n",
    "            dprev=getmap(folders[m-1]+'/TIF_V10_'+ti+'.tif')\n",
    "            dcur=getmap(folders[m]+'/TIF_V10_'+ti+'.tif')\n",
    "            #compare data\n",
    "            if not np.array_equal(dprev.data,dcur.data) : print 'error in {}'.format(ta)\n",
    "            "
   ]
  },
  {
   "cell_type": "code",
   "execution_count": 94,
   "metadata": {
    "collapsed": false
   },
   "outputs": [
    {
     "name": "stdout",
     "output_type": "stream",
     "text": [
      "check 2016-07-17 06:00:00\n",
      "check 2016-07-17 07:00:00\n",
      "check 2016-07-17 08:00:00\n",
      "check 2016-07-17 09:00:00\n",
      "check 2016-07-17 10:00:00\n",
      "check 2016-07-17 11:00:00\n",
      "check 2016-07-17 18:00:00\n",
      "check 2016-07-17 19:00:00\n",
      "check 2016-07-17 20:00:00\n",
      "check 2016-07-17 21:00:00\n",
      "check 2016-07-17 22:00:00\n",
      "check 2016-07-17 23:00:00\n",
      "check 2016-07-18 06:00:00\n",
      "check 2016-07-18 07:00:00\n",
      "check 2016-07-18 08:00:00\n",
      "check 2016-07-18 09:00:00\n",
      "check 2016-07-18 10:00:00\n",
      "check 2016-07-18 11:00:00\n",
      "check 2016-07-18 18:00:00\n",
      "check 2016-07-18 19:00:00\n",
      "check 2016-07-18 20:00:00\n",
      "check 2016-07-18 21:00:00\n",
      "check 2016-07-18 22:00:00\n",
      "check 2016-07-18 23:00:00\n",
      "check 2016-07-19 06:00:00\n",
      "check 2016-07-19 07:00:00\n",
      "check 2016-07-19 08:00:00\n",
      "check 2016-07-19 09:00:00\n",
      "check 2016-07-19 10:00:00\n",
      "check 2016-07-19 11:00:00\n",
      "check 2016-07-19 18:00:00\n",
      "check 2016-07-19 19:00:00\n",
      "check 2016-07-19 20:00:00\n",
      "check 2016-07-19 21:00:00\n",
      "check 2016-07-19 22:00:00\n",
      "check 2016-07-19 23:00:00\n",
      "check 2016-07-20 06:00:00\n",
      "check 2016-07-20 07:00:00\n",
      "check 2016-07-20 08:00:00\n",
      "check 2016-07-20 09:00:00\n",
      "check 2016-07-20 10:00:00\n",
      "check 2016-07-20 11:00:00\n",
      "check 2016-07-20 18:00:00\n",
      "check 2016-07-20 19:00:00\n",
      "check 2016-07-20 20:00:00\n",
      "check 2016-07-20 21:00:00\n",
      "check 2016-07-20 22:00:00\n",
      "check 2016-07-20 23:00:00\n",
      "check 2016-07-21 06:00:00\n",
      "check 2016-07-21 07:00:00\n",
      "check 2016-07-21 08:00:00\n",
      "check 2016-07-21 09:00:00\n",
      "check 2016-07-21 10:00:00\n",
      "check 2016-07-21 11:00:00\n"
     ]
    }
   ],
   "source": [
    "for m in range(1,np.size(folders)):\n",
    "    rstamp=folders[m].split('/')[-1].split('_')[1] \n",
    "    foldertime=datetime.datetime.strptime(rstamp,'%Y%m%d.%H')\n",
    "    previous_stamp=folders[m-1].split('/')[-1].split('_')[1]\n",
    "    pfiles=glob.glob(folders[m]+'/VMAX_*.tif')\n",
    "    for ifile in pfiles:\n",
    "        ti=ifile.split('/')[-1].split('VMAX_')[1].split('.')[0]\n",
    "        ta=datetime.datetime.strptime(ti,'%Y%m%d%H%M')\n",
    "        if ta < foldertime and ta in fdic[previous_stamp]:\n",
    "            print 'check {}'.format(ta)\n",
    "            dprev=getmap(folders[m-1]+'/VMAX_'+ti+'.tif')\n",
    "            dcur=getmap(folders[m]+'/VMAX_'+ti+'.tif')\n",
    "            #compare data\n",
    "            if not np.array_equal(dprev.data,dcur.data) : print 'error in {}'.format(ta)\n",
    "            "
   ]
  },
  {
   "cell_type": "markdown",
   "metadata": {},
   "source": [
    "Visualization"
   ]
  },
  {
   "cell_type": "code",
   "execution_count": 95,
   "metadata": {
    "collapsed": false
   },
   "outputs": [
    {
     "data": {
      "text/plain": [
       "array([[  9.4022789 ,   8.7896719 ,   8.24467659, ...,   4.13413763,\n",
       "          3.93161011,   3.80840564],\n",
       "       [  9.93895912,   9.46519852,   9.03727341, ...,   4.01389742,\n",
       "          3.98226666,   3.75299621],\n",
       "       [ 10.01610947,   9.43228912,   8.84845352, ...,   4.1047411 ,\n",
       "          4.10893774,   4.11706066],\n",
       "       ..., \n",
       "       [  6.23682117,   6.02438068,   5.76753807, ...,   3.41415334,\n",
       "          3.54551315,   3.80748653],\n",
       "       [  6.1069622 ,   5.98013353,   5.80460644, ...,   3.09973717,\n",
       "          3.30417895,   3.53014183],\n",
       "       [  5.91692066,   5.87674856,   5.77778769, ...,   2.88474011,\n",
       "          3.13981104,   3.41407657]])"
      ]
     },
     "execution_count": 95,
     "metadata": {},
     "output_type": "execute_result"
    }
   ],
   "source": [
    "dprev.data"
   ]
  },
  {
   "cell_type": "code",
   "execution_count": 96,
   "metadata": {
    "collapsed": false
   },
   "outputs": [
    {
     "data": {
      "text/plain": [
       "array([[  9.4022789 ,   8.7896719 ,   8.24467659, ...,   4.13413763,\n",
       "          3.93161011,   3.80840564],\n",
       "       [  9.93895912,   9.46519852,   9.03727341, ...,   4.01389742,\n",
       "          3.98226666,   3.75299621],\n",
       "       [ 10.01610947,   9.43228912,   8.84845352, ...,   4.1047411 ,\n",
       "          4.10893774,   4.11706066],\n",
       "       ..., \n",
       "       [  6.23682117,   6.02438068,   5.76753807, ...,   3.41415334,\n",
       "          3.54551315,   3.80748653],\n",
       "       [  6.1069622 ,   5.98013353,   5.80460644, ...,   3.09973717,\n",
       "          3.30417895,   3.53014183],\n",
       "       [  5.91692066,   5.87674856,   5.77778769, ...,   2.88474011,\n",
       "          3.13981104,   3.41407657]])"
      ]
     },
     "execution_count": 96,
     "metadata": {},
     "output_type": "execute_result"
    }
   ],
   "source": [
    "dcur.data"
   ]
  },
  {
   "cell_type": "markdown",
   "metadata": {},
   "source": [
    "## So input files are the same !!"
   ]
  },
  {
   "cell_type": "markdown",
   "metadata": {
    "collapsed": true
   },
   "source": [
    "Here we compare the values on the NETCDF files with the one above from the geotif files. For the retrieval of data from the netcdf see ..."
   ]
  },
  {
   "cell_type": "code",
   "execution_count": null,
   "metadata": {
    "collapsed": true
   },
   "outputs": [],
   "source": []
  }
 ],
 "metadata": {
  "hide_input": false,
  "kernelspec": {
   "display_name": "Python 2",
   "language": "python",
   "name": "python2"
  },
  "language_info": {
   "codemirror_mode": {
    "name": "ipython",
    "version": 2
   },
   "file_extension": ".py",
   "mimetype": "text/x-python",
   "name": "python",
   "nbconvert_exporter": "python",
   "pygments_lexer": "ipython2",
   "version": "2.7.12"
  },
  "latex_envs": {
   "bibliofile": "biblio.bib",
   "cite_by": "apalike",
   "current_citInitial": 1,
   "eqLabelWithNumbers": true,
   "eqNumInitial": 0
  }
 },
 "nbformat": 4,
 "nbformat_minor": 0
}
