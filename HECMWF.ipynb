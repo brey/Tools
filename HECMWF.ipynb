{
 "cells": [
  {
   "cell_type": "markdown",
   "metadata": {},
   "source": [
    "# Visualize Hurricane ECMWF data including track"
   ]
  },
  {
   "cell_type": "markdown",
   "metadata": {},
   "source": [
    "This is an interactive page to view high resolution (HRES) simulation data done by the European Centre for Medium-Range Weather Forecasts (ECMWF). These data are downloaded locally in the lab at \\\\139.191.244.110\\h\\ECMWH\\\n",
    "The code below reads the local database and displays the data using as background the earth basemap. "
   ]
  },
  {
   "cell_type": "markdown",
   "metadata": {},
   "source": [
    "First let's import some necessary python modules\n",
    "\n",
    "numpy for array manipulation\n",
    "Ipython widgets for the interactive options\n",
    "matplotlib for plotting\n",
    "datetime for reading the time attribute of the data\n",
    "Basemap for maps\n",
    "pygrib for reading the grib files provided by ECMWF\n",
    "glob for filtering out the needed files within the local folder\n",
    "string for string manipulations\n",
    "\n",
    "Finaly matplotlib inline is used to display the graph within the page, otherwise it creates a separate window."
   ]
  },
  {
   "cell_type": "code",
   "execution_count": 1,
   "metadata": {
    "collapsed": false
   },
   "outputs": [],
   "source": [
    "import numpy as np\n",
    "from ipywidgets import *\n",
    "import matplotlib.pyplot as plt\n",
    "import datetime\n",
    "from mpl_toolkits.basemap import Basemap, shiftgrid\n",
    "import pygrib\n",
    "import glob\n",
    "import string"
   ]
  },
  {
   "cell_type": "code",
   "execution_count": 2,
   "metadata": {
    "collapsed": false
   },
   "outputs": [],
   "source": [
    "%matplotlib notebook"
   ]
  },
  {
   "cell_type": "markdown",
   "metadata": {},
   "source": [
    "## Flow field data"
   ]
  },
  {
   "cell_type": "markdown",
   "metadata": {},
   "source": [
    "These data are located at the folder 'grib' folowed by the year/month/day subfolders and include the 10m U,V velocities and the msl pressure.\n",
    "Below we define the basic functions that provides the data by passing the required data as arguments, namely year, month, day, hour of the corresponding data for visualization. The function getdata will parse the folder and retrieve the data. Note that there are 2 options for hours =(0,12). "
   ]
  },
  {
   "cell_type": "code",
   "execution_count": 3,
   "metadata": {
    "collapsed": false
   },
   "outputs": [],
   "source": [
    "def getdata(yyyy=2015,mm=6,dd=3,hh=0):\n",
    "    yyyy=np.int(yyyy)\n",
    "    mm=np.int(mm)\n",
    "    dd=np.int(dd)\n",
    "    hh=np.int(hh) # This variable is passed as string and needs to become integer to be used later\n",
    "    # specify date to plot.\n",
    "    date = datetime.datetime(yyyy,mm,dd,hh)\n",
    "    \n",
    "    # set PATH of the database.\n",
    "    PATHbase=\"/mnt/ECMWF/grib/\"  # Local mapping location for the above network drive\n",
    "    PATH=PATHbase+\"%04i/%02i/%02i/\" % (yyyy,mm,dd)\n",
    "\n",
    "    dpath=glob.glob(PATH+\"*%04i%02i%02i.%02i.tropical_cyclone.grib\" % (yyyy,mm,dd,hh))\n",
    "   \n",
    "    try:\n",
    "        data = pygrib.open(dpath[0])\n",
    "    except:\n",
    "        print 'no available data in ', PATH\n",
    "        return \n",
    "    \n",
    "    pd=data[1]\n",
    "    ud=data[2]\n",
    "    vd=data[3]\n",
    "    # read lats,lons\n",
    "    # reverse latitudes so they go from south to north.\n",
    "    latitudes = pd.latlons()[0].T[0][::-1]\n",
    "    longitudes = pd.latlons()[1][0]\n",
    "    # get sea level pressure and 10-m wind data.\n",
    "    # mult slp by 0.01 to put in units of hPa\n",
    "    slpin = 0.01*pd.values[:].squeeze()\n",
    "    uin = ud.values[:].squeeze()\n",
    "    vin = vd.values[:].squeeze()\n",
    "\n",
    "\n",
    "    # add cyclic points manually (could use addcyclic function)\n",
    "    slp= np.zeros((slpin.shape[0],slpin.shape[1]+1),np.float64)\n",
    "    slp[:,0:-1] = slpin[::-1]; slp[:,-1] = slpin[::-1,0]\n",
    "    u= np.zeros((uin.shape[0],uin.shape[1]+1),np.float64)\n",
    "    u[:,0:-1] = uin[::-1]; u[:,-1] = uin[::-1,0]\n",
    "    v= np.zeros((vin.shape[0],vin.shape[1]+1),np.float64)\n",
    "    v[:,0:-1] = vin[::-1]; v[:,-1] = vin[::-1,0]\n",
    "\n",
    "    longitudes=np.append(longitudes,360.)\n",
    "    return date, longitudes,latitudes,slp,u,v"
   ]
  },
  {
   "cell_type": "markdown",
   "metadata": {},
   "source": [
    "### Cyclone tracking data"
   ]
  },
  {
   "cell_type": "markdown",
   "metadata": {},
   "source": [
    "In order to view the hurricane we need to get the track from the ECMWF data. The track is provided in the name with the cyclone name and date included produced every 12 hours. These are stored in folder 'bufr' and reference the name of the tropical cyclone and are in bufr format. We can parse the folder to see the available storms for seach year\n",
    "\n",
    "\n",
    "\n",
    "and retrieve the (date,lon,lat) of the bulletin. Thus we define the function below where the name of the strom is given as input and the date and location is returned."
   ]
  },
  {
   "cell_type": "code",
   "execution_count": 4,
   "metadata": {
    "collapsed": false
   },
   "outputs": [],
   "source": [
    "def TC(yyyy=2015):\n",
    "\n",
    "    tr=glob.glob('/mnt/ECMWF/bufr/%04i/*ECMF*tropical_cyclone_track_*' %(yyyy))\n",
    "\n",
    "\n",
    "    name,btime,lon,lat=[],[],[],[]\n",
    "    for i in range(np.size(tr)):\n",
    "        a=tr[i].split('_')\n",
    "        t=a[4]\n",
    "        lon.append(np.float(a[-3].replace('p','.').translate(None,string.letters)))\n",
    "        lat.append(np.float(a[-2].replace('p','.').translate(None,string.letters)))\n",
    "        btime.append(str(datetime.datetime.strptime(t,'%Y%m%d%H%M%S')))\n",
    "        name.append(a[8])\n",
    "\n",
    "    return np.array([name,btime,lon,lat])\n"
   ]
  },
  {
   "cell_type": "markdown",
   "metadata": {},
   "source": [
    "We can display the available TC like"
   ]
  },
  {
   "cell_type": "code",
   "execution_count": 5,
   "metadata": {
    "collapsed": false
   },
   "outputs": [
    {
     "data": {
      "text/plain": [
       "['ULA',\n",
       " '12U',\n",
       " 'ZENA',\n",
       " '06P',\n",
       " 'ONE',\n",
       " '18P',\n",
       " 'PALI',\n",
       " '04S',\n",
       " 'DAYA',\n",
       " '08S',\n",
       " 'FANTALA',\n",
       " '09U',\n",
       " 'URIAH',\n",
       " 'ALEX',\n",
       " 'EMERAUDE',\n",
       " 'VICTOR',\n",
       " '01B',\n",
       " 'ROANU',\n",
       " '03S',\n",
       " 'EX-URIAH',\n",
       " 'CORENTIN',\n",
       " 'WINSTON',\n",
       " 'EX-EMERAUD',\n",
       " 'EX-FANTALA',\n",
       " 'AMOS',\n",
       " 'EX-CORENTI',\n",
       " 'YALO',\n",
       " '14P',\n",
       " 'TWO',\n",
       " '08U',\n",
       " '17S',\n",
       " 'BONNIE',\n",
       " 'STAN',\n",
       " '07S',\n",
       " 'NINE',\n",
       " '10U',\n",
       " 'TATIANA',\n",
       " '14U',\n",
       " '16P',\n",
       " '20P',\n",
       " '07P']"
      ]
     },
     "execution_count": 5,
     "metadata": {},
     "output_type": "execute_result"
    }
   ],
   "source": [
    "res=TC(2016)\n",
    "#res.sort()\n",
    "tcnames=[]\n",
    "for g in res[0]:\n",
    "    if not g in tcnames: tcnames.append(g)\n",
    "        \n",
    "tcnames"
   ]
  },
  {
   "cell_type": "markdown",
   "metadata": {},
   "source": [
    "Selecting the TC we want to see we can give the mean values of the storm's path as the view origin of the basemap. First we create a function to gather the data for the specific TC"
   ]
  },
  {
   "cell_type": "code",
   "execution_count": 6,
   "metadata": {
    "collapsed": false
   },
   "outputs": [],
   "source": [
    "def track(name):\n",
    "    \n",
    "    btime,lon,lat=[],[],[]\n",
    "    for g in res.T: # transpose res\n",
    "        if name in g[0]:\n",
    "            btime.append(g[1])\n",
    "            lon.append(g[2])\n",
    "            lat.append(g[3])\n",
    "    \n",
    "    hdat=np.array([btime,lon,lat])\n",
    "    ar=np.argsort(hdat) # sort with time\n",
    "    return hdat[:,ar[0,:]]"
   ]
  },
  {
   "cell_type": "code",
   "execution_count": 7,
   "metadata": {
    "collapsed": true
   },
   "outputs": [],
   "source": [
    "tcname=tcnames[10]"
   ]
  },
  {
   "cell_type": "code",
   "execution_count": 8,
   "metadata": {
    "collapsed": false
   },
   "outputs": [
    {
     "name": "stdout",
     "output_type": "stream",
     "text": [
      "FANTALA\n"
     ]
    },
    {
     "data": {
      "text/plain": [
       "array([['2016-04-12 00:00:00', '70.3', '-13.2'],\n",
       "       ['2016-04-12 12:00:00', '68.8', '-13.2'],\n",
       "       ['2016-04-13 00:00:00', '67.8', '-13.0'],\n",
       "       ['2016-04-13 12:00:00', '66.0', '-12.9'],\n",
       "       ['2016-04-14 00:00:00', '64.3', '-12.6'],\n",
       "       ['2016-04-14 12:00:00', '62.5', '-12.4'],\n",
       "       ['2016-04-15 00:00:00', '60.4', '-12.3'],\n",
       "       ['2016-04-15 12:00:00', '58.8', '-12.5'],\n",
       "       ['2016-04-16 00:00:00', '57.2', '-12.4'],\n",
       "       ['2016-04-16 12:00:00', '55.3', '-12.0'],\n",
       "       ['2016-04-17 00:00:00', '53.5', '-11.1'],\n",
       "       ['2016-04-17 12:00:00', '51.7', '-10.4'],\n",
       "       ['2016-04-18 00:00:00', '50.2', '-9.5'],\n",
       "       ['2016-04-18 12:00:00', '49.3', '-9.3'],\n",
       "       ['2016-04-19 00:00:00', '49.9', '-9.3'],\n",
       "       ['2016-04-19 12:00:00', '50.4', '-9.4'],\n",
       "       ['2016-04-20 00:00:00', '51.9', '-10.0'],\n",
       "       ['2016-04-20 12:00:00', '53.5', '-11.0'],\n",
       "       ['2016-04-21 00:00:00', '54.9', '-12.1'],\n",
       "       ['2016-04-21 12:00:00', '56.3', '-12.6'],\n",
       "       ['2016-04-22 00:00:00', '57.1', '-13.1'],\n",
       "       ['2016-04-22 12:00:00', '57.6', '-13.0'],\n",
       "       ['2016-04-23 00:00:00', '56.9', '-12.7'],\n",
       "       ['2016-04-23 12:00:00', '55.7', '-12.0'],\n",
       "       ['2016-04-24 00:00:00', '53.8', '-11.1'],\n",
       "       ['2016-04-24 12:00:00', '52.9', '-10.5']], \n",
       "      dtype='|S19')"
      ]
     },
     "execution_count": 8,
     "metadata": {},
     "output_type": "execute_result"
    }
   ],
   "source": [
    "hdat=track(tcname)\n",
    "print tcname\n",
    "hdat.T"
   ]
  },
  {
   "cell_type": "code",
   "execution_count": 9,
   "metadata": {
    "collapsed": false
   },
   "outputs": [],
   "source": [
    "# get the centre location \n",
    "lonc=hdat[1].astype(float).mean()\n",
    "latc=hdat[2].astype(float).mean()"
   ]
  },
  {
   "cell_type": "markdown",
   "metadata": {},
   "source": [
    "The function for visualizing the data in interactive mode is"
   ]
  },
  {
   "cell_type": "code",
   "execution_count": 10,
   "metadata": {
    "collapsed": false
   },
   "outputs": [],
   "source": [
    "def viewdata(latc=60,lonc=-60):\n",
    "    \n",
    "   \n",
    "    lons, lats = np.meshgrid(longitudes,latitudes)\n",
    "\n",
    "    # make orthographic basemap.\n",
    "    m = Basemap(resolution='c',projection='ortho',lat_0=latc,lon_0=lonc)\n",
    "    # create figure, add axes\n",
    "    fig = plt.figure(figsize=(10,8))\n",
    "    ax = fig.add_axes([0.1,0.1,0.8,0.8])\n",
    "    # set desired contour levels.\n",
    "    clevs = np.arange(960,1061,5)\n",
    "\n",
    "    # compute native x,y coordinates of grid.\n",
    "    x, y = m(lons, lats)\n",
    "    # define parallels and meridians to draw.\n",
    "    parallels = np.arange(-80.,90,20.)\n",
    "    meridians = np.arange(0.,360.,20.)\n",
    "    # plot SLP contours.\n",
    "    CS1 = m.contour(x,y,slp,clevs,linewidths=0.5,colors='k',animated=True)\n",
    "    CS2 = m.contourf(x,y,slp,clevs,cmap=plt.cm.RdBu_r,animated=True)\n",
    "    # plot wind vectors on projection grid.\n",
    "    # first, shift grid so it goes from -180 to 180 (instead of 0 to 360\n",
    "    # in longitude).  Otherwise, interpolation is messed up.\n",
    "    ugrid,newlons = shiftgrid(180.,u,longitudes,start=False)\n",
    "    vgrid,newlons = shiftgrid(180.,v,longitudes,start=False)\n",
    "    # transform vectors to projection grid.\n",
    "    uproj,vproj,xx,yy = \\\n",
    "    m.transform_vector(ugrid,vgrid,newlons,latitudes,31,31,returnxy=True,masked=True)\n",
    "    # now plot.\n",
    "    Q = m.quiver(xx,yy,uproj,vproj,scale=700)\n",
    "    # make quiver key.\n",
    "    qk = plt.quiverkey(Q, 0.1, 0.1, 20, '20 m/s', labelpos='W')\n",
    "    # draw coastlines, parallels, meridians.\n",
    "    m.drawcoastlines(linewidth=1.5)\n",
    "    m.drawparallels(parallels)\n",
    "    m.drawmeridians(meridians)\n",
    "    # add colorbar\n",
    "    cb = m.colorbar(CS2,\"bottom\", size=\"5%\", pad=\"2%\")\n",
    "    cb.set_label('hPa')\n",
    "    # set plot title\n",
    "    ax.set_title('SLP and Wind Vectors (10m) '+str(date))\n",
    "    plt.show()"
   ]
  },
  {
   "cell_type": "markdown",
   "metadata": {},
   "source": [
    "so now we call the first one for retriving the data. Note that this is not interactive so one has to set the values in the function arguments below. We can provide the date of interest based on the TC we investigate e.g."
   ]
  },
  {
   "cell_type": "code",
   "execution_count": 11,
   "metadata": {
    "collapsed": false
   },
   "outputs": [
    {
     "data": {
      "text/plain": [
       "[datetime.datetime(2016, 4, 12, 0, 0),\n",
       " datetime.datetime(2016, 4, 12, 12, 0),\n",
       " datetime.datetime(2016, 4, 13, 0, 0),\n",
       " datetime.datetime(2016, 4, 13, 12, 0),\n",
       " datetime.datetime(2016, 4, 14, 0, 0),\n",
       " datetime.datetime(2016, 4, 14, 12, 0),\n",
       " datetime.datetime(2016, 4, 15, 0, 0),\n",
       " datetime.datetime(2016, 4, 15, 12, 0),\n",
       " datetime.datetime(2016, 4, 16, 0, 0),\n",
       " datetime.datetime(2016, 4, 16, 12, 0),\n",
       " datetime.datetime(2016, 4, 17, 0, 0),\n",
       " datetime.datetime(2016, 4, 17, 12, 0),\n",
       " datetime.datetime(2016, 4, 18, 0, 0),\n",
       " datetime.datetime(2016, 4, 18, 12, 0),\n",
       " datetime.datetime(2016, 4, 19, 0, 0),\n",
       " datetime.datetime(2016, 4, 19, 12, 0),\n",
       " datetime.datetime(2016, 4, 20, 0, 0),\n",
       " datetime.datetime(2016, 4, 20, 12, 0),\n",
       " datetime.datetime(2016, 4, 21, 0, 0),\n",
       " datetime.datetime(2016, 4, 21, 12, 0),\n",
       " datetime.datetime(2016, 4, 22, 0, 0),\n",
       " datetime.datetime(2016, 4, 22, 12, 0),\n",
       " datetime.datetime(2016, 4, 23, 0, 0),\n",
       " datetime.datetime(2016, 4, 23, 12, 0),\n",
       " datetime.datetime(2016, 4, 24, 0, 0),\n",
       " datetime.datetime(2016, 4, 24, 12, 0)]"
      ]
     },
     "execution_count": 11,
     "metadata": {},
     "output_type": "execute_result"
    }
   ],
   "source": [
    "dstamp=[]\n",
    "for date,lon,lat in hdat.T:\n",
    "  dstamp.append(datetime.datetime.strptime(date,'%Y-%m-%d %H:%M:%S'))\n",
    "\n",
    "dstamp.sort()\n",
    "dstamp"
   ]
  },
  {
   "cell_type": "code",
   "execution_count": 12,
   "metadata": {
    "collapsed": true
   },
   "outputs": [],
   "source": [
    "#pich date\n",
    "adate=dstamp[10]"
   ]
  },
  {
   "cell_type": "code",
   "execution_count": 13,
   "metadata": {
    "collapsed": false
   },
   "outputs": [],
   "source": [
    "date,longitudes,latitudes,slp,u,v=getdata(yyyy=adate.year, mm=adate.month, dd=adate.day, hh=adate.hour)"
   ]
  },
  {
   "cell_type": "code",
   "execution_count": 14,
   "metadata": {
    "collapsed": false
   },
   "outputs": [
    {
     "name": "stderr",
     "output_type": "stream",
     "text": [
      "Widget Javascript not detected.  It may not be installed properly. Did you enable the widgetsnbextension? If not, then run \"jupyter nbextension enable --py --sys-prefix widgetsnbextension\"\n"
     ]
    },
    {
     "data": {
      "text/plain": [
       "<function __main__.viewdata>"
      ]
     },
     "execution_count": 14,
     "metadata": {},
     "output_type": "execute_result"
    }
   ],
   "source": [
    "interact_manual(viewdata, lonc=lonc, latc=latc)"
   ]
  },
  {
   "cell_type": "markdown",
   "metadata": {},
   "source": [
    "The track of the hurricane can be super imposed on the figure above by modifing the function. The track until the date corresponding to the flow field shown is depicted. The forecast is not included."
   ]
  },
  {
   "cell_type": "code",
   "execution_count": 15,
   "metadata": {
    "collapsed": false
   },
   "outputs": [],
   "source": [
    "def viewdata2(latc=60,lonc=-60):\n",
    "    \n",
    "    latc=np.float(latc)\n",
    "    lonc=np.float(lonc)\n",
    "\n",
    "    \n",
    "    lons, lats = np.meshgrid(longitudes,latitudes)\n",
    "\n",
    "    # make orthographic basemap.\n",
    "    m = Basemap(resolution='c',projection='ortho',lat_0=latc,lon_0=lonc)\n",
    "    # create figure, add axes\n",
    "    fig = plt.figure(figsize=(10,8))\n",
    "    ax = fig.add_axes([0.1,0.1,0.8,0.8])\n",
    "    # set desired contour levels.\n",
    "    clevs = np.arange(960,1061,5)\n",
    "\n",
    "    # compute native x,y coordinates of grid.\n",
    "    x, y = m(lons, lats)\n",
    "    # define parallels and meridians to draw.\n",
    "    parallels = np.arange(-80.,90,20.)\n",
    "    meridians = np.arange(0.,360.,20.)\n",
    "    # plot SLP contours.\n",
    "    CS1 = m.contour(x,y,slp,clevs,linewidths=0.5,colors='k',animated=True)\n",
    "    CS2 = m.contourf(x,y,slp,clevs,cmap=plt.cm.RdBu_r,animated=True)\n",
    "    # plot wind vectors on projection grid.\n",
    "    # first, shift grid so it goes from -180 to 180 (instead of 0 to 360\n",
    "    # in longitude).  Otherwise, interpolation is messed up.\n",
    "    ugrid,newlons = shiftgrid(180.,u,longitudes,start=False)\n",
    "    vgrid,newlons = shiftgrid(180.,v,longitudes,start=False)\n",
    "    # transform vectors to projection grid.\n",
    "    uproj,vproj,xx,yy = \\\n",
    "    m.transform_vector(ugrid,vgrid,newlons,latitudes,31,31,returnxy=True,masked=True)\n",
    "    # now plot.\n",
    "    Q = m.quiver(xx,yy,uproj,vproj,scale=700)\n",
    "    # make quiver key.\n",
    "    qk = plt.quiverkey(Q, 0.1, 0.1, 20, '20 m/s', labelpos='W')\n",
    "    \n",
    "    #plot the track of the hurricane up to the date choosen\n",
    "    #define date contraint\n",
    "    ii=np.argwhere(hdat[0]<str(date)).max()+1 #get the maximum index and adjust for numpy array indexing \n",
    "    xh=hdat[1][:ii].astype(float) \n",
    "    yh=hdat[2][:ii].astype(float)\n",
    "    # compute native xh,yh coordinates of grid.\n",
    "    xh, yh = m(xh, yh)\n",
    "    m.plot(xh,yh,'r--x')\n",
    "    \n",
    "    # draw coastlines, parallels, meridians.\n",
    "    m.drawcoastlines(linewidth=1.5)\n",
    "    m.drawparallels(parallels)\n",
    "    m.drawmeridians(meridians)\n",
    "    # add colorbar\n",
    "    cb = m.colorbar(CS2,\"bottom\", size=\"5%\", pad=\"2%\")\n",
    "    cb.set_label('hPa')\n",
    "    # set plot title\n",
    "    ax.set_title('SLP and Wind Vectors (10m) '+str(date))\n",
    "    plt.show()"
   ]
  },
  {
   "cell_type": "code",
   "execution_count": 16,
   "metadata": {
    "collapsed": false
   },
   "outputs": [
    {
     "name": "stderr",
     "output_type": "stream",
     "text": [
      "Widget Javascript not detected.  It may not be installed properly. Did you enable the widgetsnbextension? If not, then run \"jupyter nbextension enable --py --sys-prefix widgetsnbextension\"\n"
     ]
    },
    {
     "data": {
      "text/plain": [
       "<function __main__.viewdata2>"
      ]
     },
     "execution_count": 16,
     "metadata": {},
     "output_type": "execute_result"
    }
   ],
   "source": [
    "interact_manual(viewdata2, lonc=lonc, latc=latc)"
   ]
  },
  {
   "cell_type": "markdown",
   "metadata": {},
   "source": [
    "## TC track forecast"
   ]
  },
  {
   "cell_type": "markdown",
   "metadata": {},
   "source": [
    "The ECMWF storm files are bufr files and include additional information such as pressure, wind speed at 10m and forecast. In order to access this info we need to import the python bufr modules and the bunch module for convinience. "
   ]
  },
  {
   "cell_type": "code",
   "execution_count": 17,
   "metadata": {
    "collapsed": false
   },
   "outputs": [],
   "source": [
    "from pybufr_ecmwf.bufr import BUFRReader\n",
    "from pybufr_ecmwf.raw_bufr_file import RawBUFRFile\n",
    "from pybufr_ecmwf.bufr_interface_ecmwf import BUFRInterfaceECMWF\n",
    "\n",
    "from bunch import Bunch\n"
   ]
  },
  {
   "cell_type": "markdown",
   "metadata": {},
   "source": [
    "We can define a function that reads this files and return all necessary info, like this...."
   ]
  },
  {
   "cell_type": "code",
   "execution_count": 18,
   "metadata": {
    "collapsed": false
   },
   "outputs": [],
   "source": [
    "from readbufr import * "
   ]
  },
  {
   "cell_type": "code",
   "execution_count": 19,
   "metadata": {
    "collapsed": false
   },
   "outputs": [],
   "source": [
    "trackdata=read_bufr(tcnames[10])"
   ]
  },
  {
   "cell_type": "code",
   "execution_count": 20,
   "metadata": {
    "collapsed": false
   },
   "outputs": [
    {
     "data": {
      "text/plain": [
       "['201604120000',\n",
       " '201604121200',\n",
       " '201604130000',\n",
       " '201604131200',\n",
       " '201604140000',\n",
       " '201604141200',\n",
       " '201604150000',\n",
       " '201604151200',\n",
       " '201604160000',\n",
       " '201604161200',\n",
       " '201604170000',\n",
       " '201604171200',\n",
       " '201604180000',\n",
       " '201604181200',\n",
       " '201604190000',\n",
       " '201604191200',\n",
       " '201604200000',\n",
       " '201604201200',\n",
       " '201604210000',\n",
       " '201604211200',\n",
       " '201604220000',\n",
       " '201604221200',\n",
       " '201604230000',\n",
       " '201604231200',\n",
       " '201604241200']"
      ]
     },
     "execution_count": 20,
     "metadata": {},
     "output_type": "execute_result"
    }
   ],
   "source": [
    "times=sorted(trackdata.keys())\n",
    "times"
   ]
  },
  {
   "cell_type": "code",
   "execution_count": 21,
   "metadata": {
    "collapsed": false
   },
   "outputs": [
    {
     "data": {
      "text/plain": [
       "array([  5.37000000e+01,   5.30000000e+01,   5.21000000e+01,\n",
       "         5.16000000e+01,   5.10000000e+01,   5.04000000e+01,\n",
       "         5.00000000e+01,   5.00000000e+01,   5.02000000e+01,\n",
       "         5.04000000e+01,   5.11000000e+01,   5.20000000e+01,\n",
       "         5.28000000e+01,   5.37000000e+01,   5.45000000e+01,\n",
       "         5.52000000e+01,   5.59000000e+01,   5.65000000e+01,\n",
       "         5.73000000e+01,   5.83000000e+01,   5.93000000e+01,\n",
       "         6.00000000e+01,   6.07000000e+01,   6.13000000e+01,\n",
       "         6.14000000e+01,   6.14000000e+01,   6.14000000e+01,\n",
       "         1.70000000e+38,   1.70000000e+38,   1.70000000e+38,\n",
       "         6.06000000e+01,   6.01000000e+01,   1.70000000e+38,\n",
       "         1.70000000e+38,   5.94000000e+01,   5.94000000e+01,\n",
       "         1.70000000e+38,   1.70000000e+38,   1.70000000e+38,\n",
       "         6.07000000e+01])"
      ]
     },
     "execution_count": 21,
     "metadata": {},
     "output_type": "execute_result"
    }
   ],
   "source": [
    "trackdata[times[10]].plons"
   ]
  },
  {
   "cell_type": "code",
   "execution_count": 22,
   "metadata": {
    "collapsed": false
   },
   "outputs": [
    {
     "data": {
      "text/plain": [
       "array([   0.,    6.,   12.,   18.,   24.,   30.,   36.,   42.,   48.,\n",
       "         54.,   60.,   66.,   72.,   78.,   84.,   90.,   96.,  102.,\n",
       "        108.,  114.,  120.,  126.,  132.,  138.,  144.,  150.,  156.,\n",
       "        162.,  168.,  174.,  180.,  186.,  192.,  198.,  204.,  210.,\n",
       "        216.,  222.,  228.,  234.])"
      ]
     },
     "execution_count": 22,
     "metadata": {},
     "output_type": "execute_result"
    }
   ],
   "source": [
    "trackdata[times[10]].t"
   ]
  },
  {
   "cell_type": "markdown",
   "metadata": {},
   "source": [
    "We can now create an interactive function for displaying the tracks."
   ]
  },
  {
   "cell_type": "code",
   "execution_count": 23,
   "metadata": {
    "collapsed": false
   },
   "outputs": [],
   "source": [
    "def viewtrack(index):\n",
    "    t=trackdata[index].t\n",
    "    lons=trackdata[index].plons\n",
    "    lats=trackdata[index].plats    \n",
    "    \n",
    "    # Note that\n",
    "    # first lon,lat = TC center\n",
    "    # second lon,lat = Lowest pressure loc & first p_msl is the value\n",
    "    # third  lon,lat = maximum wind speed at 10m loc & first u10  is the value\n",
    "    # then lon,lat in pairs for forecasted loc of TC center and loc of maximum wind\n",
    "\n",
    "    if lons.size > 3:\n",
    "        lonp=np.append(lons[1],lons[3::2])\n",
    "        latp=np.append(lats[1],lats[3::2])\n",
    "        tp=np.append(0.,t)  \n",
    "        \n",
    "        m1=np.abs(lonp)<180.\n",
    "        m2=np.abs(latp)<90.\n",
    "        \n",
    "        if (m1 != m2).any() :\n",
    "            print 'problem'\n",
    "        else:\n",
    "            lonp=lonp[m1]\n",
    "            latp=latp[m1]\n",
    "            tp=tp[m1]\n",
    "    \n",
    "    else:\n",
    "        \n",
    "        lonp=[lons[0],lons[0]]\n",
    "        latp=[lats[0],lats[0]]\n",
    "        tp=[0.,0.]\n",
    "                \n",
    "    latc=np.mean(latp)\n",
    "    lonc=np.mean(lonp)\n",
    "        \n",
    "    llcrnrlon=np.min(lonp)-15.\n",
    "    llcrnrlat=np.min(latp)-15.\n",
    "    urcrnrlon=np.max(lonp)+15\n",
    "    urcrnrlat=np.max(latp)+15\n",
    "    lon_0=np.mean([llcrnrlon,urcrnrlon])\n",
    "    \n",
    "    # Lambert Conformal Conic map.\n",
    "    m = Basemap(llcrnrlon=llcrnrlon,llcrnrlat=llcrnrlat,urcrnrlon=urcrnrlon,urcrnrlat=urcrnrlat,\n",
    "            projection='cyl',lat_1=llcrnrlat,lat_2=urcrnrlat,lon_0=-60.,\n",
    "            resolution ='l',area_thresh=1000.)\n",
    "  # create figure, add axes\n",
    "    fig = plt.figure(figsize=(10,8))\n",
    "    ax = fig.add_axes([0.1,0.1,0.8,0.8])\n",
    "    # set desired contour levels.\n",
    "    clevs = np.arange(960,1061,5)\n",
    "        \n",
    "    # define parallels and meridians to draw.\n",
    "    parallels = np.arange(-80.,90,20.)\n",
    "    meridians = np.arange(0.,360.,20.)\n",
    "\n",
    "    # plot track    \n",
    "    xh, yh = m(lons, lats)\n",
    "    m.plot(xh,xh,'r--o')\n",
    "    \n",
    "    for label , xp, yp in zip(t,lons,lats):\n",
    "        xmp,ymp=m(xp,yp)\n",
    "        if (xmp<400.) & (ymp<100.):\n",
    "          plt.annotate('%02i' %(label),xy=(xmp,ymp), xytext=(10,0), textcoords='offset points', size='large',color='k')\n",
    "\n",
    "\n",
    "    \n",
    "    \n",
    "    # draw coastlines, parallels, meridians.\n",
    "    m.drawcoastlines(linewidth=1.5)\n",
    "    m.drawparallels(parallels)\n",
    "    m.drawmeridians(meridians)\n",
    "    \n",
    "    # set plot title\n",
    "    ax.set_title('track of TC '+tcname+' at time '+np.str(index))\n",
    "    plt.show()\n",
    "        \n",
    "    "
   ]
  },
  {
   "cell_type": "code",
   "execution_count": 24,
   "metadata": {
    "collapsed": false
   },
   "outputs": [
    {
     "name": "stderr",
     "output_type": "stream",
     "text": [
      "Widget Javascript not detected.  It may not be installed properly. Did you enable the widgetsnbextension? If not, then run \"jupyter nbextension enable --py --sys-prefix widgetsnbextension\"\n"
     ]
    },
    {
     "data": {
      "text/plain": [
       "<function __main__.viewtrack>"
      ]
     },
     "execution_count": 24,
     "metadata": {},
     "output_type": "execute_result"
    }
   ],
   "source": [
    "interact_manual(viewtrack, index=times)"
   ]
  },
  {
   "cell_type": "markdown",
   "metadata": {},
   "source": [
    "Overlay the vector field from ECMWF data"
   ]
  },
  {
   "cell_type": "code",
   "execution_count": 25,
   "metadata": {
    "collapsed": false
   },
   "outputs": [],
   "source": [
    "def viewtrackf(index):\n",
    "    t=trackdata[index].t\n",
    "    tlons=trackdata[index].plons\n",
    "    tlats=trackdata[index].plats    \n",
    "    \n",
    "    \n",
    "    \n",
    "    # Note that\n",
    "    # first lon,lat = TC center\n",
    "    # second lon,lat = Lowest pressure loc & first p_msl is the value\n",
    "    # third  lon,lat = maximum wind speed at 10m loc & first u10  is the value\n",
    "    # then lon,lat in pairs for forecasted loc of TC center and loc of maximum wind\n",
    "    # IF there is no prediction the only data are the TC center\n",
    "\n",
    "    if t.any():\n",
    "        lonp=np.append(lons[1],lons[3::2])\n",
    "        latp=np.append(lats[1],lats[3::2])\n",
    "        tp=np.append(0.,t)\n",
    "\n",
    "        m1=np.abs(lonp)<180.\n",
    "        m2=np.abs(latp)<90.\n",
    "\n",
    "        if (m1 != m2).any() :\n",
    "            print 'problem'\n",
    "        else:\n",
    "            lonp=lonp[m1]\n",
    "            latp=latp[m1]\n",
    "            tp=tp[m1]\n",
    "        \n",
    "        \n",
    "        latc=np.mean(latp)\n",
    "        lonc=np.mean(lonp)\n",
    "    else:\n",
    "        lonp=np.array([lons[0]])\n",
    "        latp=np.array([lats[0]])\n",
    "        tp=np.array([0.])\n",
    "\n",
    "    latc=np.mean(latp)\n",
    "    lonc=np.mean(lonp)\n",
    "\n",
    "    \n",
    "    \n",
    "    llcrnrlon=np.min(lonp)-15.\n",
    "    llcrnrlat=np.min(latp)-15.\n",
    "    urcrnrlon=np.max(lonp)+15\n",
    "    urcrnrlat=np.max(latp)+15\n",
    "    lon_0=np.mean([llcrnrlon,urcrnrlon])\n",
    "    \n",
    "    # get the ECMWF data \n",
    "    # first get the date from index\n",
    "    dv=datetime.datetime.strptime(index,'%Y%m%d%H%M')\n",
    "    date,longitudes,latitudes,slp,u,v=getdata(yyyy=dv.year, mm=dv.month, dd=dv.day, hh=dv.hour)    \n",
    "\n",
    "    def view():\n",
    "    \n",
    "      # Lambert Conformal Conic map.\n",
    "      m = Basemap(llcrnrlon=llcrnrlon,llcrnrlat=llcrnrlat,urcrnrlon=urcrnrlon,urcrnrlat=urcrnrlat,\n",
    "            projection='cyl',lat_1=llcrnrlat,lat_2=urcrnrlat,lon_0=-60.,\n",
    "            resolution ='l',area_thresh=1000.)\n",
    "    \n",
    "     # create figure, add axes\n",
    "      fig = plt.figure()#figsize=(10,8))\n",
    "    # set desired contour levels.\n",
    "      clevs = np.arange(960,1061,5)\n",
    "        \n",
    "    # define parallels and meridians to draw.\n",
    "      parallels = np.arange(-80.,90,20.)\n",
    "      meridians = np.arange(0.,360.,20.)\n",
    "\n",
    "    # plot track    \n",
    "      xh, yh = m(lonp, latp)\n",
    "      for x1,x2 in zip(xh,yh):\n",
    "        if (x1<400.) & (x2<100.):\n",
    "           m.plot(x1,x2,'r--o')\n",
    "    \n",
    "      for label , xp, yp in zip(t,lonp,latp):\n",
    "        xmp,ymp=m(xp,yp)\n",
    "        if (xmp<400.) & (ymp<100.):\n",
    "          plt.annotate('%02i' %(label),xy=(xmp,ymp), xytext=(10,0), textcoords='offset points', size='large',color='k')\n",
    "\n",
    "\n",
    "    # Evaluate data for vector field plot\n",
    "      lons, lats = np.meshgrid(longitudes,latitudes)\n",
    "    # compute native x,y coordinates of grid.\n",
    "      x, y = m(lons, lats)\n",
    "      CS1 = m.contour(x,y,slp,clevs,linewidths=0.5,colors='k',animated=True)\n",
    "      CS2 = m.contourf(x,y,slp,clevs,cmap=plt.cm.RdBu_r,animated=True)\n",
    "    # plot wind vectors on projection grid.\n",
    "    # first, shift grid so it goes from -180 to 180 (instead of 0 to 360\n",
    "    # in longitude).  Otherwise, interpolation is messed up.\n",
    "      ugrid,newlons = shiftgrid(180.,u,longitudes,start=False)\n",
    "      vgrid,newlons = shiftgrid(180.,v,longitudes,start=False)\n",
    "    # transform vectors to projection grid.\n",
    "      uproj,vproj,xx,yy = \\\n",
    "      m.transform_vector(ugrid,vgrid,newlons,latitudes,31,31,returnxy=True,masked=True)\n",
    "    # now plot.\n",
    "      Q = m.quiver(xx,yy,uproj,vproj,scale=700)\n",
    "    # make quiver key.\n",
    "      qk = plt.quiverkey(Q, 0.1, 0.1, 20, '20 m/s', labelpos='W')\n",
    "\n",
    "    \n",
    "    # draw coastlines, parallels, meridians.\n",
    "      m.drawcoastlines(linewidth=1.5)\n",
    "      m.drawparallels(parallels)\n",
    "      m.drawmeridians(meridians)\n",
    "    \n",
    "    # set plot title\n",
    "      plt.title('track of TC '+tcname+' at time '+np.str(index))\n",
    "      plt.show()\n",
    "        \n",
    "    view()"
   ]
  },
  {
   "cell_type": "markdown",
   "metadata": {},
   "source": [
    "animate"
   ]
  },
  {
   "cell_type": "code",
   "execution_count": null,
   "metadata": {
    "collapsed": true
   },
   "outputs": [],
   "source": [
    "interact_manual(viewtrackf,index=times)"
   ]
  },
  {
   "cell_type": "markdown",
   "metadata": {},
   "source": [
    "Now what we need is choose the TC and then display for any given day the track and forecast on top of the current flow field. An animation of the forecast would also be nice. "
   ]
  },
  {
   "cell_type": "markdown",
   "metadata": {},
   "source": [
    "An development upgrate based on the above is in [HECMWF2](HECMWF2.ipynb) while a compact form including the more efficient way of reading grib files ([Reading Grib Files](Reading GRIB Files.ipynb)) is here [CompactViewer](HOP.ipynb)."
   ]
  }
 ],
 "metadata": {
  "kernelspec": {
   "display_name": "Python 2",
   "language": "python",
   "name": "python2"
  },
  "language_info": {
   "codemirror_mode": {
    "name": "ipython",
    "version": 2
   },
   "file_extension": ".py",
   "mimetype": "text/x-python",
   "name": "python",
   "nbconvert_exporter": "python",
   "pygments_lexer": "ipython2",
   "version": "2.7.12"
  }
 },
 "nbformat": 4,
 "nbformat_minor": 0
}
