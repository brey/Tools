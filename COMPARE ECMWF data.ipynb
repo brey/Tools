{
 "cells": [
  {
   "cell_type": "code",
   "execution_count": 1,
   "metadata": {
    "collapsed": false
   },
   "outputs": [],
   "source": [
    "import pygrib # module to read grib files\n",
    "from datetime import datetime # for defining the date\n",
    "import os # module for os functions\n",
    "import glob\n",
    "import numpy as np\n"
   ]
  },
  {
   "cell_type": "code",
   "execution_count": 31,
   "metadata": {
    "collapsed": true
   },
   "outputs": [],
   "source": [
    "date=datetime(2015,4,22,12) # get date\n",
    "path='/mnt/ECMWF/'"
   ]
  },
  {
   "cell_type": "code",
   "execution_count": 33,
   "metadata": {
    "collapsed": false
   },
   "outputs": [
    {
     "data": {
      "text/plain": [
       "['20150422.00.boundary.grib',\n",
       " '20150422.12.boundary.grib',\n",
       " '20150422.12.tropical_cyclone.grib']"
      ]
     },
     "execution_count": 33,
     "metadata": {},
     "output_type": "execute_result"
    }
   ],
   "source": [
    "path0=path+'grib/'+str(date.year)+'/'+str(date.month).zfill(2)+'/'+str(date.day).zfill(2) # we use yesterday for accessing all products\n",
    "lst=os.listdir(path0)\n",
    "lst"
   ]
  },
  {
   "cell_type": "code",
   "execution_count": 36,
   "metadata": {
    "collapsed": false
   },
   "outputs": [],
   "source": [
    "xf=[x for x in lst if 'tropical' in x]\n",
    "ix=lst.index(xf[0])\n"
   ]
  },
  {
   "cell_type": "code",
   "execution_count": 38,
   "metadata": {
    "collapsed": false
   },
   "outputs": [
    {
     "data": {
      "text/plain": [
       "'20150422.12.tropical_cyclone.grib'"
      ]
     },
     "execution_count": 38,
     "metadata": {},
     "output_type": "execute_result"
    }
   ],
   "source": [
    "xf[0]"
   ]
  },
  {
   "cell_type": "code",
   "execution_count": 39,
   "metadata": {
    "collapsed": false
   },
   "outputs": [],
   "source": [
    "dl=pygrib.open(path0+'/'+lst[ix])"
   ]
  },
  {
   "cell_type": "code",
   "execution_count": 40,
   "metadata": {
    "collapsed": false
   },
   "outputs": [
    {
     "data": {
      "text/plain": [
       "219"
      ]
     },
     "execution_count": 40,
     "metadata": {},
     "output_type": "execute_result"
    }
   ],
   "source": [
    "dl.messages # number of arrays included\n"
   ]
  },
  {
   "cell_type": "code",
   "execution_count": 20,
   "metadata": {
    "collapsed": false,
    "scrolled": true
   },
   "outputs": [
    {
     "name": "stdout",
     "output_type": "stream",
     "text": [
      "1:Mean sea level pressure:Pa (instant):reduced_gg:surface:level 0:fcst time 0 hrs:from 201601201200\n",
      "2:10 metre U wind component:m s**-1 (instant):reduced_gg:surface:level 0:fcst time 0 hrs:from 201601201200\n",
      "3:10 metre V wind component:m s**-1 (instant):reduced_gg:surface:level 0:fcst time 0 hrs:from 201601201200\n",
      "4:Mean sea level pressure:Pa (instant):reduced_gg:surface:level 0:fcst time 1 hrs:from 201601201200\n",
      "5:10 metre U wind component:m s**-1 (instant):reduced_gg:surface:level 0:fcst time 1 hrs:from 201601201200\n",
      "6:10 metre V wind component:m s**-1 (instant):reduced_gg:surface:level 0:fcst time 1 hrs:from 201601201200\n",
      "7:Mean sea level pressure:Pa (instant):reduced_gg:surface:level 0:fcst time 2 hrs:from 201601201200\n",
      "8:10 metre U wind component:m s**-1 (instant):reduced_gg:surface:level 0:fcst time 2 hrs:from 201601201200\n",
      "9:10 metre V wind component:m s**-1 (instant):reduced_gg:surface:level 0:fcst time 2 hrs:from 201601201200\n",
      "10:Mean sea level pressure:Pa (instant):reduced_gg:surface:level 0:fcst time 3 hrs:from 201601201200\n",
      "11:10 metre U wind component:m s**-1 (instant):reduced_gg:surface:level 0:fcst time 3 hrs:from 201601201200\n",
      "12:10 metre V wind component:m s**-1 (instant):reduced_gg:surface:level 0:fcst time 3 hrs:from 201601201200\n",
      "13:Mean sea level pressure:Pa (instant):reduced_gg:surface:level 0:fcst time 4 hrs:from 201601201200\n",
      "14:10 metre U wind component:m s**-1 (instant):reduced_gg:surface:level 0:fcst time 4 hrs:from 201601201200\n",
      "15:10 metre V wind component:m s**-1 (instant):reduced_gg:surface:level 0:fcst time 4 hrs:from 201601201200\n",
      "16:Mean sea level pressure:Pa (instant):reduced_gg:surface:level 0:fcst time 5 hrs:from 201601201200\n",
      "17:10 metre U wind component:m s**-1 (instant):reduced_gg:surface:level 0:fcst time 5 hrs:from 201601201200\n",
      "18:10 metre V wind component:m s**-1 (instant):reduced_gg:surface:level 0:fcst time 5 hrs:from 201601201200\n",
      "19:Mean sea level pressure:Pa (instant):reduced_gg:surface:level 0:fcst time 6 hrs:from 201601201200\n",
      "20:10 metre U wind component:m s**-1 (instant):reduced_gg:surface:level 0:fcst time 6 hrs:from 201601201200\n",
      "21:10 metre V wind component:m s**-1 (instant):reduced_gg:surface:level 0:fcst time 6 hrs:from 201601201200\n",
      "22:Mean sea level pressure:Pa (instant):reduced_gg:surface:level 0:fcst time 7 hrs:from 201601201200\n",
      "23:10 metre U wind component:m s**-1 (instant):reduced_gg:surface:level 0:fcst time 7 hrs:from 201601201200\n",
      "24:10 metre V wind component:m s**-1 (instant):reduced_gg:surface:level 0:fcst time 7 hrs:from 201601201200\n",
      "25:Mean sea level pressure:Pa (instant):reduced_gg:surface:level 0:fcst time 8 hrs:from 201601201200\n",
      "26:10 metre U wind component:m s**-1 (instant):reduced_gg:surface:level 0:fcst time 8 hrs:from 201601201200\n",
      "27:10 metre V wind component:m s**-1 (instant):reduced_gg:surface:level 0:fcst time 8 hrs:from 201601201200\n",
      "28:Mean sea level pressure:Pa (instant):reduced_gg:surface:level 0:fcst time 9 hrs:from 201601201200\n",
      "29:10 metre U wind component:m s**-1 (instant):reduced_gg:surface:level 0:fcst time 9 hrs:from 201601201200\n",
      "30:10 metre V wind component:m s**-1 (instant):reduced_gg:surface:level 0:fcst time 9 hrs:from 201601201200\n",
      "31:Mean sea level pressure:Pa (instant):reduced_gg:surface:level 0:fcst time 10 hrs:from 201601201200\n",
      "32:10 metre U wind component:m s**-1 (instant):reduced_gg:surface:level 0:fcst time 10 hrs:from 201601201200\n",
      "33:10 metre V wind component:m s**-1 (instant):reduced_gg:surface:level 0:fcst time 10 hrs:from 201601201200\n",
      "34:Mean sea level pressure:Pa (instant):reduced_gg:surface:level 0:fcst time 11 hrs:from 201601201200\n",
      "35:10 metre U wind component:m s**-1 (instant):reduced_gg:surface:level 0:fcst time 11 hrs:from 201601201200\n",
      "36:10 metre V wind component:m s**-1 (instant):reduced_gg:surface:level 0:fcst time 11 hrs:from 201601201200\n",
      "37:Mean sea level pressure:Pa (instant):reduced_gg:surface:level 0:fcst time 12 hrs:from 201601201200\n",
      "38:10 metre U wind component:m s**-1 (instant):reduced_gg:surface:level 0:fcst time 12 hrs:from 201601201200\n",
      "39:10 metre V wind component:m s**-1 (instant):reduced_gg:surface:level 0:fcst time 12 hrs:from 201601201200\n",
      "40:Mean sea level pressure:Pa (instant):reduced_gg:surface:level 0:fcst time 13 hrs:from 201601201200\n",
      "41:10 metre U wind component:m s**-1 (instant):reduced_gg:surface:level 0:fcst time 13 hrs:from 201601201200\n",
      "42:10 metre V wind component:m s**-1 (instant):reduced_gg:surface:level 0:fcst time 13 hrs:from 201601201200\n",
      "43:Mean sea level pressure:Pa (instant):reduced_gg:surface:level 0:fcst time 14 hrs:from 201601201200\n",
      "44:10 metre U wind component:m s**-1 (instant):reduced_gg:surface:level 0:fcst time 14 hrs:from 201601201200\n",
      "45:10 metre V wind component:m s**-1 (instant):reduced_gg:surface:level 0:fcst time 14 hrs:from 201601201200\n",
      "46:Mean sea level pressure:Pa (instant):reduced_gg:surface:level 0:fcst time 15 hrs:from 201601201200\n",
      "47:10 metre U wind component:m s**-1 (instant):reduced_gg:surface:level 0:fcst time 15 hrs:from 201601201200\n",
      "48:10 metre V wind component:m s**-1 (instant):reduced_gg:surface:level 0:fcst time 15 hrs:from 201601201200\n",
      "49:Mean sea level pressure:Pa (instant):reduced_gg:surface:level 0:fcst time 16 hrs:from 201601201200\n",
      "50:10 metre U wind component:m s**-1 (instant):reduced_gg:surface:level 0:fcst time 16 hrs:from 201601201200\n",
      "51:10 metre V wind component:m s**-1 (instant):reduced_gg:surface:level 0:fcst time 16 hrs:from 201601201200\n",
      "52:Mean sea level pressure:Pa (instant):reduced_gg:surface:level 0:fcst time 17 hrs:from 201601201200\n",
      "53:10 metre U wind component:m s**-1 (instant):reduced_gg:surface:level 0:fcst time 17 hrs:from 201601201200\n",
      "54:10 metre V wind component:m s**-1 (instant):reduced_gg:surface:level 0:fcst time 17 hrs:from 201601201200\n",
      "55:Mean sea level pressure:Pa (instant):reduced_gg:surface:level 0:fcst time 18 hrs:from 201601201200\n",
      "56:10 metre U wind component:m s**-1 (instant):reduced_gg:surface:level 0:fcst time 18 hrs:from 201601201200\n",
      "57:10 metre V wind component:m s**-1 (instant):reduced_gg:surface:level 0:fcst time 18 hrs:from 201601201200\n",
      "58:Mean sea level pressure:Pa (instant):reduced_gg:surface:level 0:fcst time 19 hrs:from 201601201200\n",
      "59:10 metre U wind component:m s**-1 (instant):reduced_gg:surface:level 0:fcst time 19 hrs:from 201601201200\n",
      "60:10 metre V wind component:m s**-1 (instant):reduced_gg:surface:level 0:fcst time 19 hrs:from 201601201200\n",
      "61:Mean sea level pressure:Pa (instant):reduced_gg:surface:level 0:fcst time 20 hrs:from 201601201200\n",
      "62:10 metre U wind component:m s**-1 (instant):reduced_gg:surface:level 0:fcst time 20 hrs:from 201601201200\n",
      "63:10 metre V wind component:m s**-1 (instant):reduced_gg:surface:level 0:fcst time 20 hrs:from 201601201200\n",
      "64:Mean sea level pressure:Pa (instant):reduced_gg:surface:level 0:fcst time 21 hrs:from 201601201200\n",
      "65:10 metre U wind component:m s**-1 (instant):reduced_gg:surface:level 0:fcst time 21 hrs:from 201601201200\n",
      "66:10 metre V wind component:m s**-1 (instant):reduced_gg:surface:level 0:fcst time 21 hrs:from 201601201200\n",
      "67:Mean sea level pressure:Pa (instant):reduced_gg:surface:level 0:fcst time 22 hrs:from 201601201200\n",
      "68:10 metre U wind component:m s**-1 (instant):reduced_gg:surface:level 0:fcst time 22 hrs:from 201601201200\n",
      "69:10 metre V wind component:m s**-1 (instant):reduced_gg:surface:level 0:fcst time 22 hrs:from 201601201200\n",
      "70:Mean sea level pressure:Pa (instant):reduced_gg:surface:level 0:fcst time 23 hrs:from 201601201200\n",
      "71:10 metre U wind component:m s**-1 (instant):reduced_gg:surface:level 0:fcst time 23 hrs:from 201601201200\n",
      "72:10 metre V wind component:m s**-1 (instant):reduced_gg:surface:level 0:fcst time 23 hrs:from 201601201200\n",
      "73:Mean sea level pressure:Pa (instant):reduced_gg:surface:level 0:fcst time 24 hrs:from 201601201200\n",
      "74:10 metre U wind component:m s**-1 (instant):reduced_gg:surface:level 0:fcst time 24 hrs:from 201601201200\n",
      "75:10 metre V wind component:m s**-1 (instant):reduced_gg:surface:level 0:fcst time 24 hrs:from 201601201200\n",
      "76:Mean sea level pressure:Pa (instant):reduced_gg:surface:level 0:fcst time 25 hrs:from 201601201200\n",
      "77:10 metre U wind component:m s**-1 (instant):reduced_gg:surface:level 0:fcst time 25 hrs:from 201601201200\n",
      "78:10 metre V wind component:m s**-1 (instant):reduced_gg:surface:level 0:fcst time 25 hrs:from 201601201200\n",
      "79:Mean sea level pressure:Pa (instant):reduced_gg:surface:level 0:fcst time 26 hrs:from 201601201200\n",
      "80:10 metre U wind component:m s**-1 (instant):reduced_gg:surface:level 0:fcst time 26 hrs:from 201601201200\n",
      "81:10 metre V wind component:m s**-1 (instant):reduced_gg:surface:level 0:fcst time 26 hrs:from 201601201200\n",
      "82:Mean sea level pressure:Pa (instant):reduced_gg:surface:level 0:fcst time 27 hrs:from 201601201200\n",
      "83:10 metre U wind component:m s**-1 (instant):reduced_gg:surface:level 0:fcst time 27 hrs:from 201601201200\n",
      "84:10 metre V wind component:m s**-1 (instant):reduced_gg:surface:level 0:fcst time 27 hrs:from 201601201200\n",
      "85:Mean sea level pressure:Pa (instant):reduced_gg:surface:level 0:fcst time 28 hrs:from 201601201200\n",
      "86:10 metre U wind component:m s**-1 (instant):reduced_gg:surface:level 0:fcst time 28 hrs:from 201601201200\n",
      "87:10 metre V wind component:m s**-1 (instant):reduced_gg:surface:level 0:fcst time 28 hrs:from 201601201200\n",
      "88:Mean sea level pressure:Pa (instant):reduced_gg:surface:level 0:fcst time 29 hrs:from 201601201200\n",
      "89:10 metre U wind component:m s**-1 (instant):reduced_gg:surface:level 0:fcst time 29 hrs:from 201601201200\n",
      "90:10 metre V wind component:m s**-1 (instant):reduced_gg:surface:level 0:fcst time 29 hrs:from 201601201200\n",
      "91:Mean sea level pressure:Pa (instant):reduced_gg:surface:level 0:fcst time 30 hrs:from 201601201200\n",
      "92:10 metre U wind component:m s**-1 (instant):reduced_gg:surface:level 0:fcst time 30 hrs:from 201601201200\n",
      "93:10 metre V wind component:m s**-1 (instant):reduced_gg:surface:level 0:fcst time 30 hrs:from 201601201200\n",
      "94:Mean sea level pressure:Pa (instant):reduced_gg:surface:level 0:fcst time 31 hrs:from 201601201200\n",
      "95:10 metre U wind component:m s**-1 (instant):reduced_gg:surface:level 0:fcst time 31 hrs:from 201601201200\n",
      "96:10 metre V wind component:m s**-1 (instant):reduced_gg:surface:level 0:fcst time 31 hrs:from 201601201200\n",
      "97:Mean sea level pressure:Pa (instant):reduced_gg:surface:level 0:fcst time 32 hrs:from 201601201200\n",
      "98:10 metre U wind component:m s**-1 (instant):reduced_gg:surface:level 0:fcst time 32 hrs:from 201601201200\n",
      "99:10 metre V wind component:m s**-1 (instant):reduced_gg:surface:level 0:fcst time 32 hrs:from 201601201200\n",
      "100:Mean sea level pressure:Pa (instant):reduced_gg:surface:level 0:fcst time 33 hrs:from 201601201200\n",
      "101:10 metre U wind component:m s**-1 (instant):reduced_gg:surface:level 0:fcst time 33 hrs:from 201601201200\n",
      "102:10 metre V wind component:m s**-1 (instant):reduced_gg:surface:level 0:fcst time 33 hrs:from 201601201200\n",
      "103:Mean sea level pressure:Pa (instant):reduced_gg:surface:level 0:fcst time 34 hrs:from 201601201200\n",
      "104:10 metre U wind component:m s**-1 (instant):reduced_gg:surface:level 0:fcst time 34 hrs:from 201601201200\n",
      "105:10 metre V wind component:m s**-1 (instant):reduced_gg:surface:level 0:fcst time 34 hrs:from 201601201200\n",
      "106:Mean sea level pressure:Pa (instant):reduced_gg:surface:level 0:fcst time 35 hrs:from 201601201200\n",
      "107:10 metre U wind component:m s**-1 (instant):reduced_gg:surface:level 0:fcst time 35 hrs:from 201601201200\n",
      "108:10 metre V wind component:m s**-1 (instant):reduced_gg:surface:level 0:fcst time 35 hrs:from 201601201200\n",
      "109:Mean sea level pressure:Pa (instant):reduced_gg:surface:level 0:fcst time 36 hrs:from 201601201200\n",
      "110:10 metre U wind component:m s**-1 (instant):reduced_gg:surface:level 0:fcst time 36 hrs:from 201601201200\n",
      "111:10 metre V wind component:m s**-1 (instant):reduced_gg:surface:level 0:fcst time 36 hrs:from 201601201200\n",
      "112:Mean sea level pressure:Pa (instant):reduced_gg:surface:level 0:fcst time 37 hrs:from 201601201200\n",
      "113:10 metre U wind component:m s**-1 (instant):reduced_gg:surface:level 0:fcst time 37 hrs:from 201601201200\n",
      "114:10 metre V wind component:m s**-1 (instant):reduced_gg:surface:level 0:fcst time 37 hrs:from 201601201200\n",
      "115:Mean sea level pressure:Pa (instant):reduced_gg:surface:level 0:fcst time 38 hrs:from 201601201200\n",
      "116:10 metre U wind component:m s**-1 (instant):reduced_gg:surface:level 0:fcst time 38 hrs:from 201601201200\n",
      "117:10 metre V wind component:m s**-1 (instant):reduced_gg:surface:level 0:fcst time 38 hrs:from 201601201200\n",
      "118:Mean sea level pressure:Pa (instant):reduced_gg:surface:level 0:fcst time 39 hrs:from 201601201200\n",
      "119:10 metre U wind component:m s**-1 (instant):reduced_gg:surface:level 0:fcst time 39 hrs:from 201601201200\n",
      "120:10 metre V wind component:m s**-1 (instant):reduced_gg:surface:level 0:fcst time 39 hrs:from 201601201200\n",
      "121:Mean sea level pressure:Pa (instant):reduced_gg:surface:level 0:fcst time 40 hrs:from 201601201200\n",
      "122:10 metre U wind component:m s**-1 (instant):reduced_gg:surface:level 0:fcst time 40 hrs:from 201601201200\n",
      "123:10 metre V wind component:m s**-1 (instant):reduced_gg:surface:level 0:fcst time 40 hrs:from 201601201200\n",
      "124:Mean sea level pressure:Pa (instant):reduced_gg:surface:level 0:fcst time 41 hrs:from 201601201200\n",
      "125:10 metre U wind component:m s**-1 (instant):reduced_gg:surface:level 0:fcst time 41 hrs:from 201601201200\n",
      "126:10 metre V wind component:m s**-1 (instant):reduced_gg:surface:level 0:fcst time 41 hrs:from 201601201200\n",
      "127:Mean sea level pressure:Pa (instant):reduced_gg:surface:level 0:fcst time 42 hrs:from 201601201200\n",
      "128:10 metre U wind component:m s**-1 (instant):reduced_gg:surface:level 0:fcst time 42 hrs:from 201601201200\n",
      "129:10 metre V wind component:m s**-1 (instant):reduced_gg:surface:level 0:fcst time 42 hrs:from 201601201200\n",
      "130:Mean sea level pressure:Pa (instant):reduced_gg:surface:level 0:fcst time 43 hrs:from 201601201200\n",
      "131:10 metre U wind component:m s**-1 (instant):reduced_gg:surface:level 0:fcst time 43 hrs:from 201601201200\n",
      "132:10 metre V wind component:m s**-1 (instant):reduced_gg:surface:level 0:fcst time 43 hrs:from 201601201200\n",
      "133:Mean sea level pressure:Pa (instant):reduced_gg:surface:level 0:fcst time 44 hrs:from 201601201200\n",
      "134:10 metre U wind component:m s**-1 (instant):reduced_gg:surface:level 0:fcst time 44 hrs:from 201601201200\n",
      "135:10 metre V wind component:m s**-1 (instant):reduced_gg:surface:level 0:fcst time 44 hrs:from 201601201200\n",
      "136:Mean sea level pressure:Pa (instant):reduced_gg:surface:level 0:fcst time 45 hrs:from 201601201200\n",
      "137:10 metre U wind component:m s**-1 (instant):reduced_gg:surface:level 0:fcst time 45 hrs:from 201601201200\n",
      "138:10 metre V wind component:m s**-1 (instant):reduced_gg:surface:level 0:fcst time 45 hrs:from 201601201200\n",
      "139:Mean sea level pressure:Pa (instant):reduced_gg:surface:level 0:fcst time 46 hrs:from 201601201200\n",
      "140:10 metre U wind component:m s**-1 (instant):reduced_gg:surface:level 0:fcst time 46 hrs:from 201601201200\n",
      "141:10 metre V wind component:m s**-1 (instant):reduced_gg:surface:level 0:fcst time 46 hrs:from 201601201200\n",
      "142:Mean sea level pressure:Pa (instant):reduced_gg:surface:level 0:fcst time 47 hrs:from 201601201200\n",
      "143:10 metre U wind component:m s**-1 (instant):reduced_gg:surface:level 0:fcst time 47 hrs:from 201601201200\n",
      "144:10 metre V wind component:m s**-1 (instant):reduced_gg:surface:level 0:fcst time 47 hrs:from 201601201200\n",
      "145:Mean sea level pressure:Pa (instant):reduced_gg:surface:level 0:fcst time 48 hrs:from 201601201200\n",
      "146:10 metre U wind component:m s**-1 (instant):reduced_gg:surface:level 0:fcst time 48 hrs:from 201601201200\n",
      "147:10 metre V wind component:m s**-1 (instant):reduced_gg:surface:level 0:fcst time 48 hrs:from 201601201200\n",
      "148:Mean sea level pressure:Pa (instant):reduced_gg:surface:level 0:fcst time 49 hrs:from 201601201200\n",
      "149:10 metre U wind component:m s**-1 (instant):reduced_gg:surface:level 0:fcst time 49 hrs:from 201601201200\n",
      "150:10 metre V wind component:m s**-1 (instant):reduced_gg:surface:level 0:fcst time 49 hrs:from 201601201200\n",
      "151:Mean sea level pressure:Pa (instant):reduced_gg:surface:level 0:fcst time 50 hrs:from 201601201200\n",
      "152:10 metre U wind component:m s**-1 (instant):reduced_gg:surface:level 0:fcst time 50 hrs:from 201601201200\n",
      "153:10 metre V wind component:m s**-1 (instant):reduced_gg:surface:level 0:fcst time 50 hrs:from 201601201200\n",
      "154:Mean sea level pressure:Pa (instant):reduced_gg:surface:level 0:fcst time 51 hrs:from 201601201200\n",
      "155:10 metre U wind component:m s**-1 (instant):reduced_gg:surface:level 0:fcst time 51 hrs:from 201601201200\n",
      "156:10 metre V wind component:m s**-1 (instant):reduced_gg:surface:level 0:fcst time 51 hrs:from 201601201200\n",
      "157:Mean sea level pressure:Pa (instant):reduced_gg:surface:level 0:fcst time 52 hrs:from 201601201200\n",
      "158:10 metre U wind component:m s**-1 (instant):reduced_gg:surface:level 0:fcst time 52 hrs:from 201601201200\n",
      "159:10 metre V wind component:m s**-1 (instant):reduced_gg:surface:level 0:fcst time 52 hrs:from 201601201200\n",
      "160:Mean sea level pressure:Pa (instant):reduced_gg:surface:level 0:fcst time 53 hrs:from 201601201200\n",
      "161:10 metre U wind component:m s**-1 (instant):reduced_gg:surface:level 0:fcst time 53 hrs:from 201601201200\n",
      "162:10 metre V wind component:m s**-1 (instant):reduced_gg:surface:level 0:fcst time 53 hrs:from 201601201200\n",
      "163:Mean sea level pressure:Pa (instant):reduced_gg:surface:level 0:fcst time 54 hrs:from 201601201200\n",
      "164:10 metre U wind component:m s**-1 (instant):reduced_gg:surface:level 0:fcst time 54 hrs:from 201601201200\n",
      "165:10 metre V wind component:m s**-1 (instant):reduced_gg:surface:level 0:fcst time 54 hrs:from 201601201200\n",
      "166:Mean sea level pressure:Pa (instant):reduced_gg:surface:level 0:fcst time 55 hrs:from 201601201200\n",
      "167:10 metre U wind component:m s**-1 (instant):reduced_gg:surface:level 0:fcst time 55 hrs:from 201601201200\n",
      "168:10 metre V wind component:m s**-1 (instant):reduced_gg:surface:level 0:fcst time 55 hrs:from 201601201200\n",
      "169:Mean sea level pressure:Pa (instant):reduced_gg:surface:level 0:fcst time 56 hrs:from 201601201200\n",
      "170:10 metre U wind component:m s**-1 (instant):reduced_gg:surface:level 0:fcst time 56 hrs:from 201601201200\n",
      "171:10 metre V wind component:m s**-1 (instant):reduced_gg:surface:level 0:fcst time 56 hrs:from 201601201200\n",
      "172:Mean sea level pressure:Pa (instant):reduced_gg:surface:level 0:fcst time 57 hrs:from 201601201200\n",
      "173:10 metre U wind component:m s**-1 (instant):reduced_gg:surface:level 0:fcst time 57 hrs:from 201601201200\n",
      "174:10 metre V wind component:m s**-1 (instant):reduced_gg:surface:level 0:fcst time 57 hrs:from 201601201200\n",
      "175:Mean sea level pressure:Pa (instant):reduced_gg:surface:level 0:fcst time 58 hrs:from 201601201200\n",
      "176:10 metre U wind component:m s**-1 (instant):reduced_gg:surface:level 0:fcst time 58 hrs:from 201601201200\n",
      "177:10 metre V wind component:m s**-1 (instant):reduced_gg:surface:level 0:fcst time 58 hrs:from 201601201200\n",
      "178:Mean sea level pressure:Pa (instant):reduced_gg:surface:level 0:fcst time 59 hrs:from 201601201200\n",
      "179:10 metre U wind component:m s**-1 (instant):reduced_gg:surface:level 0:fcst time 59 hrs:from 201601201200\n",
      "180:10 metre V wind component:m s**-1 (instant):reduced_gg:surface:level 0:fcst time 59 hrs:from 201601201200\n",
      "181:Mean sea level pressure:Pa (instant):reduced_gg:surface:level 0:fcst time 60 hrs:from 201601201200\n",
      "182:10 metre U wind component:m s**-1 (instant):reduced_gg:surface:level 0:fcst time 60 hrs:from 201601201200\n",
      "183:10 metre V wind component:m s**-1 (instant):reduced_gg:surface:level 0:fcst time 60 hrs:from 201601201200\n",
      "184:Mean sea level pressure:Pa (instant):reduced_gg:surface:level 0:fcst time 61 hrs:from 201601201200\n",
      "185:10 metre U wind component:m s**-1 (instant):reduced_gg:surface:level 0:fcst time 61 hrs:from 201601201200\n",
      "186:10 metre V wind component:m s**-1 (instant):reduced_gg:surface:level 0:fcst time 61 hrs:from 201601201200\n",
      "187:Mean sea level pressure:Pa (instant):reduced_gg:surface:level 0:fcst time 62 hrs:from 201601201200\n",
      "188:10 metre U wind component:m s**-1 (instant):reduced_gg:surface:level 0:fcst time 62 hrs:from 201601201200\n",
      "189:10 metre V wind component:m s**-1 (instant):reduced_gg:surface:level 0:fcst time 62 hrs:from 201601201200\n",
      "190:Mean sea level pressure:Pa (instant):reduced_gg:surface:level 0:fcst time 63 hrs:from 201601201200\n",
      "191:10 metre U wind component:m s**-1 (instant):reduced_gg:surface:level 0:fcst time 63 hrs:from 201601201200\n",
      "192:10 metre V wind component:m s**-1 (instant):reduced_gg:surface:level 0:fcst time 63 hrs:from 201601201200\n",
      "193:Mean sea level pressure:Pa (instant):reduced_gg:surface:level 0:fcst time 64 hrs:from 201601201200\n",
      "194:10 metre U wind component:m s**-1 (instant):reduced_gg:surface:level 0:fcst time 64 hrs:from 201601201200\n",
      "195:10 metre V wind component:m s**-1 (instant):reduced_gg:surface:level 0:fcst time 64 hrs:from 201601201200\n",
      "196:Mean sea level pressure:Pa (instant):reduced_gg:surface:level 0:fcst time 65 hrs:from 201601201200\n",
      "197:10 metre U wind component:m s**-1 (instant):reduced_gg:surface:level 0:fcst time 65 hrs:from 201601201200\n",
      "198:10 metre V wind component:m s**-1 (instant):reduced_gg:surface:level 0:fcst time 65 hrs:from 201601201200\n",
      "199:Mean sea level pressure:Pa (instant):reduced_gg:surface:level 0:fcst time 66 hrs:from 201601201200\n",
      "200:10 metre U wind component:m s**-1 (instant):reduced_gg:surface:level 0:fcst time 66 hrs:from 201601201200\n",
      "201:10 metre V wind component:m s**-1 (instant):reduced_gg:surface:level 0:fcst time 66 hrs:from 201601201200\n",
      "202:Mean sea level pressure:Pa (instant):reduced_gg:surface:level 0:fcst time 67 hrs:from 201601201200\n",
      "203:10 metre U wind component:m s**-1 (instant):reduced_gg:surface:level 0:fcst time 67 hrs:from 201601201200\n",
      "204:10 metre V wind component:m s**-1 (instant):reduced_gg:surface:level 0:fcst time 67 hrs:from 201601201200\n",
      "205:Mean sea level pressure:Pa (instant):reduced_gg:surface:level 0:fcst time 68 hrs:from 201601201200\n",
      "206:10 metre U wind component:m s**-1 (instant):reduced_gg:surface:level 0:fcst time 68 hrs:from 201601201200\n",
      "207:10 metre V wind component:m s**-1 (instant):reduced_gg:surface:level 0:fcst time 68 hrs:from 201601201200\n",
      "208:Mean sea level pressure:Pa (instant):reduced_gg:surface:level 0:fcst time 69 hrs:from 201601201200\n",
      "209:10 metre U wind component:m s**-1 (instant):reduced_gg:surface:level 0:fcst time 69 hrs:from 201601201200\n",
      "210:10 metre V wind component:m s**-1 (instant):reduced_gg:surface:level 0:fcst time 69 hrs:from 201601201200\n",
      "211:Mean sea level pressure:Pa (instant):reduced_gg:surface:level 0:fcst time 70 hrs:from 201601201200\n",
      "212:10 metre U wind component:m s**-1 (instant):reduced_gg:surface:level 0:fcst time 70 hrs:from 201601201200\n",
      "213:10 metre V wind component:m s**-1 (instant):reduced_gg:surface:level 0:fcst time 70 hrs:from 201601201200\n",
      "214:Mean sea level pressure:Pa (instant):reduced_gg:surface:level 0:fcst time 71 hrs:from 201601201200\n",
      "215:10 metre U wind component:m s**-1 (instant):reduced_gg:surface:level 0:fcst time 71 hrs:from 201601201200\n",
      "216:10 metre V wind component:m s**-1 (instant):reduced_gg:surface:level 0:fcst time 71 hrs:from 201601201200\n",
      "217:Mean sea level pressure:Pa (instant):reduced_gg:surface:level 0:fcst time 72 hrs:from 201601201200\n",
      "218:10 metre U wind component:m s**-1 (instant):reduced_gg:surface:level 0:fcst time 72 hrs:from 201601201200\n",
      "219:10 metre V wind component:m s**-1 (instant):reduced_gg:surface:level 0:fcst time 72 hrs:from 201601201200\n"
     ]
    }
   ],
   "source": [
    "for g in dl:\n",
    "    print g\n",
    "dl.rewind()"
   ]
  },
  {
   "cell_type": "code",
   "execution_count": 44,
   "metadata": {
    "collapsed": false
   },
   "outputs": [],
   "source": [
    "filename='/mnt/pandora/20150422.00.tropical_cyclone.grib'\n",
    "u10=pygrib.open(filename)"
   ]
  },
  {
   "cell_type": "code",
   "execution_count": 45,
   "metadata": {
    "collapsed": false
   },
   "outputs": [
    {
     "data": {
      "text/plain": [
       "219"
      ]
     },
     "execution_count": 45,
     "metadata": {},
     "output_type": "execute_result"
    }
   ],
   "source": [
    "u10.messages"
   ]
  },
  {
   "cell_type": "code",
   "execution_count": 46,
   "metadata": {
    "collapsed": false
   },
   "outputs": [
    {
     "name": "stdout",
     "output_type": "stream",
     "text": [
      "1:Mean sea level pressure:Pa (instant):reduced_gg:surface:level 0:fcst time 0 hrs:from 201504220000\n",
      "2:10 metre U wind component:m s**-1 (instant):reduced_gg:surface:level 0:fcst time 0 hrs:from 201504220000\n",
      "3:10 metre V wind component:m s**-1 (instant):reduced_gg:surface:level 0:fcst time 0 hrs:from 201504220000\n",
      "4:Mean sea level pressure:Pa (instant):reduced_gg:surface:level 0:fcst time 1 hrs:from 201504220000\n",
      "5:10 metre U wind component:m s**-1 (instant):reduced_gg:surface:level 0:fcst time 1 hrs:from 201504220000\n",
      "6:10 metre V wind component:m s**-1 (instant):reduced_gg:surface:level 0:fcst time 1 hrs:from 201504220000\n",
      "7:Mean sea level pressure:Pa (instant):reduced_gg:surface:level 0:fcst time 2 hrs:from 201504220000\n",
      "8:10 metre U wind component:m s**-1 (instant):reduced_gg:surface:level 0:fcst time 2 hrs:from 201504220000\n",
      "9:10 metre V wind component:m s**-1 (instant):reduced_gg:surface:level 0:fcst time 2 hrs:from 201504220000\n",
      "10:Mean sea level pressure:Pa (instant):reduced_gg:surface:level 0:fcst time 3 hrs:from 201504220000\n",
      "11:10 metre U wind component:m s**-1 (instant):reduced_gg:surface:level 0:fcst time 3 hrs:from 201504220000\n",
      "12:10 metre V wind component:m s**-1 (instant):reduced_gg:surface:level 0:fcst time 3 hrs:from 201504220000\n",
      "13:Mean sea level pressure:Pa (instant):reduced_gg:surface:level 0:fcst time 4 hrs:from 201504220000\n",
      "14:10 metre U wind component:m s**-1 (instant):reduced_gg:surface:level 0:fcst time 4 hrs:from 201504220000\n",
      "15:10 metre V wind component:m s**-1 (instant):reduced_gg:surface:level 0:fcst time 4 hrs:from 201504220000\n",
      "16:Mean sea level pressure:Pa (instant):reduced_gg:surface:level 0:fcst time 5 hrs:from 201504220000\n",
      "17:10 metre U wind component:m s**-1 (instant):reduced_gg:surface:level 0:fcst time 5 hrs:from 201504220000\n",
      "18:10 metre V wind component:m s**-1 (instant):reduced_gg:surface:level 0:fcst time 5 hrs:from 201504220000\n",
      "19:Mean sea level pressure:Pa (instant):reduced_gg:surface:level 0:fcst time 6 hrs:from 201504220000\n",
      "20:10 metre U wind component:m s**-1 (instant):reduced_gg:surface:level 0:fcst time 6 hrs:from 201504220000\n",
      "21:10 metre V wind component:m s**-1 (instant):reduced_gg:surface:level 0:fcst time 6 hrs:from 201504220000\n",
      "22:Mean sea level pressure:Pa (instant):reduced_gg:surface:level 0:fcst time 7 hrs:from 201504220000\n",
      "23:10 metre U wind component:m s**-1 (instant):reduced_gg:surface:level 0:fcst time 7 hrs:from 201504220000\n",
      "24:10 metre V wind component:m s**-1 (instant):reduced_gg:surface:level 0:fcst time 7 hrs:from 201504220000\n",
      "25:Mean sea level pressure:Pa (instant):reduced_gg:surface:level 0:fcst time 8 hrs:from 201504220000\n",
      "26:10 metre U wind component:m s**-1 (instant):reduced_gg:surface:level 0:fcst time 8 hrs:from 201504220000\n",
      "27:10 metre V wind component:m s**-1 (instant):reduced_gg:surface:level 0:fcst time 8 hrs:from 201504220000\n",
      "28:Mean sea level pressure:Pa (instant):reduced_gg:surface:level 0:fcst time 9 hrs:from 201504220000\n",
      "29:10 metre U wind component:m s**-1 (instant):reduced_gg:surface:level 0:fcst time 9 hrs:from 201504220000\n",
      "30:10 metre V wind component:m s**-1 (instant):reduced_gg:surface:level 0:fcst time 9 hrs:from 201504220000\n",
      "31:Mean sea level pressure:Pa (instant):reduced_gg:surface:level 0:fcst time 10 hrs:from 201504220000\n",
      "32:10 metre U wind component:m s**-1 (instant):reduced_gg:surface:level 0:fcst time 10 hrs:from 201504220000\n",
      "33:10 metre V wind component:m s**-1 (instant):reduced_gg:surface:level 0:fcst time 10 hrs:from 201504220000\n",
      "34:Mean sea level pressure:Pa (instant):reduced_gg:surface:level 0:fcst time 11 hrs:from 201504220000\n",
      "35:10 metre U wind component:m s**-1 (instant):reduced_gg:surface:level 0:fcst time 11 hrs:from 201504220000\n",
      "36:10 metre V wind component:m s**-1 (instant):reduced_gg:surface:level 0:fcst time 11 hrs:from 201504220000\n",
      "37:Mean sea level pressure:Pa (instant):reduced_gg:surface:level 0:fcst time 12 hrs:from 201504220000\n",
      "38:10 metre U wind component:m s**-1 (instant):reduced_gg:surface:level 0:fcst time 12 hrs:from 201504220000\n",
      "39:10 metre V wind component:m s**-1 (instant):reduced_gg:surface:level 0:fcst time 12 hrs:from 201504220000\n",
      "40:Mean sea level pressure:Pa (instant):reduced_gg:surface:level 0:fcst time 13 hrs:from 201504220000\n",
      "41:10 metre U wind component:m s**-1 (instant):reduced_gg:surface:level 0:fcst time 13 hrs:from 201504220000\n",
      "42:10 metre V wind component:m s**-1 (instant):reduced_gg:surface:level 0:fcst time 13 hrs:from 201504220000\n",
      "43:Mean sea level pressure:Pa (instant):reduced_gg:surface:level 0:fcst time 14 hrs:from 201504220000\n",
      "44:10 metre U wind component:m s**-1 (instant):reduced_gg:surface:level 0:fcst time 14 hrs:from 201504220000\n",
      "45:10 metre V wind component:m s**-1 (instant):reduced_gg:surface:level 0:fcst time 14 hrs:from 201504220000\n",
      "46:Mean sea level pressure:Pa (instant):reduced_gg:surface:level 0:fcst time 15 hrs:from 201504220000\n",
      "47:10 metre U wind component:m s**-1 (instant):reduced_gg:surface:level 0:fcst time 15 hrs:from 201504220000\n",
      "48:10 metre V wind component:m s**-1 (instant):reduced_gg:surface:level 0:fcst time 15 hrs:from 201504220000\n",
      "49:Mean sea level pressure:Pa (instant):reduced_gg:surface:level 0:fcst time 16 hrs:from 201504220000\n",
      "50:10 metre U wind component:m s**-1 (instant):reduced_gg:surface:level 0:fcst time 16 hrs:from 201504220000\n",
      "51:10 metre V wind component:m s**-1 (instant):reduced_gg:surface:level 0:fcst time 16 hrs:from 201504220000\n",
      "52:Mean sea level pressure:Pa (instant):reduced_gg:surface:level 0:fcst time 17 hrs:from 201504220000\n",
      "53:10 metre U wind component:m s**-1 (instant):reduced_gg:surface:level 0:fcst time 17 hrs:from 201504220000\n",
      "54:10 metre V wind component:m s**-1 (instant):reduced_gg:surface:level 0:fcst time 17 hrs:from 201504220000\n",
      "55:Mean sea level pressure:Pa (instant):reduced_gg:surface:level 0:fcst time 18 hrs:from 201504220000\n",
      "56:10 metre U wind component:m s**-1 (instant):reduced_gg:surface:level 0:fcst time 18 hrs:from 201504220000\n",
      "57:10 metre V wind component:m s**-1 (instant):reduced_gg:surface:level 0:fcst time 18 hrs:from 201504220000\n",
      "58:Mean sea level pressure:Pa (instant):reduced_gg:surface:level 0:fcst time 19 hrs:from 201504220000\n",
      "59:10 metre U wind component:m s**-1 (instant):reduced_gg:surface:level 0:fcst time 19 hrs:from 201504220000\n",
      "60:10 metre V wind component:m s**-1 (instant):reduced_gg:surface:level 0:fcst time 19 hrs:from 201504220000\n",
      "61:Mean sea level pressure:Pa (instant):reduced_gg:surface:level 0:fcst time 20 hrs:from 201504220000\n",
      "62:10 metre U wind component:m s**-1 (instant):reduced_gg:surface:level 0:fcst time 20 hrs:from 201504220000\n",
      "63:10 metre V wind component:m s**-1 (instant):reduced_gg:surface:level 0:fcst time 20 hrs:from 201504220000\n",
      "64:Mean sea level pressure:Pa (instant):reduced_gg:surface:level 0:fcst time 21 hrs:from 201504220000\n",
      "65:10 metre U wind component:m s**-1 (instant):reduced_gg:surface:level 0:fcst time 21 hrs:from 201504220000\n",
      "66:10 metre V wind component:m s**-1 (instant):reduced_gg:surface:level 0:fcst time 21 hrs:from 201504220000\n",
      "67:Mean sea level pressure:Pa (instant):reduced_gg:surface:level 0:fcst time 22 hrs:from 201504220000\n",
      "68:10 metre U wind component:m s**-1 (instant):reduced_gg:surface:level 0:fcst time 22 hrs:from 201504220000\n",
      "69:10 metre V wind component:m s**-1 (instant):reduced_gg:surface:level 0:fcst time 22 hrs:from 201504220000\n",
      "70:Mean sea level pressure:Pa (instant):reduced_gg:surface:level 0:fcst time 23 hrs:from 201504220000\n",
      "71:10 metre U wind component:m s**-1 (instant):reduced_gg:surface:level 0:fcst time 23 hrs:from 201504220000\n",
      "72:10 metre V wind component:m s**-1 (instant):reduced_gg:surface:level 0:fcst time 23 hrs:from 201504220000\n",
      "73:Mean sea level pressure:Pa (instant):reduced_gg:surface:level 0:fcst time 24 hrs:from 201504220000\n",
      "74:10 metre U wind component:m s**-1 (instant):reduced_gg:surface:level 0:fcst time 24 hrs:from 201504220000\n",
      "75:10 metre V wind component:m s**-1 (instant):reduced_gg:surface:level 0:fcst time 24 hrs:from 201504220000\n",
      "76:Mean sea level pressure:Pa (instant):reduced_gg:surface:level 0:fcst time 25 hrs:from 201504220000\n",
      "77:10 metre U wind component:m s**-1 (instant):reduced_gg:surface:level 0:fcst time 25 hrs:from 201504220000\n",
      "78:10 metre V wind component:m s**-1 (instant):reduced_gg:surface:level 0:fcst time 25 hrs:from 201504220000\n",
      "79:Mean sea level pressure:Pa (instant):reduced_gg:surface:level 0:fcst time 26 hrs:from 201504220000\n",
      "80:10 metre U wind component:m s**-1 (instant):reduced_gg:surface:level 0:fcst time 26 hrs:from 201504220000\n",
      "81:10 metre V wind component:m s**-1 (instant):reduced_gg:surface:level 0:fcst time 26 hrs:from 201504220000\n",
      "82:Mean sea level pressure:Pa (instant):reduced_gg:surface:level 0:fcst time 27 hrs:from 201504220000\n",
      "83:10 metre U wind component:m s**-1 (instant):reduced_gg:surface:level 0:fcst time 27 hrs:from 201504220000\n",
      "84:10 metre V wind component:m s**-1 (instant):reduced_gg:surface:level 0:fcst time 27 hrs:from 201504220000\n",
      "85:Mean sea level pressure:Pa (instant):reduced_gg:surface:level 0:fcst time 28 hrs:from 201504220000\n",
      "86:10 metre U wind component:m s**-1 (instant):reduced_gg:surface:level 0:fcst time 28 hrs:from 201504220000\n",
      "87:10 metre V wind component:m s**-1 (instant):reduced_gg:surface:level 0:fcst time 28 hrs:from 201504220000\n",
      "88:Mean sea level pressure:Pa (instant):reduced_gg:surface:level 0:fcst time 29 hrs:from 201504220000\n",
      "89:10 metre U wind component:m s**-1 (instant):reduced_gg:surface:level 0:fcst time 29 hrs:from 201504220000\n",
      "90:10 metre V wind component:m s**-1 (instant):reduced_gg:surface:level 0:fcst time 29 hrs:from 201504220000\n",
      "91:Mean sea level pressure:Pa (instant):reduced_gg:surface:level 0:fcst time 30 hrs:from 201504220000\n",
      "92:10 metre U wind component:m s**-1 (instant):reduced_gg:surface:level 0:fcst time 30 hrs:from 201504220000\n",
      "93:10 metre V wind component:m s**-1 (instant):reduced_gg:surface:level 0:fcst time 30 hrs:from 201504220000\n",
      "94:Mean sea level pressure:Pa (instant):reduced_gg:surface:level 0:fcst time 31 hrs:from 201504220000\n",
      "95:10 metre U wind component:m s**-1 (instant):reduced_gg:surface:level 0:fcst time 31 hrs:from 201504220000\n",
      "96:10 metre V wind component:m s**-1 (instant):reduced_gg:surface:level 0:fcst time 31 hrs:from 201504220000\n",
      "97:Mean sea level pressure:Pa (instant):reduced_gg:surface:level 0:fcst time 32 hrs:from 201504220000\n",
      "98:10 metre U wind component:m s**-1 (instant):reduced_gg:surface:level 0:fcst time 32 hrs:from 201504220000\n",
      "99:10 metre V wind component:m s**-1 (instant):reduced_gg:surface:level 0:fcst time 32 hrs:from 201504220000\n",
      "100:Mean sea level pressure:Pa (instant):reduced_gg:surface:level 0:fcst time 33 hrs:from 201504220000\n",
      "101:10 metre U wind component:m s**-1 (instant):reduced_gg:surface:level 0:fcst time 33 hrs:from 201504220000\n",
      "102:10 metre V wind component:m s**-1 (instant):reduced_gg:surface:level 0:fcst time 33 hrs:from 201504220000\n",
      "103:Mean sea level pressure:Pa (instant):reduced_gg:surface:level 0:fcst time 34 hrs:from 201504220000\n",
      "104:10 metre U wind component:m s**-1 (instant):reduced_gg:surface:level 0:fcst time 34 hrs:from 201504220000\n",
      "105:10 metre V wind component:m s**-1 (instant):reduced_gg:surface:level 0:fcst time 34 hrs:from 201504220000\n",
      "106:Mean sea level pressure:Pa (instant):reduced_gg:surface:level 0:fcst time 35 hrs:from 201504220000\n",
      "107:10 metre U wind component:m s**-1 (instant):reduced_gg:surface:level 0:fcst time 35 hrs:from 201504220000\n",
      "108:10 metre V wind component:m s**-1 (instant):reduced_gg:surface:level 0:fcst time 35 hrs:from 201504220000\n",
      "109:Mean sea level pressure:Pa (instant):reduced_gg:surface:level 0:fcst time 36 hrs:from 201504220000\n",
      "110:10 metre U wind component:m s**-1 (instant):reduced_gg:surface:level 0:fcst time 36 hrs:from 201504220000\n",
      "111:10 metre V wind component:m s**-1 (instant):reduced_gg:surface:level 0:fcst time 36 hrs:from 201504220000\n",
      "112:Mean sea level pressure:Pa (instant):reduced_gg:surface:level 0:fcst time 37 hrs:from 201504220000\n",
      "113:10 metre U wind component:m s**-1 (instant):reduced_gg:surface:level 0:fcst time 37 hrs:from 201504220000\n",
      "114:10 metre V wind component:m s**-1 (instant):reduced_gg:surface:level 0:fcst time 37 hrs:from 201504220000\n",
      "115:Mean sea level pressure:Pa (instant):reduced_gg:surface:level 0:fcst time 38 hrs:from 201504220000\n",
      "116:10 metre U wind component:m s**-1 (instant):reduced_gg:surface:level 0:fcst time 38 hrs:from 201504220000\n",
      "117:10 metre V wind component:m s**-1 (instant):reduced_gg:surface:level 0:fcst time 38 hrs:from 201504220000\n",
      "118:Mean sea level pressure:Pa (instant):reduced_gg:surface:level 0:fcst time 39 hrs:from 201504220000\n",
      "119:10 metre U wind component:m s**-1 (instant):reduced_gg:surface:level 0:fcst time 39 hrs:from 201504220000\n",
      "120:10 metre V wind component:m s**-1 (instant):reduced_gg:surface:level 0:fcst time 39 hrs:from 201504220000\n",
      "121:Mean sea level pressure:Pa (instant):reduced_gg:surface:level 0:fcst time 40 hrs:from 201504220000\n",
      "122:10 metre U wind component:m s**-1 (instant):reduced_gg:surface:level 0:fcst time 40 hrs:from 201504220000\n",
      "123:10 metre V wind component:m s**-1 (instant):reduced_gg:surface:level 0:fcst time 40 hrs:from 201504220000\n",
      "124:Mean sea level pressure:Pa (instant):reduced_gg:surface:level 0:fcst time 41 hrs:from 201504220000\n",
      "125:10 metre U wind component:m s**-1 (instant):reduced_gg:surface:level 0:fcst time 41 hrs:from 201504220000\n",
      "126:10 metre V wind component:m s**-1 (instant):reduced_gg:surface:level 0:fcst time 41 hrs:from 201504220000\n",
      "127:Mean sea level pressure:Pa (instant):reduced_gg:surface:level 0:fcst time 42 hrs:from 201504220000\n",
      "128:10 metre U wind component:m s**-1 (instant):reduced_gg:surface:level 0:fcst time 42 hrs:from 201504220000\n",
      "129:10 metre V wind component:m s**-1 (instant):reduced_gg:surface:level 0:fcst time 42 hrs:from 201504220000\n",
      "130:Mean sea level pressure:Pa (instant):reduced_gg:surface:level 0:fcst time 43 hrs:from 201504220000\n",
      "131:10 metre U wind component:m s**-1 (instant):reduced_gg:surface:level 0:fcst time 43 hrs:from 201504220000\n",
      "132:10 metre V wind component:m s**-1 (instant):reduced_gg:surface:level 0:fcst time 43 hrs:from 201504220000\n",
      "133:Mean sea level pressure:Pa (instant):reduced_gg:surface:level 0:fcst time 44 hrs:from 201504220000\n",
      "134:10 metre U wind component:m s**-1 (instant):reduced_gg:surface:level 0:fcst time 44 hrs:from 201504220000\n",
      "135:10 metre V wind component:m s**-1 (instant):reduced_gg:surface:level 0:fcst time 44 hrs:from 201504220000\n",
      "136:Mean sea level pressure:Pa (instant):reduced_gg:surface:level 0:fcst time 45 hrs:from 201504220000\n",
      "137:10 metre U wind component:m s**-1 (instant):reduced_gg:surface:level 0:fcst time 45 hrs:from 201504220000\n",
      "138:10 metre V wind component:m s**-1 (instant):reduced_gg:surface:level 0:fcst time 45 hrs:from 201504220000\n",
      "139:Mean sea level pressure:Pa (instant):reduced_gg:surface:level 0:fcst time 46 hrs:from 201504220000\n",
      "140:10 metre U wind component:m s**-1 (instant):reduced_gg:surface:level 0:fcst time 46 hrs:from 201504220000\n",
      "141:10 metre V wind component:m s**-1 (instant):reduced_gg:surface:level 0:fcst time 46 hrs:from 201504220000\n",
      "142:Mean sea level pressure:Pa (instant):reduced_gg:surface:level 0:fcst time 47 hrs:from 201504220000\n",
      "143:10 metre U wind component:m s**-1 (instant):reduced_gg:surface:level 0:fcst time 47 hrs:from 201504220000\n",
      "144:10 metre V wind component:m s**-1 (instant):reduced_gg:surface:level 0:fcst time 47 hrs:from 201504220000\n",
      "145:Mean sea level pressure:Pa (instant):reduced_gg:surface:level 0:fcst time 48 hrs:from 201504220000\n",
      "146:10 metre U wind component:m s**-1 (instant):reduced_gg:surface:level 0:fcst time 48 hrs:from 201504220000\n",
      "147:10 metre V wind component:m s**-1 (instant):reduced_gg:surface:level 0:fcst time 48 hrs:from 201504220000\n",
      "148:Mean sea level pressure:Pa (instant):reduced_gg:surface:level 0:fcst time 49 hrs:from 201504220000\n",
      "149:10 metre U wind component:m s**-1 (instant):reduced_gg:surface:level 0:fcst time 49 hrs:from 201504220000\n",
      "150:10 metre V wind component:m s**-1 (instant):reduced_gg:surface:level 0:fcst time 49 hrs:from 201504220000\n",
      "151:Mean sea level pressure:Pa (instant):reduced_gg:surface:level 0:fcst time 50 hrs:from 201504220000\n",
      "152:10 metre U wind component:m s**-1 (instant):reduced_gg:surface:level 0:fcst time 50 hrs:from 201504220000\n",
      "153:10 metre V wind component:m s**-1 (instant):reduced_gg:surface:level 0:fcst time 50 hrs:from 201504220000\n",
      "154:Mean sea level pressure:Pa (instant):reduced_gg:surface:level 0:fcst time 51 hrs:from 201504220000\n",
      "155:10 metre U wind component:m s**-1 (instant):reduced_gg:surface:level 0:fcst time 51 hrs:from 201504220000\n",
      "156:10 metre V wind component:m s**-1 (instant):reduced_gg:surface:level 0:fcst time 51 hrs:from 201504220000\n",
      "157:Mean sea level pressure:Pa (instant):reduced_gg:surface:level 0:fcst time 52 hrs:from 201504220000\n",
      "158:10 metre U wind component:m s**-1 (instant):reduced_gg:surface:level 0:fcst time 52 hrs:from 201504220000\n",
      "159:10 metre V wind component:m s**-1 (instant):reduced_gg:surface:level 0:fcst time 52 hrs:from 201504220000\n",
      "160:Mean sea level pressure:Pa (instant):reduced_gg:surface:level 0:fcst time 53 hrs:from 201504220000\n",
      "161:10 metre U wind component:m s**-1 (instant):reduced_gg:surface:level 0:fcst time 53 hrs:from 201504220000\n",
      "162:10 metre V wind component:m s**-1 (instant):reduced_gg:surface:level 0:fcst time 53 hrs:from 201504220000\n",
      "163:Mean sea level pressure:Pa (instant):reduced_gg:surface:level 0:fcst time 54 hrs:from 201504220000\n",
      "164:10 metre U wind component:m s**-1 (instant):reduced_gg:surface:level 0:fcst time 54 hrs:from 201504220000\n",
      "165:10 metre V wind component:m s**-1 (instant):reduced_gg:surface:level 0:fcst time 54 hrs:from 201504220000\n",
      "166:Mean sea level pressure:Pa (instant):reduced_gg:surface:level 0:fcst time 55 hrs:from 201504220000\n",
      "167:10 metre U wind component:m s**-1 (instant):reduced_gg:surface:level 0:fcst time 55 hrs:from 201504220000\n",
      "168:10 metre V wind component:m s**-1 (instant):reduced_gg:surface:level 0:fcst time 55 hrs:from 201504220000\n",
      "169:Mean sea level pressure:Pa (instant):reduced_gg:surface:level 0:fcst time 56 hrs:from 201504220000\n",
      "170:10 metre U wind component:m s**-1 (instant):reduced_gg:surface:level 0:fcst time 56 hrs:from 201504220000\n",
      "171:10 metre V wind component:m s**-1 (instant):reduced_gg:surface:level 0:fcst time 56 hrs:from 201504220000\n",
      "172:Mean sea level pressure:Pa (instant):reduced_gg:surface:level 0:fcst time 57 hrs:from 201504220000\n",
      "173:10 metre U wind component:m s**-1 (instant):reduced_gg:surface:level 0:fcst time 57 hrs:from 201504220000\n",
      "174:10 metre V wind component:m s**-1 (instant):reduced_gg:surface:level 0:fcst time 57 hrs:from 201504220000\n",
      "175:Mean sea level pressure:Pa (instant):reduced_gg:surface:level 0:fcst time 58 hrs:from 201504220000\n",
      "176:10 metre U wind component:m s**-1 (instant):reduced_gg:surface:level 0:fcst time 58 hrs:from 201504220000\n",
      "177:10 metre V wind component:m s**-1 (instant):reduced_gg:surface:level 0:fcst time 58 hrs:from 201504220000\n",
      "178:Mean sea level pressure:Pa (instant):reduced_gg:surface:level 0:fcst time 59 hrs:from 201504220000\n",
      "179:10 metre U wind component:m s**-1 (instant):reduced_gg:surface:level 0:fcst time 59 hrs:from 201504220000\n",
      "180:10 metre V wind component:m s**-1 (instant):reduced_gg:surface:level 0:fcst time 59 hrs:from 201504220000\n",
      "181:Mean sea level pressure:Pa (instant):reduced_gg:surface:level 0:fcst time 60 hrs:from 201504220000\n",
      "182:10 metre U wind component:m s**-1 (instant):reduced_gg:surface:level 0:fcst time 60 hrs:from 201504220000\n",
      "183:10 metre V wind component:m s**-1 (instant):reduced_gg:surface:level 0:fcst time 60 hrs:from 201504220000\n",
      "184:Mean sea level pressure:Pa (instant):reduced_gg:surface:level 0:fcst time 61 hrs:from 201504220000\n",
      "185:10 metre U wind component:m s**-1 (instant):reduced_gg:surface:level 0:fcst time 61 hrs:from 201504220000\n",
      "186:10 metre V wind component:m s**-1 (instant):reduced_gg:surface:level 0:fcst time 61 hrs:from 201504220000\n",
      "187:Mean sea level pressure:Pa (instant):reduced_gg:surface:level 0:fcst time 62 hrs:from 201504220000\n",
      "188:10 metre U wind component:m s**-1 (instant):reduced_gg:surface:level 0:fcst time 62 hrs:from 201504220000\n",
      "189:10 metre V wind component:m s**-1 (instant):reduced_gg:surface:level 0:fcst time 62 hrs:from 201504220000\n",
      "190:Mean sea level pressure:Pa (instant):reduced_gg:surface:level 0:fcst time 63 hrs:from 201504220000\n",
      "191:10 metre U wind component:m s**-1 (instant):reduced_gg:surface:level 0:fcst time 63 hrs:from 201504220000\n",
      "192:10 metre V wind component:m s**-1 (instant):reduced_gg:surface:level 0:fcst time 63 hrs:from 201504220000\n",
      "193:Mean sea level pressure:Pa (instant):reduced_gg:surface:level 0:fcst time 64 hrs:from 201504220000\n",
      "194:10 metre U wind component:m s**-1 (instant):reduced_gg:surface:level 0:fcst time 64 hrs:from 201504220000\n",
      "195:10 metre V wind component:m s**-1 (instant):reduced_gg:surface:level 0:fcst time 64 hrs:from 201504220000\n",
      "196:Mean sea level pressure:Pa (instant):reduced_gg:surface:level 0:fcst time 65 hrs:from 201504220000\n",
      "197:10 metre U wind component:m s**-1 (instant):reduced_gg:surface:level 0:fcst time 65 hrs:from 201504220000\n",
      "198:10 metre V wind component:m s**-1 (instant):reduced_gg:surface:level 0:fcst time 65 hrs:from 201504220000\n",
      "199:Mean sea level pressure:Pa (instant):reduced_gg:surface:level 0:fcst time 66 hrs:from 201504220000\n",
      "200:10 metre U wind component:m s**-1 (instant):reduced_gg:surface:level 0:fcst time 66 hrs:from 201504220000\n",
      "201:10 metre V wind component:m s**-1 (instant):reduced_gg:surface:level 0:fcst time 66 hrs:from 201504220000\n",
      "202:Mean sea level pressure:Pa (instant):reduced_gg:surface:level 0:fcst time 67 hrs:from 201504220000\n",
      "203:10 metre U wind component:m s**-1 (instant):reduced_gg:surface:level 0:fcst time 67 hrs:from 201504220000\n",
      "204:10 metre V wind component:m s**-1 (instant):reduced_gg:surface:level 0:fcst time 67 hrs:from 201504220000\n",
      "205:Mean sea level pressure:Pa (instant):reduced_gg:surface:level 0:fcst time 68 hrs:from 201504220000\n",
      "206:10 metre U wind component:m s**-1 (instant):reduced_gg:surface:level 0:fcst time 68 hrs:from 201504220000\n",
      "207:10 metre V wind component:m s**-1 (instant):reduced_gg:surface:level 0:fcst time 68 hrs:from 201504220000\n",
      "208:Mean sea level pressure:Pa (instant):reduced_gg:surface:level 0:fcst time 69 hrs:from 201504220000\n",
      "209:10 metre U wind component:m s**-1 (instant):reduced_gg:surface:level 0:fcst time 69 hrs:from 201504220000\n",
      "210:10 metre V wind component:m s**-1 (instant):reduced_gg:surface:level 0:fcst time 69 hrs:from 201504220000\n",
      "211:Mean sea level pressure:Pa (instant):reduced_gg:surface:level 0:fcst time 70 hrs:from 201504220000\n",
      "212:10 metre U wind component:m s**-1 (instant):reduced_gg:surface:level 0:fcst time 70 hrs:from 201504220000\n",
      "213:10 metre V wind component:m s**-1 (instant):reduced_gg:surface:level 0:fcst time 70 hrs:from 201504220000\n",
      "214:Mean sea level pressure:Pa (instant):reduced_gg:surface:level 0:fcst time 71 hrs:from 201504220000\n",
      "215:10 metre U wind component:m s**-1 (instant):reduced_gg:surface:level 0:fcst time 71 hrs:from 201504220000\n",
      "216:10 metre V wind component:m s**-1 (instant):reduced_gg:surface:level 0:fcst time 71 hrs:from 201504220000\n",
      "217:Mean sea level pressure:Pa (instant):reduced_gg:surface:level 0:fcst time 72 hrs:from 201504220000\n",
      "218:10 metre U wind component:m s**-1 (instant):reduced_gg:surface:level 0:fcst time 72 hrs:from 201504220000\n",
      "219:10 metre V wind component:m s**-1 (instant):reduced_gg:surface:level 0:fcst time 72 hrs:from 201504220000\n"
     ]
    }
   ],
   "source": [
    "for ug in u10:\n",
    "    print ug\n",
    "u10.rewind()"
   ]
  },
  {
   "cell_type": "code",
   "execution_count": null,
   "metadata": {
    "collapsed": false
   },
   "outputs": [],
   "source": [
    "for i in range(73):\n",
    "    ui=u10[i+1].data()\n",
    "    ue=dl[3*i+2].data()\n",
    "    print np.array_equal(ui,ue)"
   ]
  },
  {
   "cell_type": "code",
   "execution_count": null,
   "metadata": {
    "collapsed": false
   },
   "outputs": [],
   "source": [
    "filename=glob.glob(path1+'*10V*')\n",
    "v10=pygrib.open(filename[0])\n",
    "for i in range(73):\n",
    "    vi=v10[i+1].data()\n",
    "    ve=dl[3*i+3].data()\n",
    "    print np.array_equal(vi,ve)"
   ]
  },
  {
   "cell_type": "code",
   "execution_count": null,
   "metadata": {
    "collapsed": false
   },
   "outputs": [],
   "source": [
    "filename=glob.glob(path1+'*MSL*')\n",
    "msl=pygrib.open(filename[0])\n",
    "for i in range(73):\n",
    "    pi=msl[i+1].data()\n",
    "    pe=dl[3*i+1].data()\n",
    "    print np.array_equal(pi,pe)"
   ]
  },
  {
   "cell_type": "code",
   "execution_count": null,
   "metadata": {
    "collapsed": false
   },
   "outputs": [],
   "source": []
  }
 ],
 "metadata": {
  "hide_input": false,
  "kernelspec": {
   "display_name": "Python 2",
   "language": "python",
   "name": "python2"
  },
  "language_info": {
   "codemirror_mode": {
    "name": "ipython",
    "version": 2
   },
   "file_extension": ".py",
   "mimetype": "text/x-python",
   "name": "python",
   "nbconvert_exporter": "python",
   "pygments_lexer": "ipython2",
   "version": "2.7.12"
  },
  "latex_envs": {
   "bibliofile": "biblio.bib",
   "cite_by": "apalike",
   "current_citInitial": 1,
   "eqLabelWithNumbers": true,
   "eqNumInitial": 0
  }
 },
 "nbformat": 4,
 "nbformat_minor": 0
}
