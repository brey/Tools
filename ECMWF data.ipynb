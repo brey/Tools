{
 "cells": [
  {
   "cell_type": "markdown",
   "metadata": {},
   "source": [
    "# Available ECMWF data"
   ]
  },
  {
   "cell_type": "markdown",
   "metadata": {},
   "source": [
    "The lab has access to a set of ECMWF data downloaded at the \\\\139.191.244.110\\h\\ECMWH\\ server. These data are stored in 2 folders"
   ]
  },
  {
   "cell_type": "markdown",
   "metadata": {},
   "source": [
    "## WMO essentials"
   ]
  },
  {
   "cell_type": "markdown",
   "metadata": {},
   "source": [
    "The first is the 'bufr' folder which stores for every year starting in 2013 a number of grib files with global data in 0.5 min resolution for a 'msl' (mean surface level) pressure, 'u' & 'v' veloctities, temperature 't' and geopotential height 'gh' at 2 isobaric levels (corresponding to different heights ?) namely 500 hPa and 850 hPa including the forecast for 240 h (10 days).\n",
    "\n",
    "### Note: The resolution of the local data is 0.5 min while the data downloaded from the ECMWF url (see below) have 2.5 min resolution based on the same 0.5 resolution results.\n",
    "\n",
    "Listing the files for the current day gives"
   ]
  },
  {
   "cell_type": "code",
   "execution_count": 3,
   "metadata": {
    "collapsed": false
   },
   "outputs": [],
   "source": [
    "# Note that the above location is mounted on this system at \"/mnt/ECMWF/\"\n",
    "\n",
    "path='/mnt/ECMWF2/'\n",
    "\n",
    "import datetime # for defining the date\n",
    "\n",
    "date=datetime.datetime.today() # get today\n",
    "\n",
    "#date=datetime.datetime.strptime('20160101.00','%Y%m%d.%H') # or fix a time stamp\n",
    "\n",
    "dstr=date.strftime(format='%Y%m%d') # get it in string as it it appear on the file names"
   ]
  },
  {
   "cell_type": "code",
   "execution_count": 4,
   "metadata": {
    "collapsed": false,
    "scrolled": true
   },
   "outputs": [
    {
     "data": {
      "text/plain": [
       "['A_HHXA50ECED140000_C_ECMF_20161214000000_0h_es_gh_500hPa_global_0p5deg_grib2.bin',\n",
       " 'A_HHXA50ECEM140000_C_ECMF_20161214000000_0h_em_gh_500hPa_global_0p5deg_grib2.bin',\n",
       " 'A_HHXA50ECMF140000_C_ECMF_20161214000000_an_gh_500hPa_global_0p5deg_grib2.bin',\n",
       " 'A_HHXE50ECED140000_C_ECMF_20161214000000_24h_es_gh_500hPa_global_0p5deg_grib2.bin',\n",
       " 'A_HHXE50ECEM140000_C_ECMF_20161214000000_24h_em_gh_500hPa_global_0p5deg_grib2.bin',\n",
       " 'A_HHXE50ECMF140000_C_ECMF_20161214000000_24h_gh_500hPa_global_0p5deg_grib2.bin',\n",
       " 'A_HHXI50ECED140000_C_ECMF_20161214000000_48h_es_gh_500hPa_global_0p5deg_grib2.bin',\n",
       " 'A_HHXI50ECEM140000_C_ECMF_20161214000000_48h_em_gh_500hPa_global_0p5deg_grib2.bin',\n",
       " 'A_HHXI50ECMF140000_C_ECMF_20161214000000_48h_gh_500hPa_global_0p5deg_grib2.bin',\n",
       " 'A_HHXK50ECED140000_C_ECMF_20161214000000_72h_es_gh_500hPa_global_0p5deg_grib2.bin',\n",
       " 'A_HHXK50ECEM140000_C_ECMF_20161214000000_72h_em_gh_500hPa_global_0p5deg_grib2.bin',\n",
       " 'A_HHXK50ECMF140000_C_ECMF_20161214000000_72h_gh_500hPa_global_0p5deg_grib2.bin',\n",
       " 'A_HHXM50ECED140000_C_ECMF_20161214000000_96h_es_gh_500hPa_global_0p5deg_grib2.bin',\n",
       " 'A_HHXM50ECEM140000_C_ECMF_20161214000000_96h_em_gh_500hPa_global_0p5deg_grib2.bin',\n",
       " 'A_HHXM50ECMF140000_C_ECMF_20161214000000_96h_gh_500hPa_global_0p5deg_grib2.bin',\n",
       " 'A_HHXO50ECED140000_C_ECMF_20161214000000_120h_es_gh_500hPa_global_0p5deg_grib2.bin',\n",
       " 'A_HHXO50ECEM140000_C_ECMF_20161214000000_120h_em_gh_500hPa_global_0p5deg_grib2.bin',\n",
       " 'A_HHXO50ECMF140000_C_ECMF_20161214000000_120h_gh_500hPa_global_0p5deg_grib2.bin',\n",
       " 'A_HHXQ50ECED140000_C_ECMF_20161214000000_144h_es_gh_500hPa_global_0p5deg_grib2.bin',\n",
       " 'A_HHXQ50ECEM140000_C_ECMF_20161214000000_144h_em_gh_500hPa_global_0p5deg_grib2.bin',\n",
       " 'A_HHXQ50ECMF140000_C_ECMF_20161214000000_144h_gh_500hPa_global_0p5deg_grib2.bin',\n",
       " 'A_HHXS50ECED140000_C_ECMF_20161214000000_168h_es_gh_500hPa_global_0p5deg_grib2.bin',\n",
       " 'A_HHXS50ECEM140000_C_ECMF_20161214000000_168h_em_gh_500hPa_global_0p5deg_grib2.bin',\n",
       " 'A_HHXS50ECMF140000_C_ECMF_20161214000000_168h_gh_500hPa_global_0p5deg_grib2.bin',\n",
       " 'A_HHXT50ECED140000_C_ECMF_20161214000000_240h_es_gh_500hPa_global_0p5deg_grib2.bin',\n",
       " 'A_HHXT50ECEM140000_C_ECMF_20161214000000_240h_em_gh_500hPa_global_0p5deg_grib2.bin',\n",
       " 'A_HHXT50ECMF140000_C_ECMF_20161214000000_240h_gh_500hPa_global_0p5deg_grib2.bin',\n",
       " 'A_HHXW50ECED140000_C_ECMF_20161214000000_192h_es_gh_500hPa_global_0p5deg_grib2.bin',\n",
       " 'A_HHXW50ECEM140000_C_ECMF_20161214000000_192h_em_gh_500hPa_global_0p5deg_grib2.bin',\n",
       " 'A_HHXW50ECMF140000_C_ECMF_20161214000000_192h_gh_500hPa_global_0p5deg_grib2.bin',\n",
       " 'A_HHXY50ECED140000_C_ECMF_20161214000000_216h_es_gh_500hPa_global_0p5deg_grib2.bin',\n",
       " 'A_HHXY50ECEM140000_C_ECMF_20161214000000_216h_em_gh_500hPa_global_0p5deg_grib2.bin',\n",
       " 'A_HHXY50ECMF140000_C_ECMF_20161214000000_216h_gh_500hPa_global_0p5deg_grib2.bin',\n",
       " 'A_HPXA89ECED140000_C_ECMF_20161214000000_0h_es_msl_global_0p5deg_grib2.bin',\n",
       " 'A_HPXA89ECEM140000_C_ECMF_20161214000000_0h_em_msl_global_0p5deg_grib2.bin',\n",
       " 'A_HPXA89ECMF140000_C_ECMF_20161214000000_an_msl_global_0p5deg_grib2.bin',\n",
       " 'A_HPXE89ECED140000_C_ECMF_20161214000000_24h_es_msl_global_0p5deg_grib2.bin',\n",
       " 'A_HPXE89ECEM140000_C_ECMF_20161214000000_24h_em_msl_global_0p5deg_grib2.bin',\n",
       " 'A_HPXE89ECMF140000_C_ECMF_20161214000000_24h_msl_global_0p5deg_grib2.bin',\n",
       " 'A_HPXI89ECED140000_C_ECMF_20161214000000_48h_es_msl_global_0p5deg_grib2.bin',\n",
       " 'A_HPXI89ECEM140000_C_ECMF_20161214000000_48h_em_msl_global_0p5deg_grib2.bin',\n",
       " 'A_HPXI89ECMF140000_C_ECMF_20161214000000_48h_msl_global_0p5deg_grib2.bin',\n",
       " 'A_HPXK89ECED140000_C_ECMF_20161214000000_72h_es_msl_global_0p5deg_grib2.bin',\n",
       " 'A_HPXK89ECEM140000_C_ECMF_20161214000000_72h_em_msl_global_0p5deg_grib2.bin',\n",
       " 'A_HPXK89ECMF140000_C_ECMF_20161214000000_72h_msl_global_0p5deg_grib2.bin',\n",
       " 'A_HPXM89ECED140000_C_ECMF_20161214000000_96h_es_msl_global_0p5deg_grib2.bin',\n",
       " 'A_HPXM89ECEM140000_C_ECMF_20161214000000_96h_em_msl_global_0p5deg_grib2.bin',\n",
       " 'A_HPXM89ECMF140000_C_ECMF_20161214000000_96h_msl_global_0p5deg_grib2.bin',\n",
       " 'A_HPXO89ECED140000_C_ECMF_20161214000000_120h_es_msl_global_0p5deg_grib2.bin',\n",
       " 'A_HPXO89ECEM140000_C_ECMF_20161214000000_120h_em_msl_global_0p5deg_grib2.bin',\n",
       " 'A_HPXO89ECMF140000_C_ECMF_20161214000000_120h_msl_global_0p5deg_grib2.bin',\n",
       " 'A_HPXQ89ECED140000_C_ECMF_20161214000000_144h_es_msl_global_0p5deg_grib2.bin',\n",
       " 'A_HPXQ89ECEM140000_C_ECMF_20161214000000_144h_em_msl_global_0p5deg_grib2.bin',\n",
       " 'A_HPXQ89ECMF140000_C_ECMF_20161214000000_144h_msl_global_0p5deg_grib2.bin',\n",
       " 'A_HPXS89ECED140000_C_ECMF_20161214000000_168h_es_msl_global_0p5deg_grib2.bin',\n",
       " 'A_HPXS89ECEM140000_C_ECMF_20161214000000_168h_em_msl_global_0p5deg_grib2.bin',\n",
       " 'A_HPXS89ECMF140000_C_ECMF_20161214000000_168h_msl_global_0p5deg_grib2.bin',\n",
       " 'A_HPXT89ECED140000_C_ECMF_20161214000000_240h_es_msl_global_0p5deg_grib2.bin',\n",
       " 'A_HPXT89ECEM140000_C_ECMF_20161214000000_240h_em_msl_global_0p5deg_grib2.bin',\n",
       " 'A_HPXT89ECMF140000_C_ECMF_20161214000000_240h_msl_global_0p5deg_grib2.bin',\n",
       " 'A_HPXW89ECED140000_C_ECMF_20161214000000_192h_es_msl_global_0p5deg_grib2.bin',\n",
       " 'A_HPXW89ECEM140000_C_ECMF_20161214000000_192h_em_msl_global_0p5deg_grib2.bin',\n",
       " 'A_HPXW89ECMF140000_C_ECMF_20161214000000_192h_msl_global_0p5deg_grib2.bin',\n",
       " 'A_HPXY89ECED140000_C_ECMF_20161214000000_216h_es_msl_global_0p5deg_grib2.bin',\n",
       " 'A_HPXY89ECEM140000_C_ECMF_20161214000000_216h_em_msl_global_0p5deg_grib2.bin',\n",
       " 'A_HPXY89ECMF140000_C_ECMF_20161214000000_216h_msl_global_0p5deg_grib2.bin',\n",
       " 'A_HTXA85ECED140000_C_ECMF_20161214000000_0h_es_t_850hPa_global_0p5deg_grib2.bin',\n",
       " 'A_HTXA85ECEM140000_C_ECMF_20161214000000_0h_em_t_850hPa_global_0p5deg_grib2.bin',\n",
       " 'A_HTXA85ECMF140000_C_ECMF_20161214000000_an_t_850hPa_global_0p5deg_grib2.bin',\n",
       " 'A_HTXE85ECED140000_C_ECMF_20161214000000_24h_es_t_850hPa_global_0p5deg_grib2.bin',\n",
       " 'A_HTXE85ECEM140000_C_ECMF_20161214000000_24h_em_t_850hPa_global_0p5deg_grib2.bin',\n",
       " 'A_HTXE85ECMF140000_C_ECMF_20161214000000_24h_t_850hPa_global_0p5deg_grib2.bin',\n",
       " 'A_HTXI85ECED140000_C_ECMF_20161214000000_48h_es_t_850hPa_global_0p5deg_grib2.bin',\n",
       " 'A_HTXI85ECEM140000_C_ECMF_20161214000000_48h_em_t_850hPa_global_0p5deg_grib2.bin',\n",
       " 'A_HTXI85ECMF140000_C_ECMF_20161214000000_48h_t_850hPa_global_0p5deg_grib2.bin',\n",
       " 'A_HTXK85ECED140000_C_ECMF_20161214000000_72h_es_t_850hPa_global_0p5deg_grib2.bin',\n",
       " 'A_HTXK85ECEM140000_C_ECMF_20161214000000_72h_em_t_850hPa_global_0p5deg_grib2.bin',\n",
       " 'A_HTXK85ECMF140000_C_ECMF_20161214000000_72h_t_850hPa_global_0p5deg_grib2.bin',\n",
       " 'A_HTXM85ECED140000_C_ECMF_20161214000000_96h_es_t_850hPa_global_0p5deg_grib2.bin',\n",
       " 'A_HTXM85ECEM140000_C_ECMF_20161214000000_96h_em_t_850hPa_global_0p5deg_grib2.bin',\n",
       " 'A_HTXM85ECMF140000_C_ECMF_20161214000000_96h_t_850hPa_global_0p5deg_grib2.bin',\n",
       " 'A_HTXO85ECED140000_C_ECMF_20161214000000_120h_es_t_850hPa_global_0p5deg_grib2.bin',\n",
       " 'A_HTXO85ECEM140000_C_ECMF_20161214000000_120h_em_t_850hPa_global_0p5deg_grib2.bin',\n",
       " 'A_HTXO85ECMF140000_C_ECMF_20161214000000_120h_t_850hPa_global_0p5deg_grib2.bin',\n",
       " 'A_HTXQ85ECED140000_C_ECMF_20161214000000_144h_es_t_850hPa_global_0p5deg_grib2.bin',\n",
       " 'A_HTXQ85ECEM140000_C_ECMF_20161214000000_144h_em_t_850hPa_global_0p5deg_grib2.bin',\n",
       " 'A_HTXQ85ECMF140000_C_ECMF_20161214000000_144h_t_850hPa_global_0p5deg_grib2.bin',\n",
       " 'A_HTXS85ECED140000_C_ECMF_20161214000000_168h_es_t_850hPa_global_0p5deg_grib2.bin',\n",
       " 'A_HTXS85ECEM140000_C_ECMF_20161214000000_168h_em_t_850hPa_global_0p5deg_grib2.bin',\n",
       " 'A_HTXS85ECMF140000_C_ECMF_20161214000000_168h_t_850hPa_global_0p5deg_grib2.bin',\n",
       " 'A_HTXT85ECED140000_C_ECMF_20161214000000_240h_es_t_850hPa_global_0p5deg_grib2.bin',\n",
       " 'A_HTXT85ECEM140000_C_ECMF_20161214000000_240h_em_t_850hPa_global_0p5deg_grib2.bin',\n",
       " 'A_HTXT85ECMF140000_C_ECMF_20161214000000_240h_t_850hPa_global_0p5deg_grib2.bin',\n",
       " 'A_HTXW85ECED140000_C_ECMF_20161214000000_192h_es_t_850hPa_global_0p5deg_grib2.bin',\n",
       " 'A_HTXW85ECEM140000_C_ECMF_20161214000000_192h_em_t_850hPa_global_0p5deg_grib2.bin',\n",
       " 'A_HTXW85ECMF140000_C_ECMF_20161214000000_192h_t_850hPa_global_0p5deg_grib2.bin',\n",
       " 'A_HTXY85ECED140000_C_ECMF_20161214000000_216h_es_t_850hPa_global_0p5deg_grib2.bin',\n",
       " 'A_HTXY85ECEM140000_C_ECMF_20161214000000_216h_em_t_850hPa_global_0p5deg_grib2.bin',\n",
       " 'A_HTXY85ECMF140000_C_ECMF_20161214000000_216h_t_850hPa_global_0p5deg_grib2.bin',\n",
       " 'A_HUXA85ECMF140000_C_ECMF_20161214000000_an_u_850hPa_global_0p5deg_grib2.bin',\n",
       " 'A_HUXE85ECMF140000_C_ECMF_20161214000000_24h_u_850hPa_global_0p5deg_grib2.bin',\n",
       " 'A_HUXI85ECMF140000_C_ECMF_20161214000000_48h_u_850hPa_global_0p5deg_grib2.bin',\n",
       " 'A_HUXK85ECMF140000_C_ECMF_20161214000000_72h_u_850hPa_global_0p5deg_grib2.bin',\n",
       " 'A_HUXM85ECMF140000_C_ECMF_20161214000000_96h_u_850hPa_global_0p5deg_grib2.bin',\n",
       " 'A_HUXO85ECMF140000_C_ECMF_20161214000000_120h_u_850hPa_global_0p5deg_grib2.bin',\n",
       " 'A_HUXQ85ECMF140000_C_ECMF_20161214000000_144h_u_850hPa_global_0p5deg_grib2.bin',\n",
       " 'A_HUXS85ECMF140000_C_ECMF_20161214000000_168h_u_850hPa_global_0p5deg_grib2.bin',\n",
       " 'A_HUXT85ECMF140000_C_ECMF_20161214000000_240h_u_850hPa_global_0p5deg_grib2.bin',\n",
       " 'A_HUXW85ECMF140000_C_ECMF_20161214000000_192h_u_850hPa_global_0p5deg_grib2.bin',\n",
       " 'A_HUXY85ECMF140000_C_ECMF_20161214000000_216h_u_850hPa_global_0p5deg_grib2.bin',\n",
       " 'A_HVXA85ECMF140000_C_ECMF_20161214000000_an_v_850hPa_global_0p5deg_grib2.bin',\n",
       " 'A_HVXE85ECMF140000_C_ECMF_20161214000000_24h_v_850hPa_global_0p5deg_grib2.bin',\n",
       " 'A_HVXI85ECMF140000_C_ECMF_20161214000000_48h_v_850hPa_global_0p5deg_grib2.bin',\n",
       " 'A_HVXK85ECMF140000_C_ECMF_20161214000000_72h_v_850hPa_global_0p5deg_grib2.bin',\n",
       " 'A_HVXM85ECMF140000_C_ECMF_20161214000000_96h_v_850hPa_global_0p5deg_grib2.bin',\n",
       " 'A_HVXO85ECMF140000_C_ECMF_20161214000000_120h_v_850hPa_global_0p5deg_grib2.bin',\n",
       " 'A_HVXQ85ECMF140000_C_ECMF_20161214000000_144h_v_850hPa_global_0p5deg_grib2.bin',\n",
       " 'A_HVXS85ECMF140000_C_ECMF_20161214000000_168h_v_850hPa_global_0p5deg_grib2.bin',\n",
       " 'A_HVXT85ECMF140000_C_ECMF_20161214000000_240h_v_850hPa_global_0p5deg_grib2.bin',\n",
       " 'A_HVXW85ECMF140000_C_ECMF_20161214000000_192h_v_850hPa_global_0p5deg_grib2.bin',\n",
       " 'A_HVXY85ECMF140000_C_ECMF_20161214000000_216h_v_850hPa_global_0p5deg_grib2.bin',\n",
       " 'A_HWXA85ECED140000_C_ECMF_20161214000000_0h_es_ws_850hPa_global_0p5deg_grib2.bin',\n",
       " 'A_HWXA85ECEM140000_C_ECMF_20161214000000_0h_em_ws_850hPa_global_0p5deg_grib2.bin',\n",
       " 'A_HWXE85ECED140000_C_ECMF_20161214000000_24h_es_ws_850hPa_global_0p5deg_grib2.bin',\n",
       " 'A_HWXE85ECEM140000_C_ECMF_20161214000000_24h_em_ws_850hPa_global_0p5deg_grib2.bin',\n",
       " 'A_HWXI85ECED140000_C_ECMF_20161214000000_48h_es_ws_850hPa_global_0p5deg_grib2.bin',\n",
       " 'A_HWXI85ECEM140000_C_ECMF_20161214000000_48h_em_ws_850hPa_global_0p5deg_grib2.bin',\n",
       " 'A_HWXK85ECED140000_C_ECMF_20161214000000_72h_es_ws_850hPa_global_0p5deg_grib2.bin',\n",
       " 'A_HWXK85ECEM140000_C_ECMF_20161214000000_72h_em_ws_850hPa_global_0p5deg_grib2.bin',\n",
       " 'A_HWXM85ECED140000_C_ECMF_20161214000000_96h_es_ws_850hPa_global_0p5deg_grib2.bin',\n",
       " 'A_HWXM85ECEM140000_C_ECMF_20161214000000_96h_em_ws_850hPa_global_0p5deg_grib2.bin',\n",
       " 'A_HWXO85ECED140000_C_ECMF_20161214000000_120h_es_ws_850hPa_global_0p5deg_grib2.bin',\n",
       " 'A_HWXO85ECEM140000_C_ECMF_20161214000000_120h_em_ws_850hPa_global_0p5deg_grib2.bin',\n",
       " 'A_HWXQ85ECED140000_C_ECMF_20161214000000_144h_es_ws_850hPa_global_0p5deg_grib2.bin',\n",
       " 'A_HWXQ85ECEM140000_C_ECMF_20161214000000_144h_em_ws_850hPa_global_0p5deg_grib2.bin',\n",
       " 'A_HWXS85ECED140000_C_ECMF_20161214000000_168h_es_ws_850hPa_global_0p5deg_grib2.bin',\n",
       " 'A_HWXS85ECEM140000_C_ECMF_20161214000000_168h_em_ws_850hPa_global_0p5deg_grib2.bin',\n",
       " 'A_HWXT85ECED140000_C_ECMF_20161214000000_240h_es_ws_850hPa_global_0p5deg_grib2.bin',\n",
       " 'A_HWXT85ECEM140000_C_ECMF_20161214000000_240h_em_ws_850hPa_global_0p5deg_grib2.bin',\n",
       " 'A_HWXW85ECED140000_C_ECMF_20161214000000_192h_es_ws_850hPa_global_0p5deg_grib2.bin',\n",
       " 'A_HWXW85ECEM140000_C_ECMF_20161214000000_192h_em_ws_850hPa_global_0p5deg_grib2.bin',\n",
       " 'A_HWXY85ECED140000_C_ECMF_20161214000000_216h_es_ws_850hPa_global_0p5deg_grib2.bin',\n",
       " 'A_HWXY85ECEM140000_C_ECMF_20161214000000_216h_em_ws_850hPa_global_0p5deg_grib2.bin',\n",
       " 'A_JSXX01ECEP140000_C_ECMP_20161214000000_tropical_cyclone_track_70W_119p6degE_10p1degN_bufr4.bin',\n",
       " 'A_JSXX02ECEP140000_C_ECMP_20161214000000_tropical_cyclone_track_71W_123p8degE_14p1degN_bufr4.bin',\n",
       " 'A_JSXX03ECEP140000_C_ECMP_20161214000000_tropical_cyclone_track_72W_142p4degE_6p6degN_bufr4.bin',\n",
       " 'A_JSXX04ECEP140000_C_ECMP_20161214000000_tropical_cyclone_track_73W_137p8degE_10p2degN_bufr4.bin',\n",
       " 'A_JSXX05ECEP140000_C_ECMP_20161214000000_tropical_cyclone_track_74W_128p9degE_10p3degN_bufr4.bin',\n",
       " 'A_JSXX07ECEP140000_C_ECMP_20161214000000_tropical_cyclone_track_76W_153degE_37p2degN_bufr4.bin',\n",
       " 'A_JSXX08ECEP140000_C_ECMP_20161214000000_tropical_cyclone_track_77W_141p1degE_6p3degN_bufr4.bin',\n",
       " 'A_JSXX09ECEP140000_C_ECMP_20161214000000_tropical_cyclone_track_70E_-133p2degW_18p4degN_bufr4.bin',\n",
       " 'A_JSXX10ECEP140000_C_ECMP_20161214000000_tropical_cyclone_track_71E_-132p7degW_7p2degN_bufr4.bin',\n",
       " 'A_JSXX11ECEP140000_C_ECMP_20161214000000_tropical_cyclone_track_72E_-137p6degW_7p2degN_bufr4.bin',\n",
       " 'A_JSXX12ECEP140000_C_ECMP_20161214000000_tropical_cyclone_track_73E_-134p6degW_7p8degN_bufr4.bin',\n",
       " 'A_JSXX13ECEP140000_C_ECMP_20161214000000_tropical_cyclone_track_74E_-131p3degW_6p2degN_bufr4.bin',\n",
       " 'A_JSXX14ECEP140000_C_ECMP_20161214000000_tropical_cyclone_track_75E_-102p1degW_6p9degN_bufr4.bin',\n",
       " 'A_JSXX15ECEP140000_C_ECMP_20161214000000_tropical_cyclone_track_70L_-18degW_56p8degN_bufr4.bin',\n",
       " 'A_JSXX16ECEP140000_C_ECMP_20161214000000_tropical_cyclone_track_71L_-48p7degW_5p9degN_bufr4.bin',\n",
       " 'A_JSXX17ECEP140000_C_ECMP_20161214000000_tropical_cyclone_track_72L_-20p2degW_7p6degN_bufr4.bin',\n",
       " 'A_JSXX18ECEP140000_C_ECMP_20161214000000_tropical_cyclone_track_70C_-150p9degW_17p6degN_bufr4.bin',\n",
       " 'A_JSXX19ECEP140000_C_ECMP_20161214000000_tropical_cyclone_track_71C_-146p6degW_6p2degN_bufr4.bin',\n",
       " 'A_JSXX20ECEP140000_C_ECMP_20161214000000_tropical_cyclone_track_72C_-156degW_6p6degN_bufr4.bin',\n",
       " 'A_JSXX21ECEP140000_C_ECMP_20161214000000_tropical_cyclone_track_73C_-149p7degW_6p8degN_bufr4.bin',\n",
       " 'A_JSXX22ECEP140000_C_ECMP_20161214000000_tropical_cyclone_track_74C_-141p1degW_9p2degN_bufr4.bin',\n",
       " 'A_JSXX23ECEP140000_C_ECMP_20161214000000_tropical_cyclone_track_70A_73p1degE_11degN_bufr4.bin',\n",
       " 'A_JSXX24ECEP140000_C_ECMP_20161214000000_tropical_cyclone_track_71A_76p6degE_1p6degN_bufr4.bin',\n",
       " 'A_JSXX25ECEP140000_C_ECMP_20161214000000_tropical_cyclone_track_72A_74p1degE_5p9degN_bufr4.bin',\n",
       " 'A_JSXX26ECEP140000_C_ECMP_20161214000000_tropical_cyclone_track_73A_68p3degE_5p5degN_bufr4.bin',\n",
       " 'A_JSXX27ECEP140000_C_ECMP_20161214000000_tropical_cyclone_track_74A_53p8degE_4p8degN_bufr4.bin',\n",
       " 'A_JSXX28ECEP140000_C_ECMP_20161214000000_tropical_cyclone_track_70B_98p4degE_13p2degN_bufr4.bin',\n",
       " 'A_JSXX29ECEP140000_C_ECMP_20161214000000_tropical_cyclone_track_71B_78p9degE_6p8degN_bufr4.bin',\n",
       " 'A_JSXX30ECEP140000_C_ECMP_20161214000000_tropical_cyclone_track_72B_82p9degE_8p3degN_bufr4.bin',\n",
       " 'A_JSXX31ECEP140000_C_ECMP_20161214000000_tropical_cyclone_track_73B_99p9degE_6p6degN_bufr4.bin',\n",
       " 'A_JSXX32ECEP140000_C_ECMP_20161214000000_tropical_cyclone_track_70S_73p9degE_-8p9degS_bufr4.bin',\n",
       " 'A_JSXX33ECEP140000_C_ECMP_20161214000000_tropical_cyclone_track_71S_77p2degE_-9degS_bufr4.bin',\n",
       " 'A_JSXX34ECEP140000_C_ECMP_20161214000000_tropical_cyclone_track_72S_35p2degE_-21p4degS_bufr4.bin',\n",
       " 'A_JSXX35ECEP140000_C_ECMP_20161214000000_tropical_cyclone_track_70U_100p5degE_-12p8degS_bufr4.bin',\n",
       " 'A_JSXX36ECEP140000_C_ECMP_20161214000000_tropical_cyclone_track_71U_105p7degE_-13p1degS_bufr4.bin',\n",
       " 'A_JSXX37ECEP140000_C_ECMP_20161214000000_tropical_cyclone_track_72U_117p8degE_-11p4degS_bufr4.bin',\n",
       " 'A_JSXX38ECEP140000_C_ECMP_20161214000000_tropical_cyclone_track_73U_115p4degE_-13degS_bufr4.bin',\n",
       " 'A_JSXX39ECEP140000_C_ECMP_20161214000000_tropical_cyclone_track_74U_134p4degE_-10p8degS_bufr4.bin',\n",
       " 'A_JSXX40ECEP140000_C_ECMP_20161214000000_tropical_cyclone_track_75U_114p1degE_-14p9degS_bufr4.bin',\n",
       " 'A_JSXX41ECEP140000_C_ECMP_20161214000000_tropical_cyclone_track_76U_126p2degE_-13degS_bufr4.bin',\n",
       " 'A_JSXX42ECEP140000_C_ECMP_20161214000000_tropical_cyclone_track_77U_100p6degE_-11degS_bufr4.bin',\n",
       " 'A_JSXX43ECEP140000_C_ECMP_20161214000000_tropical_cyclone_track_70P_177p3degE_-15p3degS_bufr4.bin',\n",
       " 'A_JSXX44ECEP140000_C_ECMP_20161214000000_tropical_cyclone_track_71P_-173p3degW_-15p2degS_bufr4.bin',\n",
       " 'A_JSXX45ECEP140000_C_ECMP_20161214000000_tropical_cyclone_track_72P_174p7degE_-16p5degS_bufr4.bin',\n",
       " 'A_JSXX46ECEP140000_C_ECMP_20161214000000_tropical_cyclone_track_73P_-174p8degW_-19p1degS_bufr4.bin',\n",
       " 'A_JSXX47ECEP140000_C_ECMP_20161214000000_tropical_cyclone_track_74P_-159p2degW_-17p2degS_bufr4.bin',\n",
       " 'A_JSXX48ECEP140000_C_ECMP_20161214000000_tropical_cyclone_track_75P_-159p2degW_-18p3degS_bufr4.bin',\n",
       " 'A_JSXX49ECEP140000_C_ECMP_20161214000000_tropical_cyclone_track_76P_-171p8degW_-17p7degS_bufr4.bin',\n",
       " 'A_JSXX50ECEP140000_C_ECMP_20161214000000_tropical_cyclone_track_77P_-160p8degW_-21p4degS_bufr4.bin']"
      ]
     },
     "execution_count": 4,
     "metadata": {},
     "output_type": "execute_result"
    }
   ],
   "source": [
    "# list the files for today\n",
    "\n",
    "import os # module for os functions\n",
    "\n",
    "[ f for f in os.listdir(path+'bufr/{}'.format(date.year)) if '{}'.format(dstr) in f ] # list only the files with matching date"
   ]
  },
  {
   "cell_type": "markdown",
   "metadata": {},
   "source": [
    "As you can see above in the same directory there are also bufr files with the tracking of current Tropical cyclones (if any) with their name in the filename as descriptor. \n",
    "\n",
    "The list above (used to ) include the ensemble standart deviation ('es') forecast. We can mask them like... "
   ]
  },
  {
   "cell_type": "code",
   "execution_count": 5,
   "metadata": {
    "collapsed": false
   },
   "outputs": [
    {
     "data": {
      "text/plain": [
       "['A_HHXA50ECED140000_C_ECMF_20161214000000_0h_es_gh_500hPa_global_0p5deg_grib2.bin',\n",
       " 'A_HHXE50ECED140000_C_ECMF_20161214000000_24h_es_gh_500hPa_global_0p5deg_grib2.bin',\n",
       " 'A_HHXI50ECED140000_C_ECMF_20161214000000_48h_es_gh_500hPa_global_0p5deg_grib2.bin',\n",
       " 'A_HHXK50ECED140000_C_ECMF_20161214000000_72h_es_gh_500hPa_global_0p5deg_grib2.bin',\n",
       " 'A_HHXM50ECED140000_C_ECMF_20161214000000_96h_es_gh_500hPa_global_0p5deg_grib2.bin',\n",
       " 'A_HHXO50ECED140000_C_ECMF_20161214000000_120h_es_gh_500hPa_global_0p5deg_grib2.bin',\n",
       " 'A_HHXQ50ECED140000_C_ECMF_20161214000000_144h_es_gh_500hPa_global_0p5deg_grib2.bin',\n",
       " 'A_HHXS50ECED140000_C_ECMF_20161214000000_168h_es_gh_500hPa_global_0p5deg_grib2.bin',\n",
       " 'A_HHXT50ECED140000_C_ECMF_20161214000000_240h_es_gh_500hPa_global_0p5deg_grib2.bin',\n",
       " 'A_HHXW50ECED140000_C_ECMF_20161214000000_192h_es_gh_500hPa_global_0p5deg_grib2.bin',\n",
       " 'A_HHXY50ECED140000_C_ECMF_20161214000000_216h_es_gh_500hPa_global_0p5deg_grib2.bin',\n",
       " 'A_HPXA89ECED140000_C_ECMF_20161214000000_0h_es_msl_global_0p5deg_grib2.bin',\n",
       " 'A_HPXE89ECED140000_C_ECMF_20161214000000_24h_es_msl_global_0p5deg_grib2.bin',\n",
       " 'A_HPXI89ECED140000_C_ECMF_20161214000000_48h_es_msl_global_0p5deg_grib2.bin',\n",
       " 'A_HPXK89ECED140000_C_ECMF_20161214000000_72h_es_msl_global_0p5deg_grib2.bin',\n",
       " 'A_HPXM89ECED140000_C_ECMF_20161214000000_96h_es_msl_global_0p5deg_grib2.bin',\n",
       " 'A_HPXO89ECED140000_C_ECMF_20161214000000_120h_es_msl_global_0p5deg_grib2.bin',\n",
       " 'A_HPXQ89ECED140000_C_ECMF_20161214000000_144h_es_msl_global_0p5deg_grib2.bin',\n",
       " 'A_HPXS89ECED140000_C_ECMF_20161214000000_168h_es_msl_global_0p5deg_grib2.bin',\n",
       " 'A_HPXT89ECED140000_C_ECMF_20161214000000_240h_es_msl_global_0p5deg_grib2.bin',\n",
       " 'A_HPXW89ECED140000_C_ECMF_20161214000000_192h_es_msl_global_0p5deg_grib2.bin',\n",
       " 'A_HPXY89ECED140000_C_ECMF_20161214000000_216h_es_msl_global_0p5deg_grib2.bin',\n",
       " 'A_HTXA85ECED140000_C_ECMF_20161214000000_0h_es_t_850hPa_global_0p5deg_grib2.bin',\n",
       " 'A_HTXE85ECED140000_C_ECMF_20161214000000_24h_es_t_850hPa_global_0p5deg_grib2.bin',\n",
       " 'A_HTXI85ECED140000_C_ECMF_20161214000000_48h_es_t_850hPa_global_0p5deg_grib2.bin',\n",
       " 'A_HTXK85ECED140000_C_ECMF_20161214000000_72h_es_t_850hPa_global_0p5deg_grib2.bin',\n",
       " 'A_HTXM85ECED140000_C_ECMF_20161214000000_96h_es_t_850hPa_global_0p5deg_grib2.bin',\n",
       " 'A_HTXO85ECED140000_C_ECMF_20161214000000_120h_es_t_850hPa_global_0p5deg_grib2.bin',\n",
       " 'A_HTXQ85ECED140000_C_ECMF_20161214000000_144h_es_t_850hPa_global_0p5deg_grib2.bin',\n",
       " 'A_HTXS85ECED140000_C_ECMF_20161214000000_168h_es_t_850hPa_global_0p5deg_grib2.bin',\n",
       " 'A_HTXT85ECED140000_C_ECMF_20161214000000_240h_es_t_850hPa_global_0p5deg_grib2.bin',\n",
       " 'A_HTXW85ECED140000_C_ECMF_20161214000000_192h_es_t_850hPa_global_0p5deg_grib2.bin',\n",
       " 'A_HTXY85ECED140000_C_ECMF_20161214000000_216h_es_t_850hPa_global_0p5deg_grib2.bin',\n",
       " 'A_HWXA85ECED140000_C_ECMF_20161214000000_0h_es_ws_850hPa_global_0p5deg_grib2.bin',\n",
       " 'A_HWXE85ECED140000_C_ECMF_20161214000000_24h_es_ws_850hPa_global_0p5deg_grib2.bin',\n",
       " 'A_HWXI85ECED140000_C_ECMF_20161214000000_48h_es_ws_850hPa_global_0p5deg_grib2.bin',\n",
       " 'A_HWXK85ECED140000_C_ECMF_20161214000000_72h_es_ws_850hPa_global_0p5deg_grib2.bin',\n",
       " 'A_HWXM85ECED140000_C_ECMF_20161214000000_96h_es_ws_850hPa_global_0p5deg_grib2.bin',\n",
       " 'A_HWXO85ECED140000_C_ECMF_20161214000000_120h_es_ws_850hPa_global_0p5deg_grib2.bin',\n",
       " 'A_HWXQ85ECED140000_C_ECMF_20161214000000_144h_es_ws_850hPa_global_0p5deg_grib2.bin',\n",
       " 'A_HWXS85ECED140000_C_ECMF_20161214000000_168h_es_ws_850hPa_global_0p5deg_grib2.bin',\n",
       " 'A_HWXT85ECED140000_C_ECMF_20161214000000_240h_es_ws_850hPa_global_0p5deg_grib2.bin',\n",
       " 'A_HWXW85ECED140000_C_ECMF_20161214000000_192h_es_ws_850hPa_global_0p5deg_grib2.bin',\n",
       " 'A_HWXY85ECED140000_C_ECMF_20161214000000_216h_es_ws_850hPa_global_0p5deg_grib2.bin']"
      ]
     },
     "execution_count": 5,
     "metadata": {},
     "output_type": "execute_result"
    }
   ],
   "source": [
    "all=[ f for f in os.listdir(path+'bufr/{}'.format(date.year)) if '{}'.format(dstr) in f ] # list only the files with matching date\n",
    "[f  for f in all if '{}'.format('_es_') in f]"
   ]
  },
  {
   "cell_type": "markdown",
   "metadata": {},
   "source": [
    "We can get the name of the variable by reading the data, e.g"
   ]
  },
  {
   "cell_type": "code",
   "execution_count": 6,
   "metadata": {
    "collapsed": false
   },
   "outputs": [
    {
     "name": "stdout",
     "output_type": "stream",
     "text": [
      "A_HHXA50ECED140000_C_ECMF_20161214000000_0h_es_gh_500hPa_global_0p5deg_grib2.bin\n",
      "1:Geopotential Height:gpm (instant):regular_ll:isobaricInhPa:level 50000 Pa:fcst time 0 hrs:from 201612140000:ens std dev\n"
     ]
    }
   ],
   "source": [
    "import pygrib # module to read grib files\n",
    "\n",
    "for f in all:\n",
    "    if '{}'.format('_es_') in f:\n",
    "        data=pygrib.open(path+'bufr/{}/'.format(date.year)+f)\n",
    "        print f\n",
    "        print data.message(1)\n",
    "        break"
   ]
  },
  {
   "cell_type": "markdown",
   "metadata": {},
   "source": [
    "The ensemble mean .."
   ]
  },
  {
   "cell_type": "code",
   "execution_count": 7,
   "metadata": {
    "collapsed": false
   },
   "outputs": [
    {
     "data": {
      "text/plain": [
       "['A_HHXA50ECEM140000_C_ECMF_20161214000000_0h_em_gh_500hPa_global_0p5deg_grib2.bin',\n",
       " 'A_HHXE50ECEM140000_C_ECMF_20161214000000_24h_em_gh_500hPa_global_0p5deg_grib2.bin',\n",
       " 'A_HHXI50ECEM140000_C_ECMF_20161214000000_48h_em_gh_500hPa_global_0p5deg_grib2.bin',\n",
       " 'A_HHXK50ECEM140000_C_ECMF_20161214000000_72h_em_gh_500hPa_global_0p5deg_grib2.bin',\n",
       " 'A_HHXM50ECEM140000_C_ECMF_20161214000000_96h_em_gh_500hPa_global_0p5deg_grib2.bin',\n",
       " 'A_HHXO50ECEM140000_C_ECMF_20161214000000_120h_em_gh_500hPa_global_0p5deg_grib2.bin',\n",
       " 'A_HHXQ50ECEM140000_C_ECMF_20161214000000_144h_em_gh_500hPa_global_0p5deg_grib2.bin',\n",
       " 'A_HHXS50ECEM140000_C_ECMF_20161214000000_168h_em_gh_500hPa_global_0p5deg_grib2.bin',\n",
       " 'A_HHXT50ECEM140000_C_ECMF_20161214000000_240h_em_gh_500hPa_global_0p5deg_grib2.bin',\n",
       " 'A_HHXW50ECEM140000_C_ECMF_20161214000000_192h_em_gh_500hPa_global_0p5deg_grib2.bin',\n",
       " 'A_HHXY50ECEM140000_C_ECMF_20161214000000_216h_em_gh_500hPa_global_0p5deg_grib2.bin',\n",
       " 'A_HPXA89ECEM140000_C_ECMF_20161214000000_0h_em_msl_global_0p5deg_grib2.bin',\n",
       " 'A_HPXE89ECEM140000_C_ECMF_20161214000000_24h_em_msl_global_0p5deg_grib2.bin',\n",
       " 'A_HPXI89ECEM140000_C_ECMF_20161214000000_48h_em_msl_global_0p5deg_grib2.bin',\n",
       " 'A_HPXK89ECEM140000_C_ECMF_20161214000000_72h_em_msl_global_0p5deg_grib2.bin',\n",
       " 'A_HPXM89ECEM140000_C_ECMF_20161214000000_96h_em_msl_global_0p5deg_grib2.bin',\n",
       " 'A_HPXO89ECEM140000_C_ECMF_20161214000000_120h_em_msl_global_0p5deg_grib2.bin',\n",
       " 'A_HPXQ89ECEM140000_C_ECMF_20161214000000_144h_em_msl_global_0p5deg_grib2.bin',\n",
       " 'A_HPXS89ECEM140000_C_ECMF_20161214000000_168h_em_msl_global_0p5deg_grib2.bin',\n",
       " 'A_HPXT89ECEM140000_C_ECMF_20161214000000_240h_em_msl_global_0p5deg_grib2.bin',\n",
       " 'A_HPXW89ECEM140000_C_ECMF_20161214000000_192h_em_msl_global_0p5deg_grib2.bin',\n",
       " 'A_HPXY89ECEM140000_C_ECMF_20161214000000_216h_em_msl_global_0p5deg_grib2.bin',\n",
       " 'A_HTXA85ECEM140000_C_ECMF_20161214000000_0h_em_t_850hPa_global_0p5deg_grib2.bin',\n",
       " 'A_HTXE85ECEM140000_C_ECMF_20161214000000_24h_em_t_850hPa_global_0p5deg_grib2.bin',\n",
       " 'A_HTXI85ECEM140000_C_ECMF_20161214000000_48h_em_t_850hPa_global_0p5deg_grib2.bin',\n",
       " 'A_HTXK85ECEM140000_C_ECMF_20161214000000_72h_em_t_850hPa_global_0p5deg_grib2.bin',\n",
       " 'A_HTXM85ECEM140000_C_ECMF_20161214000000_96h_em_t_850hPa_global_0p5deg_grib2.bin',\n",
       " 'A_HTXO85ECEM140000_C_ECMF_20161214000000_120h_em_t_850hPa_global_0p5deg_grib2.bin',\n",
       " 'A_HTXQ85ECEM140000_C_ECMF_20161214000000_144h_em_t_850hPa_global_0p5deg_grib2.bin',\n",
       " 'A_HTXS85ECEM140000_C_ECMF_20161214000000_168h_em_t_850hPa_global_0p5deg_grib2.bin',\n",
       " 'A_HTXT85ECEM140000_C_ECMF_20161214000000_240h_em_t_850hPa_global_0p5deg_grib2.bin',\n",
       " 'A_HTXW85ECEM140000_C_ECMF_20161214000000_192h_em_t_850hPa_global_0p5deg_grib2.bin',\n",
       " 'A_HTXY85ECEM140000_C_ECMF_20161214000000_216h_em_t_850hPa_global_0p5deg_grib2.bin',\n",
       " 'A_HWXA85ECEM140000_C_ECMF_20161214000000_0h_em_ws_850hPa_global_0p5deg_grib2.bin',\n",
       " 'A_HWXE85ECEM140000_C_ECMF_20161214000000_24h_em_ws_850hPa_global_0p5deg_grib2.bin',\n",
       " 'A_HWXI85ECEM140000_C_ECMF_20161214000000_48h_em_ws_850hPa_global_0p5deg_grib2.bin',\n",
       " 'A_HWXK85ECEM140000_C_ECMF_20161214000000_72h_em_ws_850hPa_global_0p5deg_grib2.bin',\n",
       " 'A_HWXM85ECEM140000_C_ECMF_20161214000000_96h_em_ws_850hPa_global_0p5deg_grib2.bin',\n",
       " 'A_HWXO85ECEM140000_C_ECMF_20161214000000_120h_em_ws_850hPa_global_0p5deg_grib2.bin',\n",
       " 'A_HWXQ85ECEM140000_C_ECMF_20161214000000_144h_em_ws_850hPa_global_0p5deg_grib2.bin',\n",
       " 'A_HWXS85ECEM140000_C_ECMF_20161214000000_168h_em_ws_850hPa_global_0p5deg_grib2.bin',\n",
       " 'A_HWXT85ECEM140000_C_ECMF_20161214000000_240h_em_ws_850hPa_global_0p5deg_grib2.bin',\n",
       " 'A_HWXW85ECEM140000_C_ECMF_20161214000000_192h_em_ws_850hPa_global_0p5deg_grib2.bin',\n",
       " 'A_HWXY85ECEM140000_C_ECMF_20161214000000_216h_em_ws_850hPa_global_0p5deg_grib2.bin']"
      ]
     },
     "execution_count": 7,
     "metadata": {},
     "output_type": "execute_result"
    }
   ],
   "source": [
    "[f  for f in all if '{}'.format('_em_') in f] # if any"
   ]
  },
  {
   "cell_type": "code",
   "execution_count": 8,
   "metadata": {
    "collapsed": false
   },
   "outputs": [
    {
     "name": "stdout",
     "output_type": "stream",
     "text": [
      "A_HHXA50ECEM140000_C_ECMF_20161214000000_0h_em_gh_500hPa_global_0p5deg_grib2.bin\n",
      "1:Geopotential Height:gpm (instant):regular_ll:isobaricInhPa:level 50000 Pa:fcst time 0 hrs:from 201612140000:ens mean\n"
     ]
    }
   ],
   "source": [
    "for f in all:\n",
    "    if '{}'.format('_em_') in f:\n",
    "        data=pygrib.open(path+'bufr/{}/'.format(date.year)+f)\n",
    "        print f\n",
    "        print data.message(1)\n",
    "        break"
   ]
  },
  {
   "cell_type": "markdown",
   "metadata": {},
   "source": [
    "The analysis data 'an' which correspond to the WMO essentials found in this webpage http://www.ecmwf.int/en/forecasts/datasets/wmo-essential-based-hres. "
   ]
  },
  {
   "cell_type": "code",
   "execution_count": 9,
   "metadata": {
    "collapsed": false
   },
   "outputs": [
    {
     "data": {
      "text/plain": [
       "['A_HHXA50ECMF140000_C_ECMF_20161214000000_an_gh_500hPa_global_0p5deg_grib2.bin',\n",
       " 'A_HPXA89ECMF140000_C_ECMF_20161214000000_an_msl_global_0p5deg_grib2.bin',\n",
       " 'A_HTXA85ECMF140000_C_ECMF_20161214000000_an_t_850hPa_global_0p5deg_grib2.bin',\n",
       " 'A_HUXA85ECMF140000_C_ECMF_20161214000000_an_u_850hPa_global_0p5deg_grib2.bin',\n",
       " 'A_HVXA85ECMF140000_C_ECMF_20161214000000_an_v_850hPa_global_0p5deg_grib2.bin']"
      ]
     },
     "execution_count": 9,
     "metadata": {},
     "output_type": "execute_result"
    }
   ],
   "source": [
    "[f  for f in all if '{}'.format('_an_') in f]"
   ]
  },
  {
   "cell_type": "code",
   "execution_count": 10,
   "metadata": {
    "collapsed": false
   },
   "outputs": [
    {
     "name": "stdout",
     "output_type": "stream",
     "text": [
      "A_HHXA50ECMF140000_C_ECMF_20161214000000_an_gh_500hPa_global_0p5deg_grib2.bin\n",
      "1:Geopotential Height:gpm (instant):regular_ll:isobaricInhPa:level 50000 Pa:fcst time 0 hrs:from 201612140000\n",
      "A_HPXA89ECMF140000_C_ECMF_20161214000000_an_msl_global_0p5deg_grib2.bin\n",
      "1:Mean sea level pressure:Pa (instant):regular_ll:meanSea:level 0:fcst time 0 hrs:from 201612140000\n",
      "A_HTXA85ECMF140000_C_ECMF_20161214000000_an_t_850hPa_global_0p5deg_grib2.bin\n",
      "1:Temperature:K (instant):regular_ll:isobaricInhPa:level 85000 Pa:fcst time 0 hrs:from 201612140000\n",
      "A_HUXA85ECMF140000_C_ECMF_20161214000000_an_u_850hPa_global_0p5deg_grib2.bin\n",
      "1:U component of wind:m s**-1 (instant):regular_ll:isobaricInhPa:level 85000 Pa:fcst time 0 hrs:from 201612140000\n",
      "A_HVXA85ECMF140000_C_ECMF_20161214000000_an_v_850hPa_global_0p5deg_grib2.bin\n",
      "1:V component of wind:m s**-1 (instant):regular_ll:isobaricInhPa:level 85000 Pa:fcst time 0 hrs:from 201612140000\n"
     ]
    }
   ],
   "source": [
    "for f in all:\n",
    "    if '{}'.format('_an_') in f:\n",
    "        data=pygrib.open(path+'bufr/{}/'.format(date.year)+f)\n",
    "        print f\n",
    "        print data.message(1)\n"
   ]
  },
  {
   "cell_type": "markdown",
   "metadata": {},
   "source": [
    "Note that the reference regular_ll means that the gridtype is 'regular_ll'=Regular longitude/latitude grid (cyl).\n",
    "\n",
    "We can inspect the resolution as follows\n"
   ]
  },
  {
   "cell_type": "code",
   "execution_count": 11,
   "metadata": {
    "collapsed": false
   },
   "outputs": [
    {
     "data": {
      "text/plain": [
       "{'a': 6371229, 'b': 6371229, 'proj': 'cyl'}"
      ]
     },
     "execution_count": 11,
     "metadata": {},
     "output_type": "execute_result"
    }
   ],
   "source": [
    "val=data[1]\n",
    "val.data()\n",
    "val.projparams"
   ]
  },
  {
   "cell_type": "markdown",
   "metadata": {},
   "source": [
    "The later arrays are the latlons of the data. These data can be visualized like this [ECMWFvis](ECMWFvis.ipynb) "
   ]
  },
  {
   "cell_type": "markdown",
   "metadata": {},
   "source": [
    "## Tropical Storms "
   ]
  },
  {
   "cell_type": "markdown",
   "metadata": {},
   "source": [
    "A description for analysing and displaying the information regarding tropical storms can be found here [HECMWF](HECMWF.ipynb)"
   ]
  },
  {
   "cell_type": "markdown",
   "metadata": {},
   "source": [
    "#### High resolution data"
   ]
  },
  {
   "cell_type": "markdown",
   "metadata": {},
   "source": [
    "The second location is the folder 'grib' where we can get daily data in nested folders starting in 2015."
   ]
  },
  {
   "cell_type": "code",
   "execution_count": 12,
   "metadata": {
    "collapsed": false
   },
   "outputs": [
    {
     "data": {
      "text/plain": [
       "['20161213.00.boundary.grib',\n",
       " '20161213.00.precip.grib',\n",
       " '20161213.00.tropical_cyclone.grib',\n",
       " '20161213.00.tropical_cyclone.grib.jrctemp',\n",
       " '20161213.12.boundary.grib',\n",
       " '20161213.12.precip.grib',\n",
       " '20161213.12.tropical_cyclone.grib',\n",
       " '20161213.12.tropical_cyclone.grib.jrctemp',\n",
       " 'Runoff.20161213.00.exp1.Fgrid.netcdf.tar.gz',\n",
       " 'Runoff.20161213.12.exp1.Fgrid.netcdf.tar.gz']"
      ]
     },
     "execution_count": 12,
     "metadata": {},
     "output_type": "execute_result"
    }
   ],
   "source": [
    "path0=path+'grib/{}/{:02d}/{:02d}'.format(date.year,date.month,date.day-1) # we use yesterday for accessing all products\n",
    "lst=os.listdir(path0)\n",
    "lst"
   ]
  },
  {
   "cell_type": "markdown",
   "metadata": {},
   "source": [
    "Find the index of the tropical_cyclone file in the list above"
   ]
  },
  {
   "cell_type": "code",
   "execution_count": 13,
   "metadata": {
    "collapsed": false
   },
   "outputs": [
    {
     "data": {
      "text/plain": [
       "2"
      ]
     },
     "execution_count": 13,
     "metadata": {},
     "output_type": "execute_result"
    }
   ],
   "source": [
    "xf=[x for x in lst if 'tropical' in x]\n",
    "ix=lst.index(xf[0])\n",
    "ix"
   ]
  },
  {
   "cell_type": "markdown",
   "metadata": {},
   "source": [
    "The tropical_cyclone file contains"
   ]
  },
  {
   "cell_type": "code",
   "execution_count": null,
   "metadata": {
    "collapsed": false
   },
   "outputs": [],
   "source": [
    "dl=pygrib.open(path0+'/'+lst[ix])"
   ]
  },
  {
   "cell_type": "code",
   "execution_count": null,
   "metadata": {
    "collapsed": false
   },
   "outputs": [],
   "source": [
    "dl.messages # number of arrays included\n"
   ]
  },
  {
   "cell_type": "code",
   "execution_count": null,
   "metadata": {
    "collapsed": false
   },
   "outputs": [],
   "source": [
    "for g in dl:\n",
    "    print g"
   ]
  },
  {
   "cell_type": "code",
   "execution_count": null,
   "metadata": {
    "collapsed": false
   },
   "outputs": [],
   "source": [
    "dl.rewind()"
   ]
  },
  {
   "cell_type": "markdown",
   "metadata": {},
   "source": [
    "These data include the forecast for 72 hours (every hour) for pressure and U & V velocities at 10 m height. We can scan for e.g. pressure (references) to find..."
   ]
  },
  {
   "cell_type": "code",
   "execution_count": null,
   "metadata": {
    "collapsed": false
   },
   "outputs": [],
   "source": [
    "for g in dl:\n",
    "   if 'pressure' in g.name: print g"
   ]
  },
  {
   "cell_type": "markdown",
   "metadata": {},
   "source": [
    "The resolution is"
   ]
  },
  {
   "cell_type": "code",
   "execution_count": null,
   "metadata": {
    "collapsed": false
   },
   "outputs": [],
   "source": [
    "d=dl[1]\n",
    "d.data()"
   ]
  },
  {
   "cell_type": "code",
   "execution_count": null,
   "metadata": {
    "collapsed": false
   },
   "outputs": [],
   "source": [
    "d.projparams\n",
    "import numpy as np\n",
    "np.shape(d.latlons())"
   ]
  },
  {
   "cell_type": "markdown",
   "metadata": {},
   "source": [
    "The grid type before March 9, 2016 used to be 'reduced_gg' = Reduced Gaussian longitude/latitude grid  (https://en.wikipedia.org/wiki/Gaussian_grid). Note that although the data are in reduced_gg format the pygrib module expands the data in a regular grid \n",
    "(http://old.ecmwf.int/publications/manuals/libraries/interpolation/n640FIS.html).\n",
    "\n",
    "It can be seen that the resolution was ~ 0.14 min. \n",
    "\n",
    "After March 9, 2016 the grid is regular_gg with grid size 2560x5120 and resolution ~ 7.5 km. (https://software.ecmwf.int/wiki/display/FCST/Introducing+the+octahedral+reduced+Gaussian+grid)"
   ]
  },
  {
   "cell_type": "markdown",
   "metadata": {},
   "source": [
    "The other file in the folder is the 'boundary.grib' file. In this file there are the forecast for 24 hours of the following variables"
   ]
  },
  {
   "cell_type": "code",
   "execution_count": null,
   "metadata": {
    "collapsed": false
   },
   "outputs": [],
   "source": [
    "xf=[x for x in lst if 'boundary' in x]\n",
    "ix=lst.index(xf[0])\n",
    "\n",
    "\n",
    "bd=pygrib.open(path0+'/'+lst[ix])\n",
    "var=[]\n",
    "for g in bd:\n",
    "    if not g.name in var: var.append(g.name)\n",
    "        \n",
    "var"
   ]
  },
  {
   "cell_type": "markdown",
   "metadata": {},
   "source": [
    "One can find more info by listing any of them e.g..."
   ]
  },
  {
   "cell_type": "code",
   "execution_count": null,
   "metadata": {
    "collapsed": false
   },
   "outputs": [],
   "source": [
    "bd.rewind()\n",
    "for g in bd:\n",
    "    if var[20] in g.name: print g"
   ]
  },
  {
   "cell_type": "markdown",
   "metadata": {},
   "source": [
    "Finally the 3rd file is the Runoff (https://software.ecmwf.int/wiki/display/S2S/S2S+Surface+Water+Runoff) data in netcdf format. To access these we can use the tarfile module"
   ]
  },
  {
   "cell_type": "code",
   "execution_count": null,
   "metadata": {
    "collapsed": true
   },
   "outputs": [],
   "source": [
    "xf=[x for x in lst if 'Runoff' in x]\n",
    "ix=lst.index(xf[0])\n"
   ]
  },
  {
   "cell_type": "code",
   "execution_count": null,
   "metadata": {
    "collapsed": false
   },
   "outputs": [],
   "source": [
    "\n",
    "import tarfile\n",
    "tlst=[]\n",
    "tar=tarfile.open(path0+'/'+lst[ix], 'r:gz')\n",
    "for f in tar:\n",
    "    print f.name, f.size\n",
    "    tlst.append(f.name)\n",
    "tar.close()  "
   ]
  },
  {
   "cell_type": "markdown",
   "metadata": {},
   "source": [
    "To see inside one of these netcdf files we need to extract it"
   ]
  },
  {
   "cell_type": "code",
   "execution_count": null,
   "metadata": {
    "collapsed": true
   },
   "outputs": [],
   "source": [
    "from netCDF4 import Dataset\n"
   ]
  },
  {
   "cell_type": "code",
   "execution_count": null,
   "metadata": {
    "collapsed": false
   },
   "outputs": [],
   "source": [
    "tar=tarfile.open(path0+'/'+lst[ix], 'r:gz')\n",
    "for member in tar:\n",
    "  f=tar.extract(member, path='tmp/')\n",
    "  break\n",
    "tar.close()"
   ]
  },
  {
   "cell_type": "code",
   "execution_count": null,
   "metadata": {
    "collapsed": true
   },
   "outputs": [],
   "source": [
    "dat=Dataset('tmp/{}'.format(tlst[0]))"
   ]
  },
  {
   "cell_type": "code",
   "execution_count": null,
   "metadata": {
    "collapsed": false
   },
   "outputs": [],
   "source": [
    "print dat"
   ]
  },
  {
   "cell_type": "code",
   "execution_count": null,
   "metadata": {
    "collapsed": false
   },
   "outputs": [],
   "source": [
    "print dat.variables"
   ]
  },
  {
   "cell_type": "markdown",
   "metadata": {},
   "source": [
    "### Note that this files are written twice a day. One can list the files from previous day to verify this"
   ]
  },
  {
   "cell_type": "code",
   "execution_count": null,
   "metadata": {
    "collapsed": false
   },
   "outputs": [],
   "source": [
    "path1=path+'grib/'+str(date.year)+'/'+str(date.month).zfill(2)+'/'+str(date.day).zfill(2)\n",
    "os.listdir(path1)\n"
   ]
  },
  {
   "cell_type": "code",
   "execution_count": null,
   "metadata": {
    "collapsed": false
   },
   "outputs": [],
   "source": []
  }
 ],
 "metadata": {
  "hide_input": false,
  "kernelspec": {
   "display_name": "Python 2",
   "language": "python",
   "name": "python2"
  },
  "language_info": {
   "codemirror_mode": {
    "name": "ipython",
    "version": 2
   },
   "file_extension": ".py",
   "mimetype": "text/x-python",
   "name": "python",
   "nbconvert_exporter": "python",
   "pygments_lexer": "ipython2",
   "version": "2.7.12"
  },
  "latex_envs": {
   "bibliofile": "biblio.bib",
   "cite_by": "apalike",
   "current_citInitial": 1,
   "eqLabelWithNumbers": true,
   "eqNumInitial": 0
  }
 },
 "nbformat": 4,
 "nbformat_minor": 0
}
