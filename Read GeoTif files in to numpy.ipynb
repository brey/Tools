{
 "cells": [
  {
   "cell_type": "markdown",
   "metadata": {},
   "source": [
    "## python function for extracting a window of data from a tiff file"
   ]
  },
  {
   "cell_type": "code",
   "execution_count": 4,
   "metadata": {
    "collapsed": true
   },
   "outputs": [],
   "source": [
    "from osgeo import gdal,gdal_array                                                                                                         \n",
    "import osr                                                                                                                                \n",
    "from bunch import bunchify      "
   ]
  },
  {
   "cell_type": "markdown",
   "metadata": {},
   "source": [
    "This expands the pmap.py module (use from pmap import getmap) "
   ]
  },
  {
   "cell_type": "code",
   "execution_count": 5,
   "metadata": {
    "collapsed": true
   },
   "outputs": [],
   "source": [
    "def getmap(filename,buf=None):                                                                                                                     \n",
    "        dic={}                                                                                                                               \n",
    "        dataset=gdal.Open(filename)                                                                                                          \n",
    "        dic['DRIVER']= dataset.GetDriver().LongName                                                                                          \n",
    "        dic['NCOLS']=dataset.RasterXSize                                                                                                     \n",
    "        dic['NROWS']=dataset.RasterYSize                                                                                                     \n",
    "        dic['GeoTr']=dataset.GetGeoTransform()                                                                                               \n",
    "        dic['Proj']=dataset.GetProjection()                                                                                                  \n",
    "        geotransform = dataset.GetGeoTransform()                                                                                             \n",
    "        if not geotransform is None:                                                                                                         \n",
    "            dic['XSTART']=geotransform[0]                                                                                                     \n",
    "            dic['YSTART']=geotransform[3]                                                                                                     \n",
    "            dic['CELLSIZE']=geotransform[1]                                                                                                   \n",
    "                                                                                                                                          \n",
    "        v = dataset.GetRasterBand(1)\n",
    "        if buf:\n",
    "            [minlon,maxlon,minlat,maxlat]=buf\n",
    "            \n",
    "            gt=dic['GeoTr']\n",
    "            minx = gt[0]                                                                                                                            \n",
    "            miny = gt[3] + dic['NCOLS']*gt[4] + dic['NROWS']*gt[5]                                                                                               \n",
    "            maxx = gt[0] + dic['NCOLS']*gt[1] + dic['NROWS']*gt[2]                                                                                               \n",
    "            maxy = gt[3]                                                                                                                            \n",
    "                                                                                                                                          \n",
    "            lon=np.linspace(minx,maxx,dic['NCOLS'],endpoint=True)                                                                                          \n",
    "            lat=np.linspace(miny,maxy,dic['NROWS'],endpoint=True)                                                                                         \n",
    "\n",
    "            lat=lat[::-1]\n",
    "                                                                                                                                          \n",
    "            i1=np.abs(lon-minlon).argmin()                                                                                                        \n",
    "            if lon[i1] > minlon: i1=i1-1                                                                                                          \n",
    "            i2=np.abs(lon-maxlon).argmin()                                                                                                        \n",
    "            if lon[i2] < maxlon: i2=i2+1                                                                                                          \n",
    "                                                                                                                                          \n",
    "            j1=np.abs(lat-minlat).argmin()                                                                                                        \n",
    "            if lat[j1] > minlat: j1=j1-1                                                                                                          \n",
    "            j2=np.abs(lat-maxlat).argmin()                                                                                                        \n",
    "            if lat[j2] < maxlat: j2=j2+1                                                                                                          \n",
    "                \n",
    "            lons, lats = np.meshgrid(lon[i1:i2],lat[j2:j1])\n",
    "            dic['lons'] = lons\n",
    "            dic['lats'] = lats\n",
    "            dic['data'] = v.ReadAsArray(i1,j2,i2-i1,j1-j2)\n",
    "            \n",
    "            #update the geo reference\n",
    "            tl = list(dic['GeoTr'])\n",
    "            tl[0] = lons.min()\n",
    "            tl[-3] = lats.max()\n",
    "            dic['GeoTr'] = tuple(tl)\n",
    "\n",
    "            dic['NCOLS']=lons.shape[1]\n",
    "            dic['NROWS']=lats.shape[0]\n",
    "        else:\n",
    "           \n",
    "            dic['lons'] = []\n",
    "            dic['lats'] = []\n",
    "            dic['data']=v.ReadAsArray()                                                                                       \n",
    "        \n",
    "        dic['nan']=v.GetNoDataValue()                                                                                                        \n",
    "                                                                                                                                          \n",
    "        dataset=None                                                                                                                         \n",
    "                                                                                                                                          \n",
    "        return bunchify(dic)                                                                                                                 \n"
   ]
  },
  {
   "cell_type": "code",
   "execution_count": 6,
   "metadata": {
    "collapsed": true
   },
   "outputs": [],
   "source": [
    "filename='tmp/wind10mmalakas18w2016091600.tif'"
   ]
  },
  {
   "cell_type": "code",
   "execution_count": 8,
   "metadata": {
    "collapsed": true
   },
   "outputs": [],
   "source": [
    "data = getmap(filename)"
   ]
  },
  {
   "cell_type": "code",
   "execution_count": 9,
   "metadata": {
    "collapsed": false
   },
   "outputs": [
    {
     "data": {
      "text/plain": [
       "Bunch(CELLSIZE=0.04999999999999716, DRIVER='PCRaster Raster File', GeoTr=(106.75, 0.04999999999999716, 0.0, 53.1, 0.0, -0.04999999999999716), NCOLS=1225, NROWS=942, Proj='', XSTART=106.75, YSTART=53.1, data=array([[-999., -999., -999., ..., -999., -999., -999.],\n",
       "       [-999., -999., -999., ..., -999., -999., -999.],\n",
       "       [-999., -999., -999., ..., -999., -999., -999.],\n",
       "       ..., \n",
       "       [-999., -999., -999., ..., -999., -999., -999.],\n",
       "       [-999., -999., -999., ..., -999., -999., -999.],\n",
       "       [-999., -999., -999., ..., -999., -999., -999.]], dtype=float32), lats=[], lons=[], nan=-3.4028234663852886e+38)"
      ]
     },
     "execution_count": 9,
     "metadata": {},
     "output_type": "execute_result"
    }
   ],
   "source": [
    "data"
   ]
  },
  {
   "cell_type": "markdown",
   "metadata": {},
   "source": [
    "## retrieve a window "
   ]
  },
  {
   "cell_type": "code",
   "execution_count": 7,
   "metadata": {
    "collapsed": false
   },
   "outputs": [
    {
     "ename": "NameError",
     "evalue": "name 'minlon' is not defined",
     "output_type": "error",
     "traceback": [
      "\u001b[0;31m---------------------------------------------------------------------------\u001b[0m",
      "\u001b[0;31mNameError\u001b[0m                                 Traceback (most recent call last)",
      "\u001b[0;32m<ipython-input-7-bc1ee43cb074>\u001b[0m in \u001b[0;36m<module>\u001b[0;34m()\u001b[0m\n\u001b[0;32m----> 1\u001b[0;31m \u001b[0mdata\u001b[0m \u001b[0;34m=\u001b[0m \u001b[0mgetmap\u001b[0m\u001b[0;34m(\u001b[0m\u001b[0mfilename\u001b[0m\u001b[0;34m,\u001b[0m\u001b[0mbuf\u001b[0m\u001b[0;34m=\u001b[0m\u001b[0;34m[\u001b[0m\u001b[0mminlon\u001b[0m\u001b[0;34m,\u001b[0m\u001b[0mmaxlon\u001b[0m\u001b[0;34m,\u001b[0m\u001b[0mminlat\u001b[0m\u001b[0;34m,\u001b[0m\u001b[0mmaxlat\u001b[0m\u001b[0;34m]\u001b[0m\u001b[0;34m)\u001b[0m\u001b[0;34m\u001b[0m\u001b[0m\n\u001b[0m",
      "\u001b[0;31mNameError\u001b[0m: name 'minlon' is not defined"
     ]
    }
   ],
   "source": [
    "data = getmap(filename,buf=[minlon,maxlon,minlat,maxlat])"
   ]
  },
  {
   "cell_type": "code",
   "execution_count": null,
   "metadata": {
    "collapsed": true
   },
   "outputs": [],
   "source": []
  }
 ],
 "metadata": {
  "hide_input": false,
  "kernelspec": {
   "display_name": "Python 2",
   "language": "python",
   "name": "python2"
  },
  "language_info": {
   "codemirror_mode": {
    "name": "ipython",
    "version": 2
   },
   "file_extension": ".py",
   "mimetype": "text/x-python",
   "name": "python",
   "nbconvert_exporter": "python",
   "pygments_lexer": "ipython2",
   "version": "2.7.12"
  },
  "latex_envs": {
   "bibliofile": "biblio.bib",
   "cite_by": "apalike",
   "current_citInitial": 1,
   "eqLabelWithNumbers": true,
   "eqNumInitial": 0
  }
 },
 "nbformat": 4,
 "nbformat_minor": 1
}
